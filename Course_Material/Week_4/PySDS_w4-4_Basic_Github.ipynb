{
 "cells": [
  {
   "cell_type": "markdown",
   "metadata": {},
   "source": [
    "**PySDS Week 4. Lecture 4. v1** Author: Bernie Hogan"
   ]
  },
  {
   "cell_type": "markdown",
   "metadata": {},
   "source": [
    "# GitHub Basics \n",
    "\n",
    "At this point you have encountered Github in your work. We seem to download a lot of libraries and other software from there. What is it? Github is an online platform for storing code and software built from that code. GitHub is but one of many implementations of ```git``` which is itself a version control system, or VCS. There's a number of VCSs. Mercurial is one alternative to Git as well as the orignial ```CVS``` which is what was commonly used to manage files before Git came along. Fun fact, Git was created by Linus Torvalds, the creator of Linux. "
   ]
  },
  {
   "cell_type": "markdown",
   "metadata": {},
   "source": [
    "I'll be honest. I don't think I can do a better job than the Git people themselves. Let's switch over to their introductory page on Git for a bit. Run that code and then pop back here. \n",
    "\n",
    "https://guides.github.com/introduction/git-handbook/\n",
    "\n",
    "\\<Fifteen minutes later> \n",
    "\n",
    "Welcome back. Now that we've seen how Git works, I recommend considering using a desktop application, such as GitHub desktop. It's not necessary. Some people really like Git in the shell. But I prefer the features of the app. If you have the app running you can close into desktop. \n",
    "\n",
    "Here are some important things to remember:\n",
    "- You can **clone** a project, which creates your own independent version. \n",
    "- You can further **fork** a project, which links back to the original but is your own variant. This is what you can use to make \"pull requests\", which means that the original project will take code from your forked project. \n",
    "\n",
    "Let's look at this repository. You cannot see it yet as it has not been made public: \n",
    "https://github.com/oxfordinternetinstitute/sds-python\n",
    "\n",
    "On my computer, you can see a 'clone in desktop' button. Let's do that. If you don't have the app, you can also use the same code that we used in the example from github guides. \n",
    "\n",
    "This will now give you in a single directory all of the files from this course that we need with the exception of the Twitter data, which I cannot share publicly as per Twitter's policy. \n",
    "\n",
    "## Why here and not Canvas?\n",
    "\n",
    "Canvas is great for course management but afterwards, it will be hard for me to keep up these files. For now, I'm going to maintain them on GitHub. That means that this includes the assignments _and_ the model answers (mainly written by Patrick Gildersleve). Thus, next year I'll have to come up with newer, even more non-sensical exercises like Haiku, Acrostics and choose-your-own adventures. \n",
    "\n",
    "If you recall from forking the respository, you can consider giving back by creating a pull request from a forked library. If it's a good addition, I'll merge it in! This course is never perfect and never finished. But let's hope that, just like our minds, the repository keeps growing and getting ever more effective at the tasks we set out for it. \n",
    "\n",
    "## When will it be made public? \n",
    "\n",
    "As soon as possible. You have all the files you need in Canvas. However, in Git we have to make sure that we are not sharing data we shouldn't. That includes Twitter data. There is also no reason to share some of the example files. If you'll notice, my repository as a '.gitignore' File. One of the tasks left to do is to ensure that all the correct files that are supposed to be ignored by GitHub are. \n",
    "\n",
    "We also want to display all of the model answers for the various formatives and ensure that all my teaching notes are either integrated but not deleted. It's a lot of work, but it should be done next week. I know the students in the other course will be quite keen to see what we have been up to."
   ]
  },
  {
   "cell_type": "markdown",
   "metadata": {},
   "source": [
    "Final note.\n",
    "\n",
    "As we have been given a leccture on LaTeX it is worth showing that pandas can automatically format a table for LaTeX. "
   ]
  },
  {
   "cell_type": "code",
   "execution_count": null,
   "metadata": {},
   "outputs": [],
   "source": [
    "import pandas as pd \n",
    "\n",
    "x = pd.DataFrame([[2,3],[3,4]])\n",
    "display(x)\n",
    "print(x.to_latex())"
   ]
  }
 ],
 "metadata": {
  "kernelspec": {
   "display_name": "Python 3",
   "language": "python",
   "name": "python3"
  },
  "language_info": {
   "codemirror_mode": {
    "name": "ipython",
    "version": 3
   },
   "file_extension": ".py",
   "mimetype": "text/x-python",
   "name": "python",
   "nbconvert_exporter": "python",
   "pygments_lexer": "ipython3",
   "version": "3.7.0"
  }
 },
 "nbformat": 4,
 "nbformat_minor": 2
}
