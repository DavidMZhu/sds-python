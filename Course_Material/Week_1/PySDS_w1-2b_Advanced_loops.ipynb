{
 "cells": [
  {
   "cell_type": "markdown",
   "metadata": {},
   "source": [
    "**PySDS Week 1. Lecture 2. V1.1** Author: Bernie Hogan"
   ]
  },
  {
   "cell_type": "markdown",
   "metadata": {},
   "source": [
    "# Learning Python: Iterations and control statements\n",
    "\n",
    "# Section 1. For Loops\n",
    "\n",
    "Last time we ended on collections. Often times we want to do something with every element in a collection. To do this we __iterate__ over a collection. To iterate means to start at the beginning of a collection, do something with the first value, then continue until we run out of values. Even though a dictionary is not ordered, it is still iterable, we just don't know the order in which we will iterate. \n",
    "\n",
    "We can imagine iterating over a list and then transforming the values in that list. Imagine you have a list of words and you want to find out the average word length ( $\\bar{x}$, the __arithmetic mean__). You would first sum ( $\\sum$ ) all the words $w$ and then divide this sum by the number of words $n$. In formulae we would say you sum all the elements: \n",
    "\n",
    "$$\\bar{x} = \\frac{1}{n}\\sum_{i=1}^{n} w_i $$\n",
    "\n",
    "In this case, that big E ($\\sum$) means add all the things afterwards in the specified range. The range is specified on the top (in this case $n$ or the number of words). The i = 1 means that we iterate one word after another, rather than skipping a word or taking every third word (in which case it would show $i=3$). \n",
    "\n",
    "Now we can translate this into computer code:\n",
    "\n",
    "\n",
    "~~~ python\n",
    "word_list = [\"apple\",\"banana\",\"chocolate\",\"dumpling\"]\n",
    "\n",
    "word_length_sum = 0\n",
    "\n",
    "for i in words:\n",
    "    word_length_sum = word_length_sum + len(i) # notice we use += here. \n",
    "    \n",
    "n = len(word_list) \n",
    "\n",
    "average_length = word_length_sum / n\n",
    "~~~ \n",
    "\n",
    "Above, the ```for i in words:``` is what defines the loop. It's pretty similar to English. ```i``` is our iterator. We could have named it anything, but traditionally when you don't care what your iterator is called, we use ```i``` for the first loop, ```j``` for an inner loop and ```k``` for a third inner loop. More than three inner loops and you really should rethink your program design. \n",
    "\n",
    "You can notice that ```i``` and ```words``` are variables because they are not given special colors. These colors help us understand which words are system words and which words are user-defined.  This is called __syntax highlighting__. \n",
    "\n",
    "We also use a shortcut above. Recall that in the past we have seen \n",
    "\n",
    "~~~ python \n",
    "result = x + y\n",
    "~~~\n",
    "\n",
    "But if we wanted to add something to an existing variable, like when we add some numbers to a ```total```, we can do this: \n",
    "\n",
    "~~~ python\n",
    "total += y \n",
    "~~~ \n",
    "\n",
    "This is sometimes called __syntactic sugar__ as it is just a way to simplify code. In some languages, there's additional idiom of saying ```x++``` for ```x += 1```. This is where C++ gets its name. Python doesn't have this feature. It's just ```x += 1``` for us. However, later we will see some very clever syntactic sugar in python...all in due course. \n",
    "\n",
    "Below we will practice the concept of a loop and see some of its features. "
   ]
  },
  {
   "cell_type": "code",
   "execution_count": 1,
   "metadata": {},
   "outputs": [
    {
     "name": "stdout",
     "output_type": "stream",
     "text": [
      "7.0\n"
     ]
    }
   ],
   "source": [
    "# As a matter of style I like to define variables before doing my loops. \n",
    "\n",
    "food_list = [\"apple\",\"banana\",\"chocolate\",\"dumpling\"]\n",
    "word_length_sum = 0\n",
    "n = len(food_list) \n",
    "\n",
    "for i in food_list:\n",
    "    word_length_sum += len(i) \n",
    "\n",
    "average_length = word_length_sum / n\n",
    "print(average_length)"
   ]
  },
  {
   "cell_type": "markdown",
   "metadata": {},
   "source": [
    "## Iterating through a dictionary\n",
    "\n",
    "It's pretty obvious how you iterate through a list. One element after the other. But dictionaries have keys and values. What are you iterating over then? It depends on what you ask of python. Try the default: "
   ]
  },
  {
   "cell_type": "code",
   "execution_count": 2,
   "metadata": {},
   "outputs": [
    {
     "name": "stdout",
     "output_type": "stream",
     "text": [
      "salmon\n",
      "enoki\n",
      "apple\n",
      "potato\n"
     ]
    }
   ],
   "source": [
    "food_dict = {'salmon': 'fish', 'enoki': 'mushroom', 'apple': 'Fruit', 'potato': 'Vegetable'}\n",
    "\n",
    "for something in food_dict:\n",
    "    print(something)\n"
   ]
  },
  {
   "cell_type": "markdown",
   "metadata": {},
   "source": [
    "In this case, when we iterate through a dictionary it returns a key each time. First was ```salmon``` (most likely) and then the other foods. Depending on which verion of python you are running, those keys may or may not come down in a specific order. That can be configured but by default you shouldn't rely on a dictionary's order. "
   ]
  },
  {
   "cell_type": "markdown",
   "metadata": {},
   "source": [
    "It appears it printed the keys. Now it seems that we can print the values by using ```food_dict.values()``` or the complete items (i.e., key-value pairs) by using ```food_dict.items()```. Observe: "
   ]
  },
  {
   "cell_type": "code",
   "execution_count": 13,
   "metadata": {},
   "outputs": [
    {
     "name": "stdout",
     "output_type": "stream",
     "text": [
      "salmon\n",
      "enoki\n",
      "apple\n",
      "potato\n",
      "\n",
      "fish\n",
      "mushroom\n",
      "Fruit\n",
      "Vegetable\n",
      "\n",
      "('salmon', 'fish')\n",
      "('enoki', 'mushroom')\n",
      "('apple', 'Fruit')\n",
      "('potato', 'Vegetable')\n"
     ]
    }
   ],
   "source": [
    "food_dict = {'salmon': 'fish', 'enoki': 'mushroom', 'apple': 'Fruit', 'potato': 'Vegetable'}\n",
    "\n",
    "for key in food_dict.keys():\n",
    "    print(key)\n",
    "\n",
    "print()\n",
    "\n",
    "for value in food_dict.values():\n",
    "    print(value)\n",
    "\n",
    "print()\n",
    "\n",
    "for item in food_dict.items():\n",
    "    print(item)"
   ]
  },
  {
   "cell_type": "markdown",
   "metadata": {},
   "source": [
    "### Slight diversion: the tuple\n",
    "\n",
    "Notice how it prints the items as \n",
    "~~~ python \n",
    "('salmon','fish') \n",
    "~~~\n",
    "What is that? Well, it's actually a new kind of collection. A __tuple__. A tuple (I pronounce it like couple) is basically a list except it's immutable and has ```()``` instad of ```[]```. So with a list we could go ```my_list[2] = \"grasshopper\"``` and it would replace the ~~second~~ third element in the list with grasshopper (assuming there's already a third element). With a tuple, you cannot. You can query for the third item in a tuple with ```my_tuple[2]``` but you can't assign a new value. See below (it gives an error).  "
   ]
  },
  {
   "cell_type": "code",
   "execution_count": 16,
   "metadata": {},
   "outputs": [
    {
     "name": "stdout",
     "output_type": "stream",
     "text": [
      "beetle\n",
      "grasshopper\n",
      "beetle\n"
     ]
    },
    {
     "ename": "TypeError",
     "evalue": "'tuple' object does not support item assignment",
     "output_type": "error",
     "traceback": [
      "\u001b[1;31m---------------------------------------------------------------------------\u001b[0m",
      "\u001b[1;31mTypeError\u001b[0m                                 Traceback (most recent call last)",
      "\u001b[1;32m<ipython-input-16-5e616cd2920d>\u001b[0m in \u001b[0;36m<module>\u001b[1;34m()\u001b[0m\n\u001b[0;32m      6\u001b[0m \u001b[0mmy_tuple\u001b[0m \u001b[1;33m=\u001b[0m \u001b[1;33m(\u001b[0m\u001b[1;34m\"ant\"\u001b[0m\u001b[1;33m,\u001b[0m\u001b[1;34m\"ladybug\"\u001b[0m\u001b[1;33m,\u001b[0m\u001b[1;34m\"beetle\"\u001b[0m\u001b[1;33m)\u001b[0m\u001b[1;33m\u001b[0m\u001b[0m\n\u001b[0;32m      7\u001b[0m \u001b[0mprint\u001b[0m\u001b[1;33m(\u001b[0m\u001b[0mmy_tuple\u001b[0m\u001b[1;33m[\u001b[0m\u001b[1;36m2\u001b[0m\u001b[1;33m]\u001b[0m\u001b[1;33m)\u001b[0m\u001b[1;33m\u001b[0m\u001b[0m\n\u001b[1;32m----> 8\u001b[1;33m \u001b[0mmy_tuple\u001b[0m\u001b[1;33m[\u001b[0m\u001b[1;36m2\u001b[0m\u001b[1;33m]\u001b[0m \u001b[1;33m=\u001b[0m \u001b[1;34m\"grasshopper\"\u001b[0m\u001b[1;33m\u001b[0m\u001b[0m\n\u001b[0m\u001b[0;32m      9\u001b[0m \u001b[0mprint\u001b[0m\u001b[1;33m(\u001b[0m\u001b[0mmy_tuple\u001b[0m\u001b[1;33m[\u001b[0m\u001b[1;36m2\u001b[0m\u001b[1;33m]\u001b[0m\u001b[1;33m)\u001b[0m\u001b[1;33m\u001b[0m\u001b[0m\n",
      "\u001b[1;31mTypeError\u001b[0m: 'tuple' object does not support item assignment"
     ]
    }
   ],
   "source": [
    "my_list = [\"ant\",\"ladybug\",\"beetle\"]\n",
    "print(my_list[2])\n",
    "my_list[2] = \"grasshopper\"\n",
    "print(my_list[2])\n",
    "\n",
    "my_tuple = (\"ant\",\"ladybug\",\"beetle\")\n",
    "print(my_tuple[2])\n",
    "my_tuple[2] = \"grasshopper\"\n",
    "print(my_tuple[2])"
   ]
  },
  {
   "cell_type": "markdown",
   "metadata": {},
   "source": [
    "One of the nice things about the fact that ```dict.items()``` returns a tuple is that we can actually make use of this in the ```for``` loop. Instead of ```for i in dict:``` where i would be (key,value) we can literally go ```for thekey,thevalue in dict``` and then do things with these values directly."
   ]
  },
  {
   "cell_type": "code",
   "execution_count": 22,
   "metadata": {},
   "outputs": [],
   "source": [
    "food_dict = {'salmon': 'fish', 'enoki': 'mushroom', 'apple': 'fruit', 'potato': 'vegetable'}\n",
    "\n",
    "for key,value in food_dict.items():\n",
    "    print(key, \"is a\", value)\n",
    "    \n",
    "print()\n",
    "# Reminder: We don't need to use the words 'key' and 'value' \n",
    "for food,foodtype in food_dict.items():\n",
    "    print(food, \"is a\", foodtype)\n",
    "    \n",
    "print()\n",
    "for tuple in food_dict.items():\n",
    "    print(tuple[0], \"is a\", tuple[1])"
   ]
  },
  {
   "cell_type": "markdown",
   "metadata": {},
   "source": [
    "The tuple is not simply for two things together. We can see below the creation of three-element tuples whhich are returned when we iterate through the list that contains the tuples. "
   ]
  },
  {
   "cell_type": "code",
   "execution_count": 4,
   "metadata": {},
   "outputs": [
    {
     "name": "stdout",
     "output_type": "stream",
     "text": [
      "canada\n",
      "uk\n",
      "canada\n",
      "uk\n"
     ]
    }
   ],
   "source": [
    "peoplelist = [ \n",
    "    (\"bernie\",\"canada\",\"toronto\"),\n",
    "    (\"sian\",\"uk\",\"portsmouth\"),\n",
    "]\n",
    "for person,place,school in peoplelist:\n",
    "    print(place)\n",
    "\n",
    "# same data, just indexed differently\n",
    "for element in peoplelist:\n",
    "    print(element[1])"
   ]
  },
  {
   "cell_type": "markdown",
   "metadata": {},
   "source": [
    "# Section 2. If statements and boolean logic. \n",
    "\n",
    "Boolean logic is very useful and really important to computation. If a language can implement the basics of ```not```, ```and``` and ```or``` it can do pretty much any computation with enough memory and time. We use boolean logic to evaluate the truth of a statement. Then if a statement is true, we will ask the computer to do something. We can also ask it to do something else if the statement is false. \n",
    "\n",
    "In python these are the boolean operators: \n",
    "\n",
    "- ```==``` is used for comparison. Does X equal Y? ```x == y```\n",
    "- ```and``` is used to ask if two things are both true. ```x and y```\n",
    "- ```or``` is used to ask if either thing is true. ```x or y```\n",
    "- ```not``` as well as ```!``` are used for not. \n",
    "- ```>``` is used for left side greater than right side. \n",
    "- ```<``` is used for left side less than right side. "
   ]
  },
  {
   "cell_type": "code",
   "execution_count": 23,
   "metadata": {},
   "outputs": [
    {
     "name": "stdout",
     "output_type": "stream",
     "text": [
      "False\n",
      "True\n",
      "False\n",
      "True\n"
     ]
    }
   ],
   "source": [
    "x = 4\n",
    "y = 5\n",
    "z = 5 \n",
    "\n",
    "print( x == y )\n",
    "print( y == z )\n",
    "print( x == y )\n",
    "print( not (x == y) ) "
   ]
  },
  {
   "cell_type": "markdown",
   "metadata": {},
   "source": [
    "Python does comparisons all over the place. Any time you use one of the operators it will evaluate them. But sometimes you want to use these operators to __control the flow__ of a program. For example, if you get some data and it includes a URL you might want to do something with that URL, whereas if it doesn't contain a URL you might want to do something else. For this we use ```if``` and ```else``` statements."
   ]
  },
  {
   "cell_type": "code",
   "execution_count": 24,
   "metadata": {},
   "outputs": [
    {
     "name": "stdout",
     "output_type": "stream",
     "text": [
      "Yes, Z equals 7.\n"
     ]
    }
   ],
   "source": [
    "x = 5 \n",
    "y = 2 \n",
    "z = x + y \n",
    "\n",
    "if z == 7: \n",
    "    print(\"Yes, Z equals 7.\")\n",
    "else:\n",
    "    print(\"My math is not good today.\")"
   ]
  },
  {
   "cell_type": "markdown",
   "metadata": {},
   "source": [
    "You can have nested statements with ```elif``` which is a contraction of ```else if ```."
   ]
  },
  {
   "cell_type": "code",
   "execution_count": 27,
   "metadata": {},
   "outputs": [
    {
     "name": "stdout",
     "output_type": "stream",
     "text": [
      "Hmm...should this be? \n"
     ]
    }
   ],
   "source": [
    "x = 5 \n",
    "y = 5\n",
    "z = x + y \n",
    "\n",
    "if z == 10: \n",
    "    print(\"Hmm...should this be? \")\n",
    "elif z == 7:\n",
    "    print(\"Okay, I was worried for a second there.\")\n",
    "else: \n",
    "    print(\"I give up.\")"
   ]
  },
  {
   "cell_type": "markdown",
   "metadata": {},
   "source": [
    "## Important notes on comparisons \n",
    "\n",
    "### Note 1. You can compare strings. \n",
    "String encodings have code points. These are used to evaluate whether one string is greater than another. So you can ask if ```a > b```. The behavior can be a bit unexpected so I would only use this with caution. For example, what's greater: ```A, a,``` or ```B```? "
   ]
  },
  {
   "cell_type": "code",
   "execution_count": 28,
   "metadata": {},
   "outputs": [
    {
     "name": "stdout",
     "output_type": "stream",
     "text": [
      "Is a > b?\n",
      "False\n",
      "\n",
      "Is A > b?\n",
      "False\n",
      "\n",
      "Is a > A?\n",
      "True\n"
     ]
    }
   ],
   "source": [
    "# String comparisons \n",
    "print(\"Is a > b?\")\n",
    "print('a' > 'b')\n",
    "\n",
    "print(\"\\nIs A > b?\")\n",
    "print('A' > 'b')\n",
    "\n",
    "print(\"\\nIs a > A?\")\n",
    "print('a' > 'A')"
   ]
  },
  {
   "cell_type": "markdown",
   "metadata": {},
   "source": [
    "### Note 2. Zero is False, One is True and the rest don't evaluate well\n",
    "\n",
    "This is the same for a great deal of programming languages. If a variable is ```0``` it will return false. A value of ```1``` will evaluate to ```True```. All other numbers are neither considered ```True``` nor ```False``` on thier own. "
   ]
  },
  {
   "cell_type": "code",
   "execution_count": 29,
   "metadata": {},
   "outputs": [
    {
     "name": "stdout",
     "output_type": "stream",
     "text": [
      "What evalues to 'True'?\n",
      "-1\t False\n",
      "0\t False\n",
      "1\t True\n",
      "2\t False\n",
      "\n",
      "What evalues to 'False'?\n",
      "-1\t False\n",
      "0\t True\n",
      "1\t False\n",
      "2\t False\n"
     ]
    }
   ],
   "source": [
    "print(\"What evalues to 'True'?\")\n",
    "print(\"-1\\t\", -1 == True)\n",
    "print(\"0\\t\",   0 == True)\n",
    "print(\"1\\t\",   1 == True)\n",
    "print(\"2\\t\",   2 == True)\n",
    "\n",
    "\n",
    "print(\"\\nWhat evalues to 'False'?\")\n",
    "\n",
    "print(\"-1\\t\", -1 == False)\n",
    "print(\"0\\t\",   0 == False)\n",
    "print(\"1\\t\",   1 == False)\n",
    "print(\"2\\t\",   2 == False)"
   ]
  },
  {
   "cell_type": "markdown",
   "metadata": {},
   "source": [
    "### Note 3. Not everything that is empty...is False.\n",
    "\n",
    "There are a number of ways of expressing _nothing_ in python. There's the notion of a variable being ```None``` or empty. There's a numeric variable that isn't actullay a number (```nan```, for _Not A Number_ for things that don't compute or are missing), there's the empty string ``` \"\" ``` and I'm sure more. Be extra careful when evaluating these. In general, because you might not be sure if they evaluate to true or false, you should be explicit when doing your compare statements. "
   ]
  },
  {
   "cell_type": "code",
   "execution_count": 4,
   "metadata": {},
   "outputs": [
    {
     "name": "stdout",
     "output_type": "stream",
     "text": [
      "False\n",
      "False\n",
      "Nan is True\n",
      "\n",
      "False\n",
      "False\n",
      "None is not True\n",
      "\n",
      "False\n",
      "False\n"
     ]
    },
    {
     "ename": "TypeError",
     "evalue": "bad operand type for unary ~: 'str'",
     "output_type": "error",
     "traceback": [
      "\u001b[1;31m---------------------------------------------------------------------------\u001b[0m",
      "\u001b[1;31mTypeError\u001b[0m                                 Traceback (most recent call last)",
      "\u001b[1;32m<ipython-input-4-097351d0744f>\u001b[0m in \u001b[0;36m<module>\u001b[1;34m()\u001b[0m\n\u001b[0;32m     22\u001b[0m \u001b[0mprint\u001b[0m\u001b[1;33m(\u001b[0m\u001b[1;34m\"\"\u001b[0m \u001b[1;33m==\u001b[0m \u001b[1;32mFalse\u001b[0m\u001b[1;33m)\u001b[0m\u001b[1;33m\u001b[0m\u001b[0m\n\u001b[0;32m     23\u001b[0m \u001b[1;33m\u001b[0m\u001b[0m\n\u001b[1;32m---> 24\u001b[1;33m \u001b[1;32mif\u001b[0m \u001b[1;33m~\u001b[0m\u001b[1;34m\"\"\u001b[0m\u001b[1;33m:\u001b[0m\u001b[1;33m\u001b[0m\u001b[0m\n\u001b[0m\u001b[0;32m     25\u001b[0m     \u001b[0mprint\u001b[0m\u001b[1;33m(\u001b[0m\u001b[1;34m\"Empty quotes are True\"\u001b[0m\u001b[1;33m)\u001b[0m\u001b[1;33m\u001b[0m\u001b[0m\n\u001b[0;32m     26\u001b[0m \u001b[1;32melse\u001b[0m\u001b[1;33m:\u001b[0m\u001b[1;33m\u001b[0m\u001b[0m\n",
      "\u001b[1;31mTypeError\u001b[0m: bad operand type for unary ~: 'str'"
     ]
    }
   ],
   "source": [
    "import numpy as np # The python numeric package 'numpy'; we will be using this more later.\n",
    "\n",
    "print(np.nan == True)\n",
    "print(np.nan == False)\n",
    "\n",
    "if np.nan: \n",
    "    print(\"Nan is True\")\n",
    "else: \n",
    "    print(\"Nan is False\")\n",
    "\n",
    "print()\n",
    "print(None == True)\n",
    "print(None == False)\n",
    "\n",
    "if None: \n",
    "    print(\"None is True\")\n",
    "else:\n",
    "    print(\"None is not True\")\n",
    "\n",
    "print()\n",
    "print(\"\" == True)\n",
    "print(\"\" == False)\n",
    "\n",
    "if \"\": \n",
    "    print(\"Empty quotes are True\")\n",
    "else:\n",
    "    print(\"Empty quotes are not True\")\n"
   ]
  },
  {
   "cell_type": "markdown",
   "metadata": {},
   "source": [
    "Yeah, it is a bit confusing. This is more to just remind you to be careful. "
   ]
  },
  {
   "cell_type": "markdown",
   "metadata": {},
   "source": [
    "# Section 3. Combining Loops and control statements\n",
    "\n",
    "Often we want to do something under certain conditions. For example, you might loop through a list of email addresses and add the domain name (e.g., gmail.com, yahoo.com, oii.ox.ac.uk, etc..) to a set of domain names if it hasn't appeared before. This means that within each loop you want to include an ```if``` statement. \n",
    "\n",
    "Doing this might involve looping through an awful lot of data and you might also want a way to report on progress along  the way. so for example, if you are examining a million email, then to report every 20,000 email just too remind you that the program isn't stuck in a loop. Here we introduce a function called __enumerate__. This function returns a number every time you go through a loop. See these two examples below, one with a counter and one with enumerate: "
   ]
  },
  {
   "cell_type": "code",
   "execution_count": 31,
   "metadata": {},
   "outputs": [
    {
     "name": "stdout",
     "output_type": "stream",
     "text": [
      "Food number 0 is apple\n",
      "Food number 1 is banana\n",
      "Food number 2 is chocolate\n",
      "Food number 3 is dumpling\n",
      "\n",
      "Food number 0 is apple\n",
      "Food number 1 is banana\n",
      "Food number 2 is chocolate\n",
      "Food number 3 is dumpling\n"
     ]
    }
   ],
   "source": [
    "food_list = [\"apple\",\"banana\",\"chocolate\",\"dumpling\"]\n",
    "\n",
    "counter = 0\n",
    "for i in food_list:\n",
    "    print(\"Food number\",counter,\"is\",i)\n",
    "    counter += 1\n",
    "    \n",
    "print()\n",
    "\n",
    "for c,i in enumerate(food_list):\n",
    "    print(\"Food number\",c,\"is\",i)\n"
   ]
  },
  {
   "cell_type": "markdown",
   "metadata": {},
   "source": [
    "So here is how you would use enumerate to do something every 'nth' time. "
   ]
  },
  {
   "cell_type": "code",
   "execution_count": 5,
   "metadata": {},
   "outputs": [
    {
     "name": "stdout",
     "output_type": "stream",
     "text": [
      "PriNt EveRy ThiRd ChaRacTer of thIs LinE aS uPpeR cAse\n"
     ]
    }
   ],
   "source": [
    "example_str = \"Print every third character of this line as upper case\" \n",
    "outstr = \"\"\n",
    "for c,i in enumerate(example_str):\n",
    "    if c%3==0:\n",
    "        outstr += i.upper()\n",
    "    else:\n",
    "        outstr += i\n",
    "        \n",
    "print(outstr)"
   ]
  },
  {
   "cell_type": "code",
   "execution_count": 33,
   "metadata": {},
   "outputs": [
    {
     "name": "stdout",
     "output_type": "stream",
     "text": [
      "0\n",
      "50\n",
      "100\n",
      "150\n",
      "200\n",
      "250\n",
      "300\n",
      "350\n",
      "400\n",
      "450\n",
      "500\n",
      "550\n",
      "600\n",
      "650\n",
      "700\n",
      "750\n",
      "800\n",
      "850\n",
      "900\n",
      "950\n"
     ]
    }
   ],
   "source": [
    "for i in range(1000):\n",
    "    if i%50 == 0:\n",
    "        print(i)"
   ]
  },
  {
   "cell_type": "markdown",
   "metadata": {},
   "source": [
    "# Section 4. List comprehensions\n",
    "\n",
    "The list comprehension is literally my favorite syntactic sugar in python. You will encounter it all over the place in my code and in other people's code, so it is worth understanding it now. It also will help us think about operating on a full list at a time. This is important as we will be doing this a lot with data later on, by for example, transforming a column of data. \n",
    "\n",
    "The list comprehension is very much like a for loop but is very condensed. \n",
    "\n",
    "Here is an example in the traditional way:\n",
    "\n",
    "~~~ python \n",
    "my_list = [\"allspice\",\"basil\",\"cumin\"]\n",
    "\n",
    "new_list = []\n",
    "for i in my_list:\n",
    "    i = i.upper()\n",
    "    new_list.append(i)\n",
    "~~~\n",
    "\n",
    "Now here it is as a list comprehension: \n",
    "\n",
    "~~~ python\n",
    "my_list = [\"allspice\",\"basil\",\"cumin\"]\n",
    "\n",
    "new_list = [i.upper() for i in my_list]  \n",
    "~~~\n",
    "\n",
    "We have condensed it to one line. But it gets better. You can append a control statement at the end, so it will only include that value if if it meets the condition. For example, only do something if the words are of length 5.\n",
    "\n",
    "~~~ python \n",
    "my_list = [\"allspice\",\"basil\",\"cumin\"]\n",
    "\n",
    "new_list = []\n",
    "for i in my_list:\n",
    "    i = i.upper()\n",
    "    if len(i) == 5:\n",
    "        new_list.append(i)\n",
    "~~~\n",
    "\n",
    "Now here is the same outcome using a list comprehension: \n",
    "\n",
    "~~~ python\n",
    "my_list = [\"allspice\",\"basil\",\"cumin\"]\n",
    "\n",
    "new_list = [i.title() for i in my_list if len(i) == 5]  \n",
    "~~~\n",
    "\n",
    "The second way is much more condensed and yet it still reads in an intelligible way. Try them out below: "
   ]
  },
  {
   "cell_type": "code",
   "execution_count": 36,
   "metadata": {},
   "outputs": [],
   "source": [
    "my_list = [\"allspice\",\"basil\",\"cumin\"]\n",
    "\n",
    "new_list = []\n",
    "for i in my_list:\n",
    "    i = i.title()\n",
    "    if len(i) == 5:\n",
    "        new_list.append(i)\n",
    "\n",
    "print(new_list)"
   ]
  },
  {
   "cell_type": "code",
   "execution_count": null,
   "metadata": {},
   "outputs": [],
   "source": [
    "l = [\"allspice\",\"basil\",\"cumin\"]\n",
    "\n",
    "for i in l: i = i.title().sort().heelo()"
   ]
  },
  {
   "cell_type": "code",
   "execution_count": 36,
   "metadata": {},
   "outputs": [
    {
     "name": "stdout",
     "output_type": "stream",
     "text": [
      "['Basil', 'Cumin']\n",
      "\n",
      "['Basil', 'Cumin']\n"
     ]
    }
   ],
   "source": [
    "my_list = [\"allspice\",\"basil\",\"cumin\"]\n",
    "\n",
    "new_list = [i.title() for i in my_list if len(i) == 5]  \n",
    "\n",
    "print()\n",
    "print(new_list)"
   ]
  },
  {
   "cell_type": "markdown",
   "metadata": {},
   "source": [
    "Here we can see another comparison with the use of for loops and list comprensions"
   ]
  },
  {
   "cell_type": "markdown",
   "metadata": {},
   "source": [
    "# Section 5. While Loops\n",
    "\n",
    "While loops are useful when you want to continue looping through a program until something happens. They are especially useful for opening and closing files as we will see tomorrow. Today however, we will simply use a while loop to ask for a user input. If the input is what we expect then it **breaks** the loop. The basic syntax is: \n",
    "\n",
    "~~~ python \n",
    "while <condition is True>: \n",
    "    do.Something()\n",
    "~~~\n",
    "\n",
    "Often times we just say ```while True``` or ```while 1```. This is an example of an infinite loop and it will not end on its own. To leave such a loop we must explicitly break it. "
   ]
  },
  {
   "cell_type": "code",
   "execution_count": 5,
   "metadata": {},
   "outputs": [
    {
     "name": "stdout",
     "output_type": "stream",
     "text": [
      "1\n"
     ]
    }
   ],
   "source": [
    "import random \n",
    "\n",
    "while 1:\n",
    "    x = True\n",
    "    random_number = random.randint(0,5)\n",
    "    print(random_number)\n",
    "    \n",
    "    if random_number == 1: # If you comment this out, then it will run indefinitely\n",
    "        break              # and you will have to use keyboard I,I or from the menu\n",
    "                           # Kernel -> Restart Kernel. It will lose memory of everything\n",
    "                           # so please try to avoid infinite loops. "
   ]
  }
 ],
 "metadata": {
  "kernelspec": {
   "display_name": "Python 3",
   "language": "python",
   "name": "python3"
  },
  "language_info": {
   "codemirror_mode": {
    "name": "ipython",
    "version": 3
   },
   "file_extension": ".py",
   "mimetype": "text/x-python",
   "name": "python",
   "nbconvert_exporter": "python",
   "pygments_lexer": "ipython3",
   "version": "3.7.0"
  }
 },
 "nbformat": 4,
 "nbformat_minor": 2
}
