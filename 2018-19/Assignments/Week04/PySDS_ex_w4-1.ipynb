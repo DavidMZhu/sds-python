{
 "cells": [
  {
   "cell_type": "markdown",
   "metadata": {},
   "source": [
    "# Week 4. Assignment. \"Come code with me\" \n",
    "\n",
    "Hat tip to Patrick for the name. This week, you will have only one formative and it is a group-work exercise. You will be downloading and working with the data from IMDB. It is available from: https://www.imdb.com/interfaces/ \n",
    "\n",
    "Your goal is to present some findings under the following conditions:\n",
    "1. It has to, in some way, **relate to muppets**. It can be as loose as looking at some of the Muppet guest stars or doing some analysis on the show over time, or others in the franchise. \n",
    "2. It has to use the **user ratings table** somehow. Whether it is ratings of the show, other shows, doesn't matter as long as it's the user ratings table and linked in some way to another table. \n",
    "\n",
    "The findings should be found in a python notebook that is submitted jointly (i.e., one notebook per team). Your fellow classmates will get to see this notebook while you're presenting. Your choice of presentation format (i.e., the notebook, some html page, powerpoint) is up to you as long as it is used to communicate the findings that are present in the notebook and to some extent the journey to get to those findings. \n",
    "\n",
    "If you want to bring in other data such as that from TVdb that's ok, as long as the above two conditions are met and you only submit one file. So adding a .csv file is not possible, getting data from a web query is. Adding data that is pasted into the notebook is technically fine, but kinda hacky. Sometimes you might want to use a string, number or index that is easier to get from the web and copy it in directly, such as a titleID for a show. Certainly! If it is easier that way and scales to your needs here, do it. \n",
    "\n",
    "Your code to produce the findings should be cleanly packaged and submitted by one person. The code will then be available for the other groups to read. The code will be due Wednesday at 2pm as a single notebook file. Then at 2:30 each team will have 12 minutes to discuss what they found with the other groups. This will take the form of a presentation to the class. \n",
    "\n",
    "When all the presentations have been completed, we will have a ranked vote, one vote per person (on a qualtrics survey I'll mail out). Only the winners will be revealed. The ranked vote means that the group in first gets 1 point, the group in second 2 points, etc... The ranks are the summed up for each of the groups and the one with the lowest rank score wins. "
   ]
  },
  {
   "cell_type": "markdown",
   "metadata": {},
   "source": [
    "## Some strategies for dealing with this data: \n",
    "- This is a lot of data. Choose what you want to look at first. Limiting the scope of the data analysis is important. \n",
    "- Try to read in the data, slice it down (for example, removing television episodes will cut the data in more than half, slicing further by year can do even more). To get it more manageable, destroy the larger object. It will be faster loading in the smaller one. \n",
    "- Regular expressions will be slow but possible.\n",
    "- If you merge very large data sets it will take a long time unless you configure the database properly.  \n",
    "- Each zip file from imdb will decompress quite considerably on your computer. But you can make some efficiency gains by loading in the .gzip file directly as seen in the example below. "
   ]
  },
  {
   "cell_type": "code",
   "execution_count": 14,
   "metadata": {},
   "outputs": [
    {
     "name": "stderr",
     "output_type": "stream",
     "text": [
      "C:\\Users\\bernie\\Anaconda3\\lib\\site-packages\\IPython\\core\\interactiveshell.py:2785: DtypeWarning: Columns (5) have mixed types. Specify dtype option on import or set low_memory=False.\n",
      "  interactivity=interactivity, compiler=compiler, result=result)\n"
     ]
    },
    {
     "name": "stdout",
     "output_type": "stream",
     "text": [
      "5353317\n"
     ]
    }
   ],
   "source": [
    "import pandas as pd \n",
    "\n",
    "path_to_data = \"C:\\\\Users\\\\bernie\\\\Documents\\\\GitHub\\\\sds-python\\\\Data_outside_github\\\\\"\n",
    "\n",
    "filein = pd.read_csv(\"%s\\\\title.basics.tsv.gz\" % path_to_data,sep=\"\\t\")\n",
    "print(len(filein))"
   ]
  },
  {
   "cell_type": "markdown",
   "metadata": {},
   "source": [
    "### Consider dividing tasks\n",
    "You might want to subdivide the team and two-three people work in parallel, or have one person typing commands while others come up with what to ask of the data in a round table. With respect to tasks some people might be good at putting a presentation together aesthetically while others might be more comfortable talking. If one person is doing all the coding, you're doing it wrong. Think about using google chat, slack or telegram for copying and pasting code snippets to each other.\n",
    "\n",
    "Find a spot in St. Cross or OII somewhere where there might be less cross talk between teams. \n",
    "\n",
    "Finally, this task is useful but don't go overboard as a team. If you're workig after hours keep it reasonable. This is not _eXtreme_ hackathoning, it's an exercise in collaborative curiosity. It's the day before Halloween. It should be what you could reasonably expect given the circumstances. "
   ]
  }
 ],
 "metadata": {
  "kernelspec": {
   "display_name": "Python 3",
   "language": "python",
   "name": "python3"
  },
  "language_info": {
   "codemirror_mode": {
    "name": "ipython",
    "version": 3
   },
   "file_extension": ".py",
   "mimetype": "text/x-python",
   "name": "python",
   "nbconvert_exporter": "python",
   "pygments_lexer": "ipython3",
   "version": "3.7.0"
  }
 },
 "nbformat": 4,
 "nbformat_minor": 2
}
