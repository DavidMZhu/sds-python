{
 "cells": [
  {
   "cell_type": "markdown",
   "metadata": {},
   "source": [
    "**PySDS Week 02 Day 04 v.1 - Friday Formative - Merging DataFrames**"
   ]
  },
  {
   "cell_type": "markdown",
   "metadata": {},
   "source": [
    "# Exercise 1. Merging and reporting on data\n",
    "\n",
    "Recall that we have a table called PySDS_PolCandidates.csv. This table has a list of candidates with Twitter accounts. We also now have a database of tweets captured on the 5th and 6th of May, 2015 by British Politicians. The expanded dataset includes the set of tweets as replies to these politicians, but that is not being used here."
   ]
  },
  {
   "cell_type": "code",
   "execution_count": 28,
   "metadata": {},
   "outputs": [
    {
     "name": "stdout",
     "output_type": "stream",
     "text": [
      "Before filtering there were Ellipsis Tweets and Ellipsis accounts. \n",
      "After filtering there were Ellipsis Tweets and Ellipsis accounts.\n"
     ]
    }
   ],
   "source": [
    "# Question 1.1: There are accounts in the roottweets database that are \n",
    "# not in the PolCandidates list and vice versa. \n",
    "# Filter the roottweets table / dataframe down to only the candidates \n",
    "# in the PolCandidates table. Then enter the values in the sentence below. \n",
    "\n",
    "\n",
    "######################################\n",
    "# Answer Below Here \n",
    "\n",
    "before_tweets = ...\n",
    "before_accounts = ... \n",
    "after_tweets = ...\n",
    "after_accounts = ...\n",
    "\n",
    "print( \"Before filtering there were %s Tweets and %s accounts.\" % (before_tweets, before_accounts),\n",
    "      \"\\nAfter filtering there were %s Tweets and %s accounts.\" % (after_tweets,after_accounts)\n",
    "     )"
   ]
  },
  {
   "cell_type": "code",
   "execution_count": null,
   "metadata": {},
   "outputs": [],
   "source": [
    "#####################################\n",
    "# Question 1.1\n",
    "# TA comments below here \n",
    "\n",
    "# ___ / 5. \n",
    "# Comments:\n",
    "'''\n",
    "\n",
    "'''\n"
   ]
  },
  {
   "cell_type": "code",
   "execution_count": 29,
   "metadata": {},
   "outputs": [
    {
     "name": "stdout",
     "output_type": "stream",
     "text": [
      "The Ellipsis candidates from the Conservative party sent Ellipsis root tweets. The top tweeter was Ellipsis with Ellipsis tweets\n",
      "The Ellipsis candidates from the Labour party sent Ellipsis root tweets. The top tweeter was Ellipsis with Ellipsis tweets\n"
     ]
    }
   ],
   "source": [
    "# Question 1.2: Using the newly filtered table, merge in the candidates' political \n",
    "# party from PolCandidates. Use this to enter values in the sentence below. \n",
    "\n",
    "######################################\n",
    "# Answer Below Here \n",
    "\n",
    "conservative_candidates_count = ...\n",
    "conservative_tweets_count = ...\n",
    "top_con_tweeter = ...\n",
    "top_con_tweet_count = ... \n",
    "\n",
    "labour_candidates_count = ...\n",
    "labour_tweets_count = ...\n",
    "top_labour_tweeter = ...\n",
    "top_labour_tweet_count = ...\n",
    "\n",
    "print(\"The %s candidates from the Conservative party sent %s root tweets. The top tweeter was %s with %s tweets\" \\\n",
    "      % (conservative_candidates_count, conservative_tweets_count, top_con_tweeter, top_con_tweet_count))\n",
    "\n",
    "print(\"The %s candidates from the Labour party sent %s root tweets. The top tweeter was %s with %s tweets\" \\\n",
    "      % (labour_candidates_count, labour_tweets_count, top_labour_tweeter, top_labour_tweet_count))\n"
   ]
  },
  {
   "cell_type": "code",
   "execution_count": null,
   "metadata": {},
   "outputs": [],
   "source": [
    "#####################################\n",
    "# Question 1.2\n",
    "# TA comments below here \n",
    "\n",
    "# ___ / 5. \n",
    "# Comments:\n",
    "'''\n",
    "\n",
    "'''"
   ]
  },
  {
   "cell_type": "markdown",
   "metadata": {},
   "source": [
    "# Exercise 2. An acrostic of tweets. "
   ]
  },
  {
   "cell_type": "code",
   "execution_count": 1,
   "metadata": {},
   "outputs": [
    {
     "data": {
      "text/plain": [
       "'\\nUsing tweets that <user defined> I made an acrostic: \\n\\nTweets \\nRarely \\nAccommodate\\nPoliticians\\n\\nUsing the same set of tweets, now you try to make one: \\n[                            ]\\n'"
      ]
     },
     "execution_count": 1,
     "metadata": {},
     "output_type": "execute_result"
    }
   ],
   "source": [
    "#################################################################\n",
    "#\n",
    "# Perhaps\n",
    "# You'd\n",
    "# Take\n",
    "# Hacking\n",
    "# Over\n",
    "# Nothing?\n",
    "#\n",
    "# See https://en.wikipedia.org/wiki/Acrostic\n",
    "#\n",
    "# Fun Fact! Lewis Carroll's Through the Looking Glass contained a \n",
    "# poem with an acrostic of the full name of the real-life Alice. \n",
    "# \n",
    "#################################################################\n",
    "\n",
    "# This exercise consists of two parts. In the first, you have to\n",
    "# print out an acrostic. You select a codephrase, and then the words that \n",
    "# are printed on each line should come from the tweets database. They do not \n",
    "# have to come from the filtered table unless you want the party affiliation.\n",
    "# \n",
    "# The horizontal words for the acrostic should be the first word of the \n",
    "# tweet. They should also be filtered somehow, such as 'tweets from the  \n",
    "# Liberal Democrat party', 'tweets with a url', or 'tweets that have an \n",
    "# @mention' in them.\n",
    "#\n",
    "# The second part is that you have to then provide a user input prompt\n",
    "# so that a user can see if they can make an acrostic with the same \n",
    "# set of tweets. If they can (i.e. the codephrase's letters are all contained\n",
    "# within the set of tweets), print out the acrostic. Otherwise, let the user \n",
    "# know that the program cannot find an acrostic with that phrase. Ask them to \n",
    "# please try another phrase, or type \"exit()\" to exit. \n",
    "#\n",
    "'''\n",
    "Using tweets that <user defined> I made an acrostic: \n",
    "\n",
    "Tweets \n",
    "Rarely \n",
    "Accommodate\n",
    "Politicians\n",
    "\n",
    "Using the same set of tweets, now you try to make one: \n",
    "[                            ]\n",
    "'''\n",
    "\n",
    "\n",
    "# Notes: \n",
    "# - Each line in the acrostic should be a unique word, even if the codephrase \n",
    "#       has two of the same letter.  \n",
    "# - Your acrostic codephrase has to be longer than 5 characters. \n",
    "# - Dont worry about representing lower/uppper case, spaces, or punctuation in \n",
    "#       your acrostic, but assume that users will try to type that in \n",
    "#       the input box.\n",
    "# - If the user's attempted acrostic codephrase doesn't work\n",
    "#       then it should let the user try again. \n",
    "# - The codephrase should make sense, but I fully expect the word list\n",
    "#       from tweets not to make a lot of sense. \n",
    "# - If you find that the first word doesn't cut it, you can take the first \n",
    "#       'non-tweet' as in the first non-[\"rt\", \"@mention\", \"#hashtag\"]\n",
    "#\n",
    "# hint: df['first_word'] = df[\"text\"].map(lambda x: cleanWord(x))\n",
    "\n",
    "#\n",
    "#\n",
    "# Rubric\n",
    "# 5 pts. Functionality: Does your code work as directed (to test: \n",
    "#             we would enter your codephrase as input)\n",
    "# 5 pts.  Robustness: Will user input break the code? How does it handle junk characters?\n",
    "              \n",
    "# 5 pts.  Code factoring: e.g., how well did you use functions/data strutures \n",
    "#             to help manage your queries?\n",
    "# 5 pts.  Complexity of the filter on the tweets:  A relative / subjective \n",
    "#             assessment based on how you decided to filter and select tweets)\n",
    "\n",
    "######################################\n",
    "# Answer Below Here "
   ]
  },
  {
   "cell_type": "code",
   "execution_count": null,
   "metadata": {},
   "outputs": [],
   "source": [
    "#####################################\n",
    "# TA comments below here \n",
    "\n",
    "# Functionality: \n",
    "# ___ / 5. \n",
    "# Comments \n",
    "'''\n",
    "\n",
    "'''\n",
    "\n",
    "# Robustness: \n",
    "# ___ / 5. \n",
    "# Comments \n",
    "'''\n",
    "\n",
    "'''\n",
    "\n",
    "# Code Factoring: \n",
    "# ___ / 5. \n",
    "# Comments \n",
    "'''\n",
    "\n",
    "'''\n",
    "\n",
    "# Filter Complexity: \n",
    "# ___ / 5. \n",
    "# Comments \n",
    "'''\n",
    "\n",
    "'''"
   ]
  },
  {
   "cell_type": "code",
   "execution_count": null,
   "metadata": {},
   "outputs": [],
   "source": []
  }
 ],
 "metadata": {
  "kernelspec": {
   "display_name": "Python 3",
   "language": "python",
   "name": "python3"
  },
  "language_info": {
   "codemirror_mode": {
    "name": "ipython",
    "version": 3
   },
   "file_extension": ".py",
   "mimetype": "text/x-python",
   "name": "python",
   "nbconvert_exporter": "python",
   "pygments_lexer": "ipython3",
   "version": "3.7.0"
  }
 },
 "nbformat": 4,
 "nbformat_minor": 2
}
