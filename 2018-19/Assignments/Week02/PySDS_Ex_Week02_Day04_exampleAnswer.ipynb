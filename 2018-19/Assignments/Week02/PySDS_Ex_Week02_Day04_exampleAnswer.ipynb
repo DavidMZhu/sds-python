{
 "cells": [
  {
   "cell_type": "markdown",
   "metadata": {},
   "source": [
    "# Bernie's acrostic code\n",
    "See this as an example of the assignment, question 3."
   ]
  },
  {
   "cell_type": "code",
   "execution_count": null,
   "metadata": {},
   "outputs": [],
   "source": [
    "import sqlite3\n",
    "import pandas as pd \n",
    "\n",
    "def cleanTweet(df):\n",
    "    df['first_word'] = df[\"text\"].map(lambda x: cleanWord(x,-1))\n",
    "    df['first_letter'] = df[\"first_word\"].map(lambda x: charZero(x))\n",
    "    return df\n",
    "\n",
    "def cleanWord (text,whichword=0):\n",
    "    l = text.split()\n",
    "    new_word_list = []\n",
    "    for i in l:\n",
    "        if i[0] == \"@\" or i ==\"RT\" or i[0] == \"#\" or i[0:4] == \"http\":\n",
    "            pass\n",
    "        elif i[0].isalpha() and i[-1].isalpha():\n",
    "            new_word_list.append(i)\n",
    "\n",
    "    if len(new_word_list) >= 1:\n",
    "        \n",
    "        return new_word_list[whichword]\n",
    "    else:\n",
    "        return \"\"\n",
    "\n",
    "def charZero(word):\n",
    "    if len(word) >= 1:\n",
    "        return word[0].lower()\n",
    "    else:\n",
    "        return None\n",
    "    \n",
    "def cleanOutstr( inword):\n",
    "    l = []\n",
    "    for i in inword:\n",
    "        if i.isalpha():\n",
    "            l.append(i.lower())\n",
    "    return l\n",
    "\n",
    "def getAcrostic(df,codephrase=\"gross, the best words\"):\n",
    "    outstr = \"\"\n",
    "    wordSet = set([])\n",
    "    for i in cleanOutstr(codephrase):    \n",
    "        x = df[df['first_letter']==i].index\n",
    "#         print(x)\n",
    "        \n",
    "        found = False\n",
    "        for j in x: \n",
    "            word = df.iloc[j][\"first_word\"]\n",
    "            if word not in wordSet:\n",
    "                wordSet.add(word)\n",
    "                outstr += word + \"\\n\"\n",
    "                found = True\n",
    "                break\n",
    "        if not found:\n",
    "            return False\n",
    "    return outstr\n",
    "\n",
    "\n",
    "\n",
    "df = pd.read_sql(\"select * from roottweets\",sqlite3.connect(\"PySDS_ElectionData_2015_may5-6.db\"))\n",
    "df1 = cleanTweet(df)\n",
    "\n",
    "DEMO = \"letter\"\n",
    "output = \"Using tweets that are not filtered I made an acrostic\\n\\n\"\n",
    "output += getAcrostic(df1, DEMO)\n",
    "output += \"\\n\\nUsing the same set of tweets, now you try to make one:\""
   ]
  },
  {
   "cell_type": "code",
   "execution_count": null,
   "metadata": {},
   "outputs": [],
   "source": [
    "print(output)\n",
    "print (getAcrostic(df1,input()))"
   ]
  }
 ],
 "metadata": {
  "kernelspec": {
   "display_name": "Python 3",
   "language": "python",
   "name": "python3"
  },
  "language_info": {
   "codemirror_mode": {
    "name": "ipython",
    "version": 3
   },
   "file_extension": ".py",
   "mimetype": "text/x-python",
   "name": "python",
   "nbconvert_exporter": "python",
   "pygments_lexer": "ipython3",
   "version": "3.7.0"
  }
 },
 "nbformat": 4,
 "nbformat_minor": 2
}
