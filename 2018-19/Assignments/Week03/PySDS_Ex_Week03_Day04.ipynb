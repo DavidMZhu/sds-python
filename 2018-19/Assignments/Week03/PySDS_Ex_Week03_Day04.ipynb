{
 "cells": [
  {
   "cell_type": "markdown",
   "metadata": {},
   "source": [
    "**PySDS Week 03 Day 04 v.1** - Friday Formative"
   ]
  },
  {
   "cell_type": "markdown",
   "metadata": {},
   "source": [
    "# Exercise: DIYAPI\n",
    "\n",
    "For today's formative, you will have to authenticate to an API and download a sufficient amount of data to make a staitistical relationship. The relationship does not have to be statistically significant but you should test for it. Below are some basic methods of testing statistical relatinships. This list is definitely non-exhaustive. You are not asked whether the data is representative or what is the statistical power of the relationship. \n",
    "\n",
    "Constraints. \n",
    "- It **cannot be an API** used in the course already. It can't be Twitter, Wikipedia, TheTVDb or Reddit, for example. \n",
    "- There must be some sort of **authentication** involved. This can happen through a specialised python package or through a DIY approach as shown with TheTVDb. \n",
    "\n",
    "Rubric for today:\n",
    "\n",
    "**functional** - does your code run* [8pts]: This is a little more complex than in past formatives. This is because running is most likely to involve authentication that is not available to the researcher. If you cannot create a dummy account whose credentials you can share with the researcher, try to store the token as printed here. We cannot guarantee we can run the code, but we will try. \n",
    "\n",
    "**Code well organized** [4pts]: Do you have spaghetti code like the top example in the Friday lecture or more cohesive code like what was reported at the end of the lecture? Did you use comments to denote careful decisions? \n",
    "\n",
    "**Data wrangled well** [4pts]: The data that is returned - how has it been treated? Were any checks done for missing data or looking for outliers? \n",
    "\n",
    "**Test/output makes sense** [4pts]: When reporting on your statistical relationship, are you making sense of it correctly? Are you framing a significant or non-significant relationship appropriately."
   ]
  },
  {
   "cell_type": "markdown",
   "metadata": {},
   "source": [
    "Below are some code snippets to help you plan your analysis"
   ]
  },
  {
   "cell_type": "code",
   "execution_count": 4,
   "metadata": {},
   "outputs": [
    {
     "data": {
      "text/plain": [
       "(0.17857142857142855, 0.6726038174415168, 1, array([[1.2, 1.8],\n",
       "        [2.8, 4.2]]))"
      ]
     },
     "execution_count": 4,
     "metadata": {},
     "output_type": "execute_result"
    }
   ],
   "source": [
    "x = [1,2,3,4,5, 6, 7, 8, 9]\n",
    "y = [2,4,6,8,10,12,17,16,18]\n",
    "\n",
    "from scipy import stats\n",
    "\n",
    "# A non-exhaustive list of some statistical tests:\n",
    "#\n",
    "# independent samples t-test\n",
    "# https://docs.scipy.org/doc/scipy/reference/generated/scipy.stats.ttest_ind.html\n",
    "\n",
    "# Two different distributions (are the means different?)\n",
    "stats.ttest_ind(x,y)\n",
    "\n",
    "# paird samples t-test (two measure measurements for same cases - did the mean change?)\n",
    "stats.ttest_rel(x,y)\n",
    "\n",
    "# Mann-whitney U (two non parametric vars: Does the mean rank-order change?) \n",
    "stats.mannwhitneyu(x,y)\n",
    "\n",
    "# Pearson's r. (The correlation between two variables)\n",
    "stats.pearsonr(x,y)\n",
    "\n",
    "table = [[1,2],[3,4]]\n",
    "# One way anova (significant difference on a continuous variable for n categories)\n",
    "stats.f_oneway(table)\n",
    "\n",
    "# Chi square.. (Observed versus expected categories in a categorical table)\n",
    "stats.chi2_contingency(table)\n"
   ]
  },
  {
   "cell_type": "code",
   "execution_count": 6,
   "metadata": {},
   "outputs": [],
   "source": [
    "####################################\n",
    "# Answer code below here \n",
    "\n",
    "\n",
    "\n"
   ]
  },
  {
   "cell_type": "markdown",
   "metadata": {},
   "source": [
    "####################################\n",
    "## Text explanation of relationship below here:\n",
    "\n"
   ]
  },
  {
   "cell_type": "code",
   "execution_count": 5,
   "metadata": {},
   "outputs": [
    {
     "data": {
      "text/plain": [
       "'\\n\\n'"
      ]
     },
     "execution_count": 5,
     "metadata": {},
     "output_type": "execute_result"
    }
   ],
   "source": [
    "#####################################\n",
    "# TA comments below here \n",
    "\n",
    "# Functionality: \n",
    "# ___ / 8. \n",
    "# Comments \n",
    "'''\n",
    "\n",
    "'''\n",
    "\n",
    "# Organization: \n",
    "# ___ / 4. \n",
    "# Comments \n",
    "'''\n",
    "\n",
    "'''\n",
    "\n",
    "# Code wrangling: \n",
    "# ___ / 4. \n",
    "# Comments \n",
    "'''\n",
    "\n",
    "'''\n",
    "\n",
    "# Stats interpretation: \n",
    "# ___ / 4. \n",
    "# Comments \n",
    "'''\n",
    "\n",
    "'''"
   ]
  },
  {
   "cell_type": "code",
   "execution_count": null,
   "metadata": {},
   "outputs": [],
   "source": []
  }
 ],
 "metadata": {
  "kernelspec": {
   "display_name": "Python 3",
   "language": "python",
   "name": "python3"
  },
  "language_info": {
   "codemirror_mode": {
    "name": "ipython",
    "version": 3
   },
   "file_extension": ".py",
   "mimetype": "text/x-python",
   "name": "python",
   "nbconvert_exporter": "python",
   "pygments_lexer": "ipython3",
   "version": "3.7.0"
  }
 },
 "nbformat": 4,
 "nbformat_minor": 2
}
