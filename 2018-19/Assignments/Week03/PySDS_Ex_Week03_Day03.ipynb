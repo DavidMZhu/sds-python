{
 "cells": [
  {
   "cell_type": "markdown",
   "metadata": {},
   "source": [
    "**PySDS Week 03 Day 03 v.1 - Exercise - Webcrawlers**"
   ]
  },
  {
   "cell_type": "markdown",
   "metadata": {},
   "source": [
    "Modifying a scraper to suit needs\n",
    "\n"
   ]
  },
  {
   "cell_type": "code",
   "execution_count": null,
   "metadata": {},
   "outputs": [],
   "source": [
    "# Exercise 1. \n",
    "# How pervaisive is the notion of a social network at the OII? \n",
    "# Modify the crawler that we showed in class. You can either use a new scraper \n",
    "# from scrapy, beautifulSoup, mechanicalSoup or modify the code we have. \n",
    "#\n",
    "# Part 1. Write pseudocode from the following instructions:\n",
    "#\n",
    "# Use the department's homepage (http://www.oii.ox.ac.uk) as your seed. \n",
    "# Navigate to all links that you find that also have www.oii.ox.ac.uk in them.\n",
    "# If a page includes the word \"network\" or \"networks\", then mark it in the \n",
    "# \"has network\" pile. Otherwise mark it in the \"not mentioned\" pile. \n",
    "# When you run out of links, return the number in each pile. \n",
    "#\n",
    "# NOTE> Please exempt any page with http://www.oii.ox.ac.uk/study See updated code snippet. \n",
    "\n",
    "################################\n",
    "# Answer below here \n",
    "\n",
    "\n",
    "\n",
    "################################\n",
    "# Peer review comments below here \n",
    "\n",
    "\n"
   ]
  },
  {
   "cell_type": "code",
   "execution_count": null,
   "metadata": {},
   "outputs": [],
   "source": [
    "# Part 2. Creating a scraper that looks for oii links. \n",
    "\n",
    "# If you are using a subclass of HTTPparser, consider reviewing the documentation \n",
    "# https://docs.python.org/3/library/html.parser.html\n",
    "#\n",
    "# Write a subclass of HTTPparser (or another means) \n",
    "# that returns links if they have 'www.oii.ox.ac.uk'\n",
    "# in the full path. You should think about how you are going to test this.\n",
    "\n",
    "################################\n",
    "# Answer below here \n",
    "\n",
    "\n",
    "\n",
    "################################\n",
    "# Peer review comments below here \n",
    "\n",
    "\n"
   ]
  },
  {
   "cell_type": "code",
   "execution_count": null,
   "metadata": {},
   "outputs": [],
   "source": [
    "# Part 3. Translate your pseudocode spider to working code \n",
    "\n",
    "# Here we will want to run a crawler.\n",
    "# Call your getLinks() method from within your working code. \n",
    "# I assume it will be an extension of my code in the lecture.\n",
    "#\n",
    "# Please note, you should use a set or other form of counter to ensure\n",
    "# that you do not visit the same link twice. I have warned IT about today. \n",
    "# But still...let's try not to DDOS the deparmtnet webpage. \n",
    "# Note 1. Please exempt any page with /study See updated code snippet. \n",
    "# Note 2. Max links = 100\n",
    "# Note 3. time.sleep(0.2)\n",
    "\n",
    "################################\n",
    "# Answer below here \n",
    "\n",
    "\n",
    "\n",
    "################################\n",
    "# Peer review comments below here \n",
    "\n",
    "\n"
   ]
  }
 ],
 "metadata": {
  "kernelspec": {
   "display_name": "Python 3",
   "language": "python",
   "name": "python3"
  },
  "language_info": {
   "codemirror_mode": {
    "name": "ipython",
    "version": 3
   },
   "file_extension": ".py",
   "mimetype": "text/x-python",
   "name": "python",
   "nbconvert_exporter": "python",
   "pygments_lexer": "ipython3",
   "version": "3.7.0"
  }
 },
 "nbformat": 4,
 "nbformat_minor": 2
}
