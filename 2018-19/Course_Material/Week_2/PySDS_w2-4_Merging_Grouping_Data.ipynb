{
 "cells": [
  {
   "cell_type": "markdown",
   "metadata": {},
   "source": [
    "**PySDS Week 2. Lecture 4. V.2**\n",
    "Author: Bernie Hogan"
   ]
  },
  {
   "cell_type": "markdown",
   "metadata": {},
   "source": [
    "# Week 2 Day 4. : Merging and grouping data \n",
    "\n",
    "In this lecture we are going to focus primarily on exercises where you must integrate different data sources together in a single table for analysis. \n",
    "\n",
    "Learning goals: \n",
    "- Understand merging / sorting\n",
    "- Be able to read and write a table from iPython\n",
    "- Understand one-to-many and many-to-many relationships. \n",
    "- Understanding grouping relationships"
   ]
  },
  {
   "cell_type": "markdown",
   "metadata": {},
   "source": [
    "# Section 1. A review of adding data to a DataFrame\n",
    "\n",
    "First, let's revisit the merging of data through append and concatenate and then move on to key-based merging. \n",
    "\n",
    "First we will create two dataframes based on dictionaries, then we will combine them. We will do this in two ways: \n",
    "1. The same columns (adding rows) \n",
    "2. The same rows (adding columns) \n",
    "\n",
    "## Adding rows \n",
    "When adding data where we have the same columns, it is typically because we have new rows. This happens when we are processing data and want to add rows one at a time as the data comes in. Imagine you have a stream of tweets and you add a new tweet to the existing DataFrame. \n",
    "\n",
    "*Things to remember:* \n",
    "- DataFrames have rows, and each row has an index. \n",
    "- The index can have a user-defined value, but it is assigned in numerical sequence by default. "
   ]
  },
  {
   "cell_type": "code",
   "execution_count": null,
   "metadata": {},
   "outputs": [],
   "source": [
    "from pandas import Series, DataFrame\n",
    "import pandas as pd \n",
    "import numpy as np\n",
    "from IPython.display import display\n",
    "%pylab inline "
   ]
  },
  {
   "cell_type": "markdown",
   "metadata": {},
   "source": [
    "Below we will create three small data frames with different values. We will use these so that you can watch where each of the values go when you are doing your merging. "
   ]
  },
  {
   "cell_type": "code",
   "execution_count": null,
   "metadata": {},
   "outputs": [],
   "source": [
    "\n",
    "testList1 = [[\"a\",\"b\",\"c\",\"d\"],[\"g\",\"h\",\"j\",\"k\"]]\n",
    "testFrame1 = pd.DataFrame(testList1)\n",
    "print(testFrame1)\n",
    "\n",
    "print()\n",
    "\n",
    "testList2 = [[\"m\",\"n\",\"o\",\"p\"],[\"s\",\"t\",\"u\",\"v\"]]\n",
    "testFrame2 = pd.DataFrame(testList2)\n",
    "print(testFrame2)\n",
    "\n",
    "print()\n",
    "\n",
    "testList3 = [[\"x\",\"y\",\"z\",\"aa\",\"bb\",\"cc\"],[\"e\",\"f\",\"q\",\"w\",\"ww\",\"www\"]]\n",
    "testFrame3 = pd.DataFrame(testList3)\n",
    "print(testFrame3)\n",
    "\n",
    "\n"
   ]
  },
  {
   "cell_type": "markdown",
   "metadata": {},
   "source": [
    "### Attempt 1: Adding the frames together ###\n",
    "\n",
    "In the first case, see what happens when we add the frames together. Because they are the same dimension, it literally concatenates within cell. If the cells are not the same size, they will return missing data. See the two results below. "
   ]
  },
  {
   "cell_type": "code",
   "execution_count": null,
   "metadata": {},
   "outputs": [],
   "source": [
    "exData01 = testList1 + testList2\n",
    "display(exData01)\n",
    "\n",
    "print()\n",
    "\n",
    "# Notice the difference between adding the lists and adding the frames. \n",
    "# The DataFrame sought to a Hadamard operation (i.e. match cell-to-cell)\n",
    "exFrame01 = testFrame1 + testFrame2\n",
    "display(exFrame01)\n",
    "\n",
    "print()\n",
    "\n",
    "# Notice now the software does not know what to do adding misshapen frames. \n",
    "exFrame02 = testFrame1 + testFrame3\n",
    "display(exFrame02)"
   ]
  },
  {
   "cell_type": "markdown",
   "metadata": {},
   "source": [
    "### Attempt 2: Concatenating frames ###\n",
    "In the second case, we are going to concatenate the data. The first way we will be doing this is by row. Recall what happens to the indices by default."
   ]
  },
  {
   "cell_type": "code",
   "execution_count": null,
   "metadata": {},
   "outputs": [],
   "source": [
    "testFrame4 = pd.concat( [testFrame1, testFrame2] )\n",
    "testFrame4"
   ]
  },
  {
   "cell_type": "code",
   "execution_count": null,
   "metadata": {},
   "outputs": [],
   "source": [
    "# To really understand the method, it's useful to read the help file. \n",
    "help(pd.concat)"
   ]
  },
  {
   "cell_type": "markdown",
   "metadata": {},
   "source": [
    "Below we fix this using the *ignore_index = True* argument.  \n",
    "\n",
    "Notice also that pd.concat and DataFrame.append accomplish the same thing but are not implemented the same way. Generally concat is faster."
   ]
  },
  {
   "cell_type": "code",
   "execution_count": null,
   "metadata": {},
   "outputs": [],
   "source": [
    "testFrame4 = pd.concat([testFrame1, testFrame2],ignore_index=True)\n",
    "print(testFrame4)\n",
    "\n",
    "print()\n",
    "\n",
    "testFrame4 = testFrame1.append(testFrame2,ignore_index=True)\n",
    "print(testFrame4)"
   ]
  },
  {
   "cell_type": "markdown",
   "metadata": {},
   "source": [
    "Now if we want to add these as **columns rather than rows**, we can use the *axis=1* (as opposed to the default axis=0 argument)\n",
    "\n",
    "Also notice that this is not available as appending."
   ]
  },
  {
   "cell_type": "code",
   "execution_count": null,
   "metadata": {},
   "outputs": [],
   "source": [
    "testFrame4 = pd.concat([testFrame1, testFrame2],axis=1)\n",
    "testFrame4.index = ['top', 'bottom']\n",
    "display(testFrame4)\n",
    "\n",
    "print()"
   ]
  },
  {
   "cell_type": "markdown",
   "metadata": {},
   "source": [
    "The issue with not using unique indices is that you can unintentionally edit the wrong cell. In the frame above we see that there are two columns named 0, so that when you want to change data for one but not the other, you run into trouble. See below: "
   ]
  },
  {
   "cell_type": "code",
   "execution_count": null,
   "metadata": {},
   "outputs": [],
   "source": [
    "testFrame4.loc[\"top\",0] = \"test\"\n",
    "display(testFrame4)"
   ]
  },
  {
   "cell_type": "markdown",
   "metadata": {},
   "source": [
    "If we want to preserve that index for some reason, we can actually use a multi-index. This is where there are subindices for the dataframe. This is also relevant when you are grouping data, as the grouped data can have a multi-index (on either the rows or columns or both)."
   ]
  },
  {
   "cell_type": "code",
   "execution_count": null,
   "metadata": {},
   "outputs": [],
   "source": [
    "testFrame4 = pd.concat([testFrame1, testFrame2],axis=1,keys=[\"left\",\"right\"])\n",
    "testFrame4.index = ['top', 'bottom']\n",
    "display(testFrame4)\n",
    "\n",
    "print()"
   ]
  },
  {
   "cell_type": "code",
   "execution_count": null,
   "metadata": {},
   "outputs": [],
   "source": [
    "testFrame4.T"
   ]
  },
  {
   "cell_type": "code",
   "execution_count": null,
   "metadata": {},
   "outputs": [],
   "source": [
    "print(testFrame4[\"left\",2])\n",
    "\n",
    "print(testFrame4[\"left\"][0][\"top\"])\n",
    "try: \n",
    "    print(testFrame4[\"left\",0,'top'])\n",
    "except KeyError:\n",
    "    print(\"The first bracket is for the column index only.\")"
   ]
  },
  {
   "cell_type": "markdown",
   "metadata": {},
   "source": [
    "If we want to **add a single series**, then we have to be careful about \n",
    "how it is structured. Noticed in the following. We can see this being done right and wrong. "
   ]
  },
  {
   "cell_type": "code",
   "execution_count": null,
   "metadata": {},
   "outputs": [],
   "source": [
    "testSeries1 = pd.Series([\"alpha\",\"bravo\",\"charlie\",\"delta\"],name=\"example\")\n",
    "\n",
    "testFrame5 = testFrame1.append(testSeries1)#,ignore_index=True)\n",
    "testFrame5"
   ]
  },
  {
   "cell_type": "code",
   "execution_count": null,
   "metadata": {},
   "outputs": [],
   "source": [
    "testSeries1 = pd.Series({2:\"bravo\",3:\"charlie\",4:\"delta\",1:\"alpha\"},name=\"example\")\n",
    "\n",
    "testFrame5 = testFrame1.append(testSeries1)\n",
    "testFrame5"
   ]
  },
  {
   "cell_type": "code",
   "execution_count": null,
   "metadata": {},
   "outputs": [],
   "source": [
    "# Ooops! It's \"Zero\" indexed\n",
    "\n",
    "testSeries1 = pd.Series({0:\"alpha\",1:\"bravo\",2:\"charlie\",3:\"delta\"},name=\"example\")\n",
    "\n",
    "testFrame5 = testFrame1.append(testSeries1)\n",
    "testFrame5"
   ]
  },
  {
   "cell_type": "markdown",
   "metadata": {},
   "source": [
    "## Adding Columns \n",
    "\n",
    "Each DataFrame has an index and a series of columns. To add names to the index, you can assign a variable to DataFrame.index. To assign names to the columns, you can use DataFrame.columns. These are lists. They cannot be shorter or longer than the actual data frame, otherwise you will receive a ValueError. "
   ]
  },
  {
   "cell_type": "code",
   "execution_count": null,
   "metadata": {},
   "outputs": [],
   "source": [
    "testFrame5.columns = [\"first\",\"second\",\"third\",\"fourth\"]\n",
    "display(testFrame5)\n",
    "\n",
    "print(len(testFrame5.columns))\n",
    "\n",
    "try:\n",
    "    testFrame5.columns = [\"1first\",\"2second\",\"3third\"]\n",
    "    display(testFrame5)\n",
    "except ValueError:\n",
    "    print(\"ValueError: Length mismatch on columns\")\n",
    "    \n",
    "\n",
    "testFrame5.index = [\"first_row\",\"second_row\",\"third_row\"]\n",
    "display(testFrame5)\n",
    "\n",
    "try:\n",
    "    testFrame5.index = [\"first_row\",\"second_row\",\"third_row\",\"fourth_row\"]\n",
    "    display(testFrame5)\n",
    "except ValueError:\n",
    "    print(\"ValueError: Length mismatch on rows\")\n",
    "    \n",
    "\n",
    "    "
   ]
  },
  {
   "cell_type": "markdown",
   "metadata": {},
   "source": [
    "# Section 2. One-to-many relationships\n",
    "\n",
    "One to many relationships are really common in data wrangling. For example, you have people who are in states, and you have state level data on unemployment. How do you create a new table that includes these state-level indicators? This might be useful for a regression (particularly a popular class of regression models called 'hierarchical linear models'). \n",
    "\n",
    "In the examples below we will use the countries of the United Kingdom as one level in our data and then people as the other level. So sometimes we might want to see the 'average' age of people in a given country. Other times we might want to merge in data together where there might be some countries in one data set and a non-overlapping series in another set. Below, we can notice that while both our sets contain the four countries of the UK, one will contain Jersey, the other will contain Isle of Wight. Do we want to get rid of Jersey or Isle of Wight? Do we want to keep both? Thinking through how you merge data will answer these questions."
   ]
  },
  {
   "cell_type": "code",
   "execution_count": null,
   "metadata": {},
   "outputs": [],
   "source": [
    "d = {\"Wales\":3,\"England\":53,\"Scotland\":5,\"Northern Ireland\":2,\"Jersey\":.1}\n",
    "l = list(zip(d.keys(),d.values()))\n",
    "\n",
    "countryFrame = pd.DataFrame(pd.Series(d),columns=[\"Population\"])\n",
    "display(countryFrame)"
   ]
  },
  {
   "cell_type": "code",
   "execution_count": null,
   "metadata": {},
   "outputs": [],
   "source": [
    "people = [[\"Alice\",32,\"Wales\"],\n",
    "          [\"Bob\",35,\"Northern Ireland\"],\n",
    "          [\"Charlie\",21,\"England\"],\n",
    "          [\"Diane\",45,\"Northern Ireland\"],\n",
    "          [\"Ellen\",21,\"Scotland\"],\n",
    "          [\"Fong\",50,\"England\"],\n",
    "          [\"Grant\",28,\"Scotland\"],\n",
    "          [\"Harry\",36,\"England\"],\n",
    "          [\"Idris\",40,\"Isle of Wight\"]]\n",
    "\n",
    "peopleFrame = pd.DataFrame(people,columns=[\"Name\",\"Age\",\"Country\"])\n",
    "# help(peopleFrame.merge)\n",
    "display(peopleFrame)"
   ]
  },
  {
   "cell_type": "markdown",
   "metadata": {},
   "source": [
    "Notice now that in the first data set, the countries were the indices. In the second data set, country was a column in the data. \n",
    "\n",
    "So when we merge, we will want to let the program know that for one DataFrame, which we will call the 'left', we will want to merge on the column that is the country. For another DataFrame, which we will call the 'right' , we will want to merge on the index. How do we know which is left and which is right? It's literally about reading the statement left and right: \n",
    "\n",
    "~~~ python\n",
    "new_dataframe = <LEFT_DATAFRAME>.merge(<RIGHT_DATAFRAME>, left_on=<column> {or left_index=True}, \n",
    "                                                          right_on=<column> {or right_index=True}) \n",
    "~~~"
   ]
  },
  {
   "cell_type": "code",
   "execution_count": null,
   "metadata": {},
   "outputs": [],
   "source": [
    "mergeFrame = peopleFrame.merge(countryFrame,left_on=\"Country\",right_index=True)\n",
    "display(mergeFrame)\n",
    "\n",
    "print(\"\\n\\nNow let's do the same, but switch left and right\\n\\n\")\n",
    "\n",
    "mergeFrame = countryFrame.merge(peopleFrame,left_index=True,right_on=\"Country\")\n",
    "display(mergeFrame)"
   ]
  },
  {
   "cell_type": "markdown",
   "metadata": {},
   "source": [
    "Merging / Joining is hard to get your head around because there are many choices to make and lots of potential missteps. \n",
    "\n",
    "Here are some steps: \n",
    "1. Identify the tables to merge. \n",
    "2. Select which is left: what is the key? index or column.\n",
    "3. Select which is right: what is the key? index or column.\n",
    "4. What should be preserved? All the data? All from the left side? All from the right? Or all in common?\n",
    "5. Should the columns in the merged data be given different names after the merge? \n",
    "\n",
    "We have covered the first three steps above. Now lets cover step 4. This is called the 'join'. There are four basic joins here. You'll see a left and a right. These are basically the same except with the order of the frames. \n",
    "\n",
    "- Left: Unique rows on the left, mutliple on the right. \n",
    "- Right: Unique rows on the right, multiple on the left.\n",
    "- Inner: The _intersection_ of both frames.\n",
    "- Outer: The _union_ of both frames. \n",
    "\n",
    "Below is a very small crash course in \"Union\" and \"Intersection\". We first will create a set. A set is a data structure where there is only one element with any value. See below how a set collapses the multiple 2s and multiple 5s into a single 2 and a single 5. "
   ]
  },
  {
   "cell_type": "code",
   "execution_count": null,
   "metadata": {},
   "outputs": [],
   "source": [
    "x = [1,2,3,4,5,5,5,5,5,6]\n",
    "print(x)\n",
    "print(set(x))"
   ]
  },
  {
   "cell_type": "markdown",
   "metadata": {},
   "source": [
    "Because sets only contain unique discrete elements, we can then talk about set inclusion. That is, we can ask if things are in one or both sets. If they are in one set but not the other, we can discover this with set subtraction. If we want to combine them, we can do that with set addition. But most importantly for merging we can ask for the the union of items (i.e. all of the items) or the intersection of items (i.e. all of the items _in common_).  "
   ]
  },
  {
   "cell_type": "code",
   "execution_count": null,
   "metadata": {},
   "outputs": [],
   "source": [
    "setOdd = set([1,3,5,7,9]) # the first five odd numbers \n",
    "setCount = set([1,2,3,4,5]) # the first five numbers\n",
    "\n",
    "print(\"setCount:\\n%s\" % setCount)\n",
    "print(\"setOdd:\\n%s\" % setOdd)\n",
    "\n",
    "print(\"Union: all of the elements from both\")\n",
    "print(setOdd.union(setCount))\n",
    "\n",
    "print(\"Intersection: all of the elements in common\")\n",
    "print(setOdd.intersection(setCount))\n",
    "\n",
    "print(\"Set subtraction. SetCount minus setOdd:\")\n",
    "print(setCount - setOdd)\n",
    "\n",
    "print(\"Set subtraction. SetOdd minus setCount:\")\n",
    "print(setOdd - setCount)"
   ]
  },
  {
   "cell_type": "markdown",
   "metadata": {},
   "source": [
    "Now let's return to the data we analyzed above and explore what happens when we join in different ways. \n",
    "\n",
    "### Outer Join\n",
    "\n",
    "The outer join is the union of two sets. In one of our sets we have Jersey with some population data and Idris from Isle of Wight is in the other data. Here, the outer join on country means that both are included and the columns that aren't available are simply given missing values. \n",
    "\n",
    "Also notice below that the index is now pretty messed up. This is because it doesn't reset the index. If you uncomment the line below to reset the index, it fixes this and numbers all of the elements correctly. "
   ]
  },
  {
   "cell_type": "code",
   "execution_count": null,
   "metadata": {},
   "outputs": [],
   "source": [
    "mergeFrame = peopleFrame.merge(countryFrame,left_on=\"Country\",right_index=True, how='outer')\n",
    "# mergeFrame.reset_index(inplace=True) #without the inplace it returns a new frame\n",
    "display(mergeFrame)"
   ]
  },
  {
   "cell_type": "markdown",
   "metadata": {},
   "source": [
    "### Inner Join\n",
    "\n",
    "Inner join is the equivalent to a set intersection. We get rid of the keys where there is no match in the other table. So we lose both Isle of Wight and Jersey. "
   ]
  },
  {
   "cell_type": "code",
   "execution_count": null,
   "metadata": {},
   "outputs": [],
   "source": [
    "mergeFrame = peopleFrame.merge(countryFrame,left_on=\"Country\",right_index=True, how='inner')\n",
    "mergeFrame.reset_index(inplace=True)\n",
    "display(mergeFrame)"
   ]
  },
  {
   "cell_type": "markdown",
   "metadata": {},
   "source": [
    "### Left Join\n",
    "\n",
    "Below we will merge with ```how='left'```. The left is peopleFrame since it appears to the left of mergeFarme. "
   ]
  },
  {
   "cell_type": "code",
   "execution_count": null,
   "metadata": {},
   "outputs": [],
   "source": [
    "mergeFrame = peopleFrame.merge(countryFrame,left_on=\"Country\",right_index=True, how='left')\n",
    "mergeFrame"
   ]
  },
  {
   "cell_type": "markdown",
   "metadata": {},
   "source": [
    "### Right Join\n",
    "\n",
    "Pretty much the same as the left join, except it is merging on the right instead of the left. "
   ]
  },
  {
   "cell_type": "code",
   "execution_count": null,
   "metadata": {},
   "outputs": [],
   "source": [
    "mergeFrame = peopleFrame.merge(countryFrame,left_on=\"Country\",right_index=True, how='right')\n",
    "mergeFrame"
   ]
  },
  {
   "cell_type": "markdown",
   "metadata": {},
   "source": [
    "## Multiple columns with the same name \n",
    "\n",
    "You'll notice that in the above example, countryFrame is really just one column of data. Let's add another column to it, and see what happens to our merging. you will notice that if we have two columns with 'age', one in either side, that when we merge together they are given default suffixes of ```_x``` and ```_y```. "
   ]
  },
  {
   "cell_type": "code",
   "execution_count": null,
   "metadata": {},
   "outputs": [],
   "source": [
    "countryFrame = pd.DataFrame([[\"Wales\",3,28,961],\n",
    "                            [\"England\",53,51,1500],\n",
    "                            [\"Scotland\",5,46,1175],\n",
    "                            [\"Northern Ireland\",2,27,97],\n",
    "                            [\"Jersey\",.1,58,808]],\n",
    "                            columns=[\"Country\",\"Population\",\"Income\",\"Age\"])\n",
    "display(countryFrame)"
   ]
  },
  {
   "cell_type": "code",
   "execution_count": null,
   "metadata": {},
   "outputs": [],
   "source": [
    "mergeFrame = peopleFrame.merge(countryFrame, on=\"Country\")\n",
    "mergeFrame"
   ]
  },
  {
   "cell_type": "markdown",
   "metadata": {},
   "source": [
    "To give the new data more descriptive names than x and y you can use the argument```suffixes``` with two elements in a list, the suffix for the left and the suffix for the right. "
   ]
  },
  {
   "cell_type": "code",
   "execution_count": null,
   "metadata": {},
   "outputs": [],
   "source": [
    "mergeFrame = peopleFrame.merge(countryFrame,on=\"Country\",how=\"outer\",suffixes=[\"\",\"_cntry\"])\n",
    "display(mergeFrame)"
   ]
  },
  {
   "cell_type": "markdown",
   "metadata": {},
   "source": [
    "# Section 3. Grouping Data \n",
    "\n",
    "## Broadcasting Aggregations back to the original data\n",
    "\n",
    "Sometimes we want to aggregate the data. Imagine we have an average population value for the county and we want to see how it compares to the average population value for our sample. Since we have many countries, we don't really want to do this for each one individually. Instead, we can group our sample data. \n",
    "\n",
    "In the example below, we have two people from Northern Ireland, Bob who is 35 and Diane, who is 45. The average age of them would be 40. So if we want to see this (and the average age across all countries) we can group the data. \n",
    "\n",
    "To note, there are many grouping operations. The common ones are: \n",
    "- mean \n",
    "- std (standard deviation)\n",
    "- min\n",
    "- max\n",
    "- count\n"
   ]
  },
  {
   "cell_type": "code",
   "execution_count": null,
   "metadata": {},
   "outputs": [],
   "source": [
    "print(\"Average per group\")\n",
    "groupFrame = mergeFrame.groupby('Country').mean()\n",
    "display(groupFrame)\n",
    "\n",
    "print(\"Standard deviation per group\")\n",
    "groupFrame = mergeFrame.groupby('Country').std()\n",
    "display(groupFrame)\n",
    "\n",
    "print(\"Maximum per group\")\n",
    "groupFrame = mergeFrame.groupby('Country').max()\n",
    "display(groupFrame)\n",
    "\n",
    "print(\"Minimum per group:\")\n",
    "groupFrame = mergeFrame.groupby('Country').min()\n",
    "display(groupFrame)\n",
    "\n",
    "print(\"Count per group:\")\n",
    "groupFrame = mergeFrame.groupby('Country').count()\n",
    "display(groupFrame)"
   ]
  },
  {
   "cell_type": "code",
   "execution_count": null,
   "metadata": {},
   "outputs": [],
   "source": [
    "help(mergeFrame.groupby)"
   ]
  },
  {
   "cell_type": "markdown",
   "metadata": {},
   "source": [
    "You'll notice that it adds the prefix \"m\\_\" to all the scalar values and uses all of them. This is alright, but if we want to merge these values back into the original data set, this will be a nuisance since m_Population is the same as Population since both came from the Country table to begin with. So, we can group on a slice of the dataframe. To slice the dataframe we have to query it in the following way. \n",
    "\n",
    "    DATAFRAME[ ['VAR1','VAR2'] ]\n",
    "    \n",
    "Yes, that's a list within a list. See below:    "
   ]
  },
  {
   "cell_type": "code",
   "execution_count": null,
   "metadata": {},
   "outputs": [],
   "source": [
    "mergeFrame[[\"Country\",\"Age\",\"Income\"]]"
   ]
  },
  {
   "cell_type": "code",
   "execution_count": null,
   "metadata": {},
   "outputs": [],
   "source": [
    "groupFrame = mergeFrame[[\"Country\",\"Age\"]].groupby('Country').mean()\n",
    "\n",
    "groupFrame"
   ]
  },
  {
   "cell_type": "markdown",
   "metadata": {},
   "source": [
    "We have just one issue now - if we merge the average age back in, there is already a variable is already called Age. We can rename it before we merge it back in, but it is easier to add a prefix when we do the original grouping:\n",
    "\n",
    "    DATAFRAME.groupby(KEY).add_prefix(\"mean_\")\n",
    "    "
   ]
  },
  {
   "cell_type": "code",
   "execution_count": null,
   "metadata": {},
   "outputs": [],
   "source": [
    "groupFrame = mergeFrame[[\"Country\",\"Age\"]].groupby('Country').mean().add_prefix(\"mean_\")\n",
    "groupFrame"
   ]
  },
  {
   "cell_type": "code",
   "execution_count": null,
   "metadata": {},
   "outputs": [],
   "source": [
    "newFrame = pd.merge(mergeFrame, groupFrame,left_on=\"Country\",right_index=True)\n",
    "display(newFrame)"
   ]
  }
 ],
 "metadata": {
  "kernelspec": {
   "display_name": "Python 3",
   "language": "python",
   "name": "python3"
  },
  "language_info": {
   "codemirror_mode": {
    "name": "ipython",
    "version": 3
   },
   "file_extension": ".py",
   "mimetype": "text/x-python",
   "name": "python",
   "nbconvert_exporter": "python",
   "pygments_lexer": "ipython3",
   "version": "3.7.0"
  }
 },
 "nbformat": 4,
 "nbformat_minor": 2
}
