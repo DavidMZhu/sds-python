{
 "cells": [
  {
   "cell_type": "markdown",
   "metadata": {},
   "source": [
    "**PySDS Week 2. Lecture 1. V.1**\n",
    "Last author: B. Hogan"
   ]
  },
  {
   "cell_type": "code",
   "execution_count": null,
   "metadata": {},
   "outputs": [],
   "source": [
    "from IPython import display\n",
    "%pylab inline"
   ]
  },
  {
   "cell_type": "markdown",
   "metadata": {},
   "source": [
    "# Week 2. Day 1. Data Structures for Scientific Python \n",
    "\n",
    "Today we introduce three data structures that will be used repeatedly in scientific python. \n",
    "- Numpy Array\n",
    "- Series\n",
    "- DataFrame\n",
    "\n",
    "The array is built for speed, whereas the series is the standard scientific list. The DataFrame is a (typically two-dimensional) table of values. Each of these data structures has it's own uses. Like lists and dictionaries they are collections of objects. But they have additional features, for example, a ```Series``` has a ```mean()``` method where a ```list``` does not. See below: "
   ]
  },
  {
   "cell_type": "code",
   "execution_count": null,
   "metadata": {},
   "outputs": [],
   "source": [
    "from pandas import Series\n",
    "\n",
    "s = Series([1,3,4,7])\n",
    "print(s.mean())\n",
    "\n",
    "l = []\n",
    "print(dir(l))\n",
    "print()\n",
    "print(dir (s))"
   ]
  },
  {
   "cell_type": "markdown",
   "metadata": {},
   "source": [
    "We will show these data structures, how to create them, move data around, delete data and some of the uses of these structures practically. "
   ]
  },
  {
   "cell_type": "markdown",
   "metadata": {},
   "source": [
    "# Section 1. Numpy Array \n",
    "\n",
    "The numpy array is the basis of the series and data frame objects. It is very efficient. Unlike a list, the objects in an array are of the same type. This allows for considerably faster computation. Here it is worth pointing out that much of python is actually a wrapper for ```c``` code. C is a pervasive, extremely efficient language. That said, it is often cumbersome to use and does not provide anywhere near the level of abstraction of python. Numpy uses C more directly than python lists do.  \n",
    "\n",
    "We tend not to use the numpy array directly although it can be useful for a number of tricks, as we will show later. One in particular is for generating multiple columns of random numbers. However, for the most part we only interface numpy through PANDAS and not directly. \n",
    "\n",
    "A numpy array is designed to implement matrix algebra, something useful in a variety of circumstances. For example, we can characterise a **social network** as a matrix and then use that matrix to learn things about the network. \n",
    "\n",
    "Before we get there, however, let's introduce the simple unidimensional array, sometimes called a **vector**. "
   ]
  },
  {
   "cell_type": "code",
   "execution_count": null,
   "metadata": {},
   "outputs": [],
   "source": [
    "import numpy as np \n",
    "\n",
    "x = [1,2,3]\n",
    "\n",
    "npx = np.array([1,2,3])\n",
    "\n",
    "print(x,npx)\n",
    "\n",
    "print(x[0],npx[0])\n"
   ]
  },
  {
   "cell_type": "markdown",
   "metadata": {},
   "source": [
    "The numpy array can be unidimensional (i.e. just like a single list) or multidimentional. When it is unidimensional it is sometimes referred to as a vector. This is not quite appropriate according to the mathematicians, but it seems to be popular in computer languages. \n",
    "\n",
    "A two dimensional array is referred to as a matrix. So if we have a vector of friendship nominations that means we have a one dimensional array representing friendships from that person to the other people. \n",
    "\n",
    "If we have four friends, Alice, Bob, Charlie and Diane, they each have a vector referring to whether they are friends with each other. Let's keep each one of these in order of A,B,C,D. So for Alice, if she is only friends with Diane, her vector would look like: \n",
    "```\n",
    "Alice = np.array([0,0,0,1])\n",
    "```\n",
    "Whereas Diane might consider herseff friends with everyone. So hers looks like: \n",
    "```\n",
    "Diane = np.array([1,1,1,0])\n",
    "```\n",
    "Notice that zero at the end? That's because Diane can't be friends with herself. When you stitch these one dimensional arrays together, you can get a matrix representing the network of friendships, like so: "
   ]
  },
  {
   "cell_type": "code",
   "execution_count": null,
   "metadata": {},
   "outputs": [],
   "source": [
    "import numpy as np \n",
    "\n",
    "# Create a matrix from four vectors\n",
    "Alice = np.array([0,0,0,1])\n",
    "Bob = np.array([1,0,0,1])\n",
    "Charlie = np.array([0,1,0,1])\n",
    "Diane = np.array([1,1,1,0])\n",
    "\n",
    "friend_mat = np.array([Alice,Bob,Charlie,Diane])\n",
    "print(\"The friendship matrix:\")\n",
    "print(friend_mat,'\\n')"
   ]
  },
  {
   "cell_type": "markdown",
   "metadata": {},
   "source": [
    "Notice a couple things about the output. First about the structure and second about the semantics. \n",
    "\n",
    "1. The structure: \n",
    " - It's not very clear who is who in this matrix. We know that it goes Alice, Bob, Charlie, Diane so we can follow along. But that gets particularly difficult when we have many rows and columns we have to manage. Part of the reason for using PANDAS is that where an array is simplified, a PANDAS DataFrame allows us to have row and column labels, as well as indexing by that label. We will show this in Section 3. \n",
    "\n",
    "2. The semantics:\n",
    " - Notice that we said this was a network of friendships. Well, aren't friends supposed to be symmetric? Bob said Alice was his friend, but Alice did not say Bob was her friend. Drama! What if we had a way to determine whether a friendship is reciprocated? This is where ```numpy``` shines as a means of doing **linear algebra**. \n",
    " - As we go through this example, it will be clear that not only is matrix algebra useful, but that it can be hard to follow without having labels on the rows and columns. So first let's do it, and then we will move over to the nicer data structures with labels.\n"
   ]
  },
  {
   "cell_type": "markdown",
   "metadata": {},
   "source": [
    "## Example: How to determine which friendships in a class are reciprocated"
   ]
  },
  {
   "cell_type": "code",
   "execution_count": null,
   "metadata": {},
   "outputs": [],
   "source": [
    "print(\"The friendship matrix:\")\n",
    "print(friend_mat,'\\n')"
   ]
  },
  {
   "cell_type": "markdown",
   "metadata": {},
   "source": [
    "1\\. To do this we would first flip the matrix around. Right now we have it so that we have rows of 'from' and columns of 'to'. So it is a row of friendship nominations from Alice to Bob, Charlie and Diane. By **transposing**  we can turn this on its head so that 'to' is in the columns and 'from' in the rows.\n",
    " - ```new_mat = old_mat.transpose()```\n",
    " - $ \\mathbf{A}^T$"
   ]
  },
  {
   "cell_type": "code",
   "execution_count": null,
   "metadata": {},
   "outputs": [],
   "source": [
    "# Get the transpose of that matrix\n",
    "t_mat = friend_mat.T\n",
    "\n",
    "print(\"The transposed matrix:\")\n",
    "print(t_mat,'\\n')"
   ]
  },
  {
   "cell_type": "markdown",
   "metadata": {},
   "source": [
    "2\\. Then we can multiply each cell by its corresponding cell in the transposed matrix. This is referred to as the [Hadamard product](https://en.wikipedia.org/wiki/Hadamard_product_(matrices)). If the friendship is unreciprocated, then the result will be $1 * 0$ in each cell which is $0$. If it is reciprocated, then it will be a $1$. This will be a matrix of reciprocated friendships. \n",
    " - ```recip_mat = old_mat * new_mat```\n",
    " - $ \\mathbf{A}_r = \\mathbf{A} \\circ \\mathbf{A}^T $\n",
    " \n",
    "Hadamard products only work on matrices of the same size. So if we want the Hadamard product of a matrix and its transpose, then it has to be a square otherwise the two rectangles (one being portrait, the other being landscape) won't match up."
   ]
  },
  {
   "cell_type": "code",
   "execution_count": null,
   "metadata": {},
   "outputs": [],
   "source": [
    "# Get the reciporcated friendships\n",
    "recip_mat = t_mat * friend_mat \n",
    "\n",
    "print(\"The reciprocated friendships\")\n",
    "print(recip_mat,'\\n')"
   ]
  },
  {
   "cell_type": "markdown",
   "metadata": {},
   "source": [
    "3\\. Finally, let's remove the reciprocated friendships from the original matrix. What we have left over are the unreciprocated friendships. \n",
    " - ```unrecip = mat - recip_mat```\n",
    " - $ \\mathbf{A}_u = \\mathbf{A} - \\mathbf{A}_r $"
   ]
  },
  {
   "cell_type": "code",
   "execution_count": null,
   "metadata": {},
   "outputs": [],
   "source": [
    "# Get the unreciprocated friendships\n",
    "unrecip_mat = friend_mat - recip_mat\n",
    "\n",
    "print(\"The unreciprocated friendships\")\n",
    "print(unrecip_mat,'\\n')"
   ]
  },
  {
   "cell_type": "raw",
   "metadata": {},
   "source": [
    "And so we can see that Bob's friendship nomination to Alice is not reciprocated, nor is Charlie's friendship to Bob. "
   ]
  },
  {
   "cell_type": "markdown",
   "metadata": {},
   "source": [
    "# Section 2. The Series"
   ]
  },
  {
   "cell_type": "markdown",
   "metadata": {},
   "source": [
    "The Series data structure is very much akin to a vector. It is unidimensional and it considers everything in the structure as a common type. If it is all integers, the Series will be of type integer. If it is a mix of integers and strings, it will be of type 'object', which is more generic. \n",
    "\n",
    "A series has an index which can be automatically created. The indices do not have to be unique, but if they are not, then the coder runs the risk of accidentally indexing the wrong element. We will show how to keep indices tidy later on. \n",
    "\n",
    "Let's import the series below: "
   ]
  },
  {
   "cell_type": "code",
   "execution_count": null,
   "metadata": {},
   "outputs": [],
   "source": [
    "from pandas import Series\n",
    "\n",
    "# Creates a single element series (not four empty rows)\n",
    "ser1 = Series(4)\n",
    "\n",
    "print(ser1)\n",
    "\n",
    "# Creates a series with four of the same elements:\n",
    "ser2 = Series([1.0]*4)\n",
    "\n",
    "print(ser2)\n",
    "\n",
    "# Creates a series with a range of numbers: \n",
    "# Remember with range when you have three arguments it is:\n",
    "# range(<start>,<exclusive stop>,<step>)\n",
    "ser3 = Series(range(1,8,2))\n",
    "print(ser3)\n",
    "\n",
    "# Create a series with a string. Notice that since it is non-numeric, it's just classed as 'object'\n",
    "\n",
    "ser4 = Series([\"Alice\",\"Bob\",\"Charlie\",\"Diane\"],name=\"test\")\n",
    "display(ser4)"
   ]
  },
  {
   "cell_type": "markdown",
   "metadata": {},
   "source": [
    "## Operations on a series. \n",
    "\n",
    "We can operate on every element in a series directly. Whereas with a list if we type ```list1 * 2``` the result will be the list, only doubled. But if we do it for a series, we will multiply _every element_ ```* 2```. See below: "
   ]
  },
  {
   "cell_type": "code",
   "execution_count": null,
   "metadata": {},
   "outputs": [],
   "source": [
    "from pandas import Series\n",
    "\n",
    "def doubleUpDemo(listToDouble):\n",
    "    '''Prints a list doubled as both list and series\n",
    "    \n",
    "    Keyword arguments:\n",
    "    listToDouble -- Assumes it's a list.\n",
    "    '''\n",
    "    print(\"Here is the original\")\n",
    "    print(listToDouble,end=\"\\n\\n\")\n",
    "    \n",
    "    print(\"Here's a list * 2\")\n",
    "    print(listToDouble*2,end=\"\\n\\n\")\n",
    "    \n",
    "    ser1 = Series(listToDouble)\n",
    "    print(\"Here's a series * 2\")\n",
    "    print(ser1 * 2,end=\"\\n\\n\")\n",
    "    return \n",
    "\n",
    "# First we send a list of integers to the function\n",
    "doubleUpDemo([1,2,3,4])\n",
    "\n",
    "# Next we send a list of strings\n",
    "doubleUpDemo([\"a\",\"b\",\"c\",\"d\"])"
   ]
  },
  {
   "cell_type": "markdown",
   "metadata": {},
   "source": [
    "Notice that when we used strings, the cells doubled the string inside the list. This is because the ```*``` operator is **overloaded** which means that it refers to multiple potential operations depending on the context. The ```+``` symbol is also overloaded as we already know. It can mean both plus and concatenate. If we tried that with an operator that is not overloaded, such as exponent, then we would have got an error. See below: "
   ]
  },
  {
   "cell_type": "code",
   "execution_count": null,
   "metadata": {},
   "outputs": [],
   "source": [
    "from pandas import Series\n",
    "\n",
    "print(\"Here's a series of numbers to the second power\")\n",
    "\n",
    "ser1 = Series([1,2,3,4])\n",
    "print(ser1 ** 2,end=\"\\n\\n\")\n",
    "\n",
    "print(\"Here's a series of strings to the second power\")\n",
    "\n",
    "ser2 = Series([\"a\",\"b\",\"c\",\"d\"])\n",
    "print(ser2 ** 2,end=\"\\n\\n\")\n",
    "print()"
   ]
  },
  {
   "cell_type": "markdown",
   "metadata": {},
   "source": [
    "## Series and indices \n",
    "\n",
    "Every series has an index for each of the elements in the series. The index itself is available through ```<seriesName>.index```. The index is mutable, so you can either create new names for your index when you create your series or do it later on. You can also reindex a series, which is important if you're concatenating two series. \n",
    "\n",
    "A series is **ordered** so we can index every element by its position in addition to indexing it by the index name. "
   ]
  },
  {
   "cell_type": "code",
   "execution_count": null,
   "metadata": {},
   "outputs": [],
   "source": [
    "from pandas import Series \n",
    "\n",
    "ser1 = Series([\"a\",\"b\",\"c\",\"d\"], index = [\"alpha\",\"bravo\",\"charlie\",\"delta\"])\n",
    "print(ser1,\"\\n\")\n",
    "print(\"Here is the first element:\",ser1[0],\"\\n\")\n",
    "print(ser1,\"\\n\")\n",
    "print(\"Here is the element from index 'alpha':\",ser1[\"alpha\"])"
   ]
  },
  {
   "cell_type": "markdown",
   "metadata": {},
   "source": [
    "Just because it is ordered and you, in theory, can index it by position, _you really shouldn't_. Just watch what happens when we give the index numerical values in the wrong order. When we try to index element 0 we get 'c' and not 'a' as we got above. Instead, you should always index either by name if you need to access the values in a series, or simply in order.\n",
    "\n",
    "That being said, positional numbers are still really useful for slicing and will still work as expected. Thus, ```ser1[0:]``` will not look for an index of \"0\", but of the zeroth element forward. "
   ]
  },
  {
   "cell_type": "code",
   "execution_count": null,
   "metadata": {},
   "outputs": [],
   "source": [
    "from pandas import Series \n",
    "\n",
    "ser1 = Series([\"a\",\"b\",\"c\",\"d\"], index = [\"alpha\",\"bravo\",\"charlie\",\"delta\"])\n",
    "\n",
    "ser1.index = [1,4,0,2]\n",
    "print(ser1)\n",
    "\n",
    "print(\"By position?\")\n",
    "print(ser1[0],\"\\n\")\n",
    "\n",
    "print(\"Slicing up to the third element.\")\n",
    "print(ser1[:2],\"\\n\")\n",
    "\n",
    "print(\"Slicing from third element onwards.\")\n",
    "print(ser1[2:],\"\\n\")"
   ]
  },
  {
   "cell_type": "markdown",
   "metadata": {},
   "source": [
    "## Ways to create a series\n",
    "\n",
    "We already saw how to create a series from a list as well as an index from a list. If you have a dictionary, you can also turn it into a series. It will keep the key as the index and the value as the value in the cell. See below: "
   ]
  },
  {
   "cell_type": "code",
   "execution_count": null,
   "metadata": {},
   "outputs": [],
   "source": [
    "from pandas import Series\n",
    "\n",
    "# You can also create a series with an index in one go using a dictionary. \n",
    "\n",
    "dict1 = {\"alpha\":\"a\",\"bravo\":\"b\",\"delta\":\"d\",\"epsilon\":\"e\"}\n",
    "ser1 = Series(dict1)\n",
    "\n",
    "print(ser1)\n",
    "print()"
   ]
  },
  {
   "cell_type": "markdown",
   "metadata": {},
   "source": [
    "If your series has a **misalignment** between the length of the collection of values and the length of the index, pandas will try to infer what to do. Typically this involves throwing an error if the index and the series are not of the same length. "
   ]
  },
  {
   "cell_type": "code",
   "execution_count": null,
   "metadata": {},
   "outputs": [],
   "source": [
    "from pandas import Series\n",
    "\n",
    "values1 = [1,3,5]\n",
    "index1 = [\"Apples\",\"Oranges\",\"Bananas\",\"kiwis\",\"durian\"]\n",
    "\n",
    "ser1 = Series(values1,index=index1) \n",
    "print(ser1)"
   ]
  },
  {
   "cell_type": "markdown",
   "metadata": {},
   "source": [
    "## Filtering a series\n",
    "\n",
    "There are many ways to filter a series. Two featured here involve **slicing** and **Boolean logic**."
   ]
  },
  {
   "cell_type": "markdown",
   "metadata": {},
   "source": [
    "### Slicing \n",
    "\n",
    "Just like how a list can be sliced, we can similarly slice a Series."
   ]
  },
  {
   "cell_type": "code",
   "execution_count": null,
   "metadata": {},
   "outputs": [],
   "source": [
    "from pandas import Series\n",
    "\n",
    "ser1 = Series([\"a\",\"b\",\"c\",\"d\"])\n",
    "\n",
    "ser1.index = [1,4,0,2]\n",
    "print(ser1,\"\\n\")\n",
    "\n",
    "print(\"By position?\")\n",
    "print(ser1[0],\"\\n\")\n",
    "print(ser1.loc[0],\"\\n\")\n",
    "\n",
    "print(\"Slicing up to the third element.\")\n",
    "print(ser1[:2],\"\\n\")\n",
    "\n",
    "print(\"Slicing from third element onwards.\")\n",
    "print(ser1[2:],\"\\n\")"
   ]
  },
  {
   "cell_type": "markdown",
   "metadata": {},
   "source": [
    "### Boolean Logic\n",
    "If you recall, Boolean logic allows you to evaluate the logical truth condition of a statement. So if ```x = 4``` and ```y = 4``` then ```x == y``` will be true. With a series, instead of returning whether _the series_ is true or false, it evaluates each cell and returns a new series of True and False values that satisfy that condition. So if we have a series:\n",
    "~~~py \n",
    "ser1 = [1,2,3,4,5]\n",
    "~~~\n",
    "Then asking:\n",
    "~~~py\n",
    "ser1 > 3\n",
    "~~~\n",
    "will return a series of equal length with cells representing whether the original value was > 3 as True and otherwise as False. See the example below: "
   ]
  },
  {
   "cell_type": "code",
   "execution_count": null,
   "metadata": {},
   "outputs": [],
   "source": [
    "from pandas import Series\n",
    "\n",
    "ser1 = Series([\"a\",\"b\",\"c\",\"d\"])\n",
    "ser2 = Series([1,3,5,7,9,11])\n",
    "\n",
    "# We can filter a series in lots of different ways. \n",
    "\n",
    "# Every time you evaluate a series by boolean logic it returns a series of that length true / false\n",
    "print(ser1,\"\\n\")\n",
    "print(\"The values greater than 'c':\")\n",
    "print(ser1 > \"c\",\"\\n\")\n",
    "\n",
    "# You can then apply this to your original series to filter out the false entries. \n",
    "print(ser2,\"\\n\")\n",
    "print(ser2 > 5,\"\\n\")\n",
    "\n",
    "print(\"The new slimmer series:\")\n",
    "print(ser2[ser2 > 5])"
   ]
  },
  {
   "cell_type": "markdown",
   "metadata": {},
   "source": [
    "Slicing and filtering are especially useful if you have some missing data and you want to delete the cases \"listwise\", meaning exclude a row. So instead of using a boolean, you would use the function:\n",
    "\n",
    "~~~python \n",
    "series.notnull() \n",
    "~~~\n",
    "\n",
    "which will return true for all the non-null values. You can also use the opposite function: \n",
    "\n",
    "~~~python \n",
    "series.isnull() \n",
    "~~~\n",
    "\n",
    "These will more relevant later this week once we get to merging. When you merge two data sets, you can often have missing data depending on how you merge. "
   ]
  },
  {
   "cell_type": "code",
   "execution_count": null,
   "metadata": {},
   "outputs": [],
   "source": [
    "ser3 = Series([1,4,7,None,8,9])\n",
    "\n",
    "\n",
    "print(ser3)\n",
    "print(ser3.isnull(),\"\\n\")\n",
    "\n",
    "print(ser3[ser3.notnull()])"
   ]
  },
  {
   "cell_type": "markdown",
   "metadata": {},
   "source": [
    "## Key Series Operations \n",
    "\n",
    "There are a number of operations you can do on a series. You can see the lot of them by typing: \n",
    "~~~python\n",
    "dir(Series)\n",
    "~~~\n",
    "\n",
    "We are here focusing on a handful of these for data processing: \n",
    "- value_counts()\n",
    "- unique() \n",
    "- sort() and reindex() \n",
    "\n",
    "### Value Counts\n",
    "\n",
    "```value_counts()``` returns a new series where the earlier values are now indices and the counts of values are now in the cell. So if you have a Series with the following numbers:\n",
    "\n",
    "~~~python\n",
    "ser1 = [1,1,7,7,7,33,1,6,33,7,7] \n",
    "~~~\n",
    "\n",
    "Then you have 3 of the number 1, 5 of the number 7, 2 of the number 33 and one 6. \n",
    "\n",
    "To see this summarised, type \n",
    "\n",
    "~~~python\n",
    "print (ser1.value_counts()) \n",
    "~~~\n",
    "\n",
    "As ```value_counts()``` returns the new series, we can print it directly. See below: "
   ]
  },
  {
   "cell_type": "code",
   "execution_count": null,
   "metadata": {},
   "outputs": [],
   "source": [
    "from pandas import Series \n",
    "\n",
    "ser1 = Series([1,1,7,7,7,33,1,6,33,7,7])\n",
    "\n",
    "print(ser1,\"\\n\")\n",
    "print(ser1.value_counts(),\"\\n\")\n",
    "\n",
    "print(ser1,\"\\n\")\n",
    "print(ser1.unique(),\"\\n\")"
   ]
  },
  {
   "cell_type": "code",
   "execution_count": null,
   "metadata": {},
   "outputs": [],
   "source": [
    "# Since a string is a list of charcters this is \n",
    "# also a quick way to get a count of characters in a string. \n",
    "\n",
    "ser2 = Series(list(\"the quick brown fox jumps over the lazy dog\"))\n",
    "print(ser2,\"\\n\")\n",
    "print(ser2.value_counts(),\"\\n\")"
   ]
  },
  {
   "cell_type": "markdown",
   "metadata": {},
   "source": [
    "So in the previous example, the quick brown fox... was turned into a series that descended in order from the most frequent to the least frequent. \n",
    "1. What if we want to have it sorted alphanumerically? \n",
    "2. What if we only want counts of valid alphanumeric characters and not spaces? \n",
    "\n",
    "For the first one we can use ```sort_index()``` to resort the numbers by index. "
   ]
  },
  {
   "cell_type": "code",
   "execution_count": null,
   "metadata": {},
   "outputs": [],
   "source": [
    "x = (\"hello my name is  bernie\")\n",
    "print(x.split(\" \"))"
   ]
  },
  {
   "cell_type": "code",
   "execution_count": null,
   "metadata": {},
   "outputs": [],
   "source": [
    "?ser1.sort_index()"
   ]
  },
  {
   "cell_type": "code",
   "execution_count": null,
   "metadata": {},
   "outputs": [],
   "source": [
    "from pandas import Series\n",
    "\n",
    "ser1 = Series(list(\"the quick brown fox jumps over the lazy dog\"))\n",
    "print(ser1.value_counts().sort_index(ascending=False))"
   ]
  },
  {
   "cell_type": "markdown",
   "metadata": {},
   "source": [
    "### Map and Lambda \n",
    "\n",
    "What's up with that number 8 above the 'a' character? It refers to the spaces. There are eight spaces in the phrase. Now we have sorted these, so that's good, but how about doing an operation on each of the cells so that we only have a cell for characters? Well, if we want to operate on the string itself it is easy. We already know how to do that, it's\n",
    "\n",
    "~~~python\n",
    "\"<string>\".replace(\" \", \"\")\n",
    "~~~\n",
    "\n",
    "Which will replace all the spaces with nothing. But if we want to operate on each cell, we can use map and lambda. Map takes an input and returns an output. The argument in map is what to do with the output. \n",
    "\n",
    "Lambda is a way of creating a quick function. "
   ]
  },
  {
   "cell_type": "code",
   "execution_count": null,
   "metadata": {},
   "outputs": [],
   "source": [
    "ser1 = ser1[ ser1.map(lambda x: x.isalpha()) ]\n",
    "display(ser1.sort_index())"
   ]
  },
  {
   "cell_type": "code",
   "execution_count": null,
   "metadata": {},
   "outputs": [],
   "source": [
    "# We can use value counts to plot a summary of data as well. \n",
    "%pylab inline\n",
    "\n",
    "ser1.value_counts().sort_index(ascending=True).plot(kind=\"bar\")"
   ]
  },
  {
   "cell_type": "markdown",
   "metadata": {},
   "source": [
    "# Section 3. The DataFrame\n",
    "\n",
    "The DataFrame has a notion of rows and columns. Typically variables would be the columns and cases the rows. This is also related to how data is prepared and calculated. If you call a DataFrame with something in the indexer such as ```df[\"data\"]``` you are accessing the the ```data``` column. Like a series, the DataFrame has a notion of whether it is all of the same type or a mix of different types. \n",
    "\n",
    "Each cell in a DataFrame is its own object. It can hold any other object, though some objects are harder for the DataFrame to represent when printing or displaying the DataFrame. You can slice a DataFrame. The result is a 'view' of the DataFrame. That is to say, in many cases, with DataFrames you will not be creating a completely new DataFrame in memory. This is to help with memory management, but it can have some knock on effects. This will become relevant later when we start grouping data. First, let's create a single DataFrame."
   ]
  },
  {
   "cell_type": "markdown",
   "metadata": {},
   "source": [
    "## Creating a DataFrame\n",
    "\n",
    "There are numerous ways to instantiate a DataFrame:\n",
    "1. Empty\n",
    "2. With data in a python data structure\n",
    "    - A series  (which will preserve the index)\n",
    "    - A list\n",
    "    - A dictionary (which will make the keys the index) \n",
    "    - A numpy array\n",
    "3. From tabular data on file.\n",
    "    - CSV: ```df = DataFrame.from_csv(open(\"<path_to_file>\"))```\n",
    "    - Reading a table via pandas, e.g., ```pd.read_excel(\"<path_to_file>\")```\n",
    "    - Reading a table from an ODBC. \n",
    "4. From json data \n",
    "    - Data in a json can be \"normalised\" to be a DataFrame. We will see this more tomorrow. "
   ]
  },
  {
   "cell_type": "code",
   "execution_count": null,
   "metadata": {},
   "outputs": [],
   "source": [
    "#############################\n",
    "#\n",
    "# Creating an empty DataFrame\n",
    "#\n",
    "#############################\n",
    "import pandas as pd \n",
    "\n",
    "df = pd.DataFrame()\n",
    "display(df)"
   ]
  },
  {
   "cell_type": "code",
   "execution_count": null,
   "metadata": {},
   "outputs": [],
   "source": [
    "import pandas as pd \n",
    "########################################\n",
    "#\n",
    "# Creating a dataframe from a dictionary\n",
    "#\n",
    "########################################\n",
    " \n",
    "dict_for_df = {\n",
    "    \"Reddit\":\"reddit.com\",\n",
    "    \"Digg\":\"digg.com\",\n",
    "    \"BBC\":\"bbc.co.uk\",\n",
    "    \"Greenpeace\":\"greenpeace.org\",\n",
    "}\n",
    "\n",
    "df1 = pd.DataFrame.from_dict(dict_for_df,orient=\"index\")\n",
    "display(df1)"
   ]
  },
  {
   "cell_type": "markdown",
   "metadata": {},
   "source": [
    "Below we will see how to create a DataFrame from a list. There are a number of ways this can work, particularly with two dimensional lists. If you have two dimensions, as in a \"list of lists\", which ones become the rows and columns? For examplein the case of: \n",
    "\n",
    "```\n",
    "exlist = [  [a,b,c], [d,e,f], [g,h,i] ] \n",
    "```\n",
    "We get a DataFrame that looks like: \n",
    "```\n",
    "[[a b c]\n",
    " [d e f]\n",
    " [g h i]] \n",
    "```\n",
    "The _inner_ list is the rows. So this becomes an issue if you have two lists and these are to be the two columns, say one column of ages and one column of heights. \n",
    "```\n",
    "age_list = [35,21,75,42]\n",
    "height_list = [183,188,168,175] \n",
    "```\n",
    "Then you cannot create a DataFrame with \n",
    "```\n",
    "df = pd.DataFrame([age_list, height_list] )\n",
    "```\n",
    "\n",
    "As it will have the ages and heights as the rows. Hmmmm....See below:"
   ]
  },
  {
   "cell_type": "code",
   "execution_count": null,
   "metadata": {},
   "outputs": [],
   "source": [
    "import pandas as pd \n",
    "########################################\n",
    "#\n",
    "# Creating a dataframe from a list\n",
    "#\n",
    "########################################\n",
    "\n",
    "# One dimensional data frame with no indices or column labels \n",
    "df1 = pd.DataFrame([1,2,3,4,5])\n",
    "display(df1)\n",
    "\n",
    "# Two dimensional data frame with no indices or column labels. \n",
    "# Note each 'inner list' in the list is treated as a row. this is why they will come out horizontal.\n",
    "df2 = pd.DataFrame([[1,2,3,4,5],[2,5,10,17,26]])\n",
    "display(df2)\n",
    "\n",
    "# Here we can see a data frame of rows\n",
    "# Notice how PANDAS handles the missing value\n",
    "df3 = pd.DataFrame([[1,2],[2,5],[3,10],[None,4],[5,26]])\n",
    "display(df3)\n",
    "\n",
    "# Let's replace the index for this data frame\n",
    "df3.index = [\"first\",\"second\",\"third\",\"fourth\",\"fifth\"]\n",
    "display(df3)\n",
    "\n",
    "# Let's replace the column labels.\n",
    "df3.columns = [\"number\",\"sq_plus_1\"]\n",
    "display(df3)\n",
    "\n",
    "df3[\"test\"] = 0\n",
    "\n",
    "display(df3)"
   ]
  },
  {
   "cell_type": "markdown",
   "metadata": {},
   "source": [
    "As with everything in python, there are numerous strategies for creating a DataFrame when you have two columns. The first is to 'zip' them. Much like a zipper that takes one metal hook from each size, the zip function takes one element from each list and creates a new list. See the example: "
   ]
  },
  {
   "cell_type": "code",
   "execution_count": null,
   "metadata": {},
   "outputs": [],
   "source": [
    "import pandas as pd \n",
    "\n",
    "age_list = [35,21,75,42] \n",
    "height_list = [183,188,168,175] \n",
    "print( list ( zip(age_list,height_list)) ) \n",
    "\n",
    "new_df = pd.DataFrame( list ( zip(age_list,height_list))) \n",
    "new_df"
   ]
  },
  {
   "cell_type": "markdown",
   "metadata": {},
   "source": [
    "Why can't we just pass ```zip(list1,list2)```? Why do we instead convert that 'zip' back into a list? It's about efficiency in python. In the old python 2 you could do that as zip would return a new list in the shape you'd expect. These days python is a little more careful. Instead it returns an 'iterator', which means it will only create the new list when it needs to, one element at a time. See below: "
   ]
  },
  {
   "cell_type": "code",
   "execution_count": null,
   "metadata": {},
   "outputs": [],
   "source": [
    "age_list = [35,21,75,42] \n",
    "height_list = [183,188,168,175] \n",
    "print(type ( zip(age_list,height_list)))\n",
    "\n",
    "for i in zip(age_list,height_list):\n",
    "    print(i)\n",
    "    \n",
    "try: \n",
    "    display( pd.DataFrame( zip(age_list,height_list)))\n",
    "except TypeError as error:\n",
    "    print(\"Warning!\",error)"
   ]
  },
  {
   "cell_type": "markdown",
   "metadata": {},
   "source": [
    "### DataFrames and Labels \n",
    "\n",
    "Below we will explore row and column labels with DataFrames. A label is a useful way to manage data. If you data with column headers properly, then these should also be imported automatically. Indices can also be labelled rather than simply numeric. \n",
    "\n",
    "Notice how below, we merge in a series. Because both the series and the original DataFrame had number from 0 to 5 as the index (by default), the data in the new column goes into the expected row. "
   ]
  },
  {
   "cell_type": "code",
   "execution_count": null,
   "metadata": {},
   "outputs": [],
   "source": [
    "import pandas as pd\n",
    "# This creates a Series with indices from 0 to n\n",
    "series1 = Series([1,4,9,4,1,6],name=\"Numbers\")\n",
    "\n",
    "df = pd.DataFrame(series1) \n",
    "display(df)\n",
    "\n",
    "# Notice that this Series does not have the indices labelled\n",
    "series2 = Series([\"Alice\",\"Bob\",\"Charlie\",\"Diane\",\"Elanor\",\"Fong\"])\n",
    "display(series2)\n",
    "\n",
    "# This will match the DataFrame column with the Series\n",
    "# As the DataFrame already has an index 2, for example, \"Charlie\", which is\n",
    "# index 2 on the series, will then go into that row. \n",
    "df[\"Names\"] = series2\n",
    "display(df)"
   ]
  },
  {
   "cell_type": "markdown",
   "metadata": {},
   "source": [
    "In this series below, the indices are all mixed up. But that doesn't matter for the DataFrame. All the DF needs to know is what is the index of the value, it will then assign these values to the right row. So based on the dictionary below, we should expect a new ordering of Greed, Envy, Lust, Pride, Sloth, Gluttony, Wrath. \n",
    "\n",
    "Notice that there was no index 2? See how Python handles that."
   ]
  },
  {
   "cell_type": "code",
   "execution_count": null,
   "metadata": {},
   "outputs": [],
   "source": [
    "# This Series has indices. \n",
    "series1 = Series([1,4,9,4,1,6],name=\"Numbers\")\n",
    "df = pd.DataFrame(series1) \n",
    "\n",
    "series2 = Series({\n",
    "    4:\"Pride\",\n",
    "    0:\"Greed\",\n",
    "    3:\"Lust\",\n",
    "    1:\"Envy\",\n",
    "    5:\"Sloth\",\n",
    "    6:\"Gluttony\",\n",
    "    7:\"Wrath\"\n",
    "})\n",
    "\n",
    "df[\"sins\"] = series2\n",
    "display(df)"
   ]
  },
  {
   "cell_type": "markdown",
   "metadata": {},
   "source": [
    "When concatenating, you can either stack that data so that new data goes below, or new data goes to the side. If it goes to the side it will need to have the matching indices. "
   ]
  },
  {
   "cell_type": "code",
   "execution_count": null,
   "metadata": {},
   "outputs": [],
   "source": [
    "# Concatenating the series. It stacks them on top of each other. \n",
    "# Notice the index is now repeating.\n",
    "\n",
    "series1 = Series([1,4,9,4,1,6,7],name=\"Numbers\")\n",
    "df = pd.DataFrame(series1) \n",
    "display(pd.concat([df,series2],axis=0))\n",
    "\n",
    "# We can reset the index, but in this case we want to stack \n",
    "# horizontally rather than vertically. \n",
    "df = pd.DataFrame(series1) \n",
    "display(pd.concat([df,series2],axis=1) )"
   ]
  },
  {
   "cell_type": "markdown",
   "metadata": {},
   "source": [
    "## Deleting a column from a series"
   ]
  },
  {
   "cell_type": "code",
   "execution_count": null,
   "metadata": {},
   "outputs": [],
   "source": [
    "display(df)\n",
    "display(df.columns)\n",
    "\n",
    "if \"Names\" in df.columns: \n",
    "    del df[\"Names\"]\n",
    "    \n",
    "display(df)"
   ]
  },
  {
   "cell_type": "markdown",
   "metadata": {},
   "source": [
    "## Adding data to a dataframe as row "
   ]
  },
  {
   "cell_type": "markdown",
   "metadata": {},
   "source": [
    "Below are a number of ways to add a dataframe to a row. We first look at append and then concat. We will later look at ```loc``` / ```iloc``` as ways to enter data by hand. \n",
    "\n",
    "When we add data together, PANDAS tries to merge based on the column names, but as seen above, it doesn't not try to merge on indices unless specified. "
   ]
  },
  {
   "cell_type": "code",
   "execution_count": null,
   "metadata": {},
   "outputs": [],
   "source": [
    "df = pd.DataFrame([[1, 2], [3, 4]], columns=list('AB'),index=[3,4])\n",
    "display(df)\n",
    "# Appending a DataFrame with columns unspecified\n",
    "df2 = pd.DataFrame([[5, 6], [7, 8]])\n",
    "display(df.append(df2))\n",
    "\n",
    "# Appending a DataFrame with the same columns. \n",
    "df2 = pd.DataFrame([[5, 6], [7, 8]], columns=[\"A\",\"B\"])\n",
    "display(df.append(df2))\n"
   ]
  },
  {
   "cell_type": "code",
   "execution_count": null,
   "metadata": {},
   "outputs": [],
   "source": [
    "# Concatenating a DataFrame with same columns \n",
    "df2 = pd.DataFrame([[5, 6], [7, 8]], columns=list('AB'))\n",
    "display(df + df2)\n",
    "\n",
    "# Without 'ignore_index=True flag'\n",
    "display(pd.concat([df,df2]))\n",
    "\n",
    "display(pd.concat([df,df2],ignore_index=True))"
   ]
  },
  {
   "cell_type": "code",
   "execution_count": null,
   "metadata": {},
   "outputs": [],
   "source": [
    "df = pd.DataFrame([[1, 2], [3, 4]], columns=list('AB'))\n",
    "\n",
    "# Appending a list of data\n",
    "list1 = [6,8]\n",
    "display(df.append(list1))\n",
    "\n",
    "# Appending a list of a list of data\n",
    "list1 = [[6,8]]\n",
    "display(df.append(list1))"
   ]
  },
  {
   "cell_type": "code",
   "execution_count": null,
   "metadata": {},
   "outputs": [],
   "source": [
    "df = pd.DataFrame([[1, 2], [3, 4]], columns=list('AB'))\n",
    "\n",
    "# Appending a Series of data\n",
    "series1 = pd.Series([6,8])\n",
    "display(df.append(series1,ignore_index=True))\n",
    "\n",
    "# Appending a Series of data\n",
    "series1 = pd.Series([6,8],index=['A','B'])\n",
    "display(df.append(series1,ignore_index=True))\n",
    "\n",
    "# Appending a Series of data\n",
    "series1 = pd.Series([6,8],index=['B','A'],name=\"SeriesData\")\n",
    "display(df.append(series1))"
   ]
  },
  {
   "cell_type": "markdown",
   "metadata": {},
   "source": [
    "## Indexing / altering an element"
   ]
  },
  {
   "cell_type": "markdown",
   "metadata": {},
   "source": [
    "Two common ways to locate the contents of a cell are to use ```.loc[]``` and ```iloc[]```. Notice that these are indexers and not methods, which is why they use the square brackets and not the parentheses. \n",
    "\n",
    "- ```.loc[]``` locates based on the name of the row. So in some code, you might see the use of loc with a number, but be careful! that number refers to the label of the index, not its sequential index. \n",
    "- ```.iloc[]``` locates based on the index of the row sequentially.\n",
    "\n",
    "The difference between these two can be seen in the code below. "
   ]
  },
  {
   "cell_type": "code",
   "execution_count": null,
   "metadata": {},
   "outputs": [],
   "source": [
    "df = pd.DataFrame([[1, 2], [3, 4]], columns=list('AB'))\n",
    "\n",
    "# Indexed locate\n",
    "display( df.iloc[0] )\n",
    "# Label-based locate\n",
    "display( df.loc[0] )\n",
    "\n",
    "df.index = [\"col1\",\"col2\"]\n",
    "\n",
    "# Indexed locate\n",
    "display( df.iloc[0] )\n",
    "# Label-based locate\n",
    "try: \n",
    "    display( df.loc[0])\n",
    "except:\n",
    "    print(\"Zero is no longer the label for the index.\")\n",
    "    print(\"The zeroth row is:\", df.index[0])\n",
    "    display( df.loc[\"col1\"])"
   ]
  },
  {
   "cell_type": "markdown",
   "metadata": {},
   "source": [
    "### loc and col for indexing by cell. \n",
    "Loc / iloc return a series with the DataFrame column names as the indices. \n",
    "\n",
    "So if you want the whole row this works fine. Sometimes you just want a cell. In such a case, you have to subsequently ask for the specific column to get the value of the cell and not the whole row. Below are some examples of how to get a row of data and then a single cell. "
   ]
  },
  {
   "cell_type": "code",
   "execution_count": null,
   "metadata": {},
   "outputs": [],
   "source": [
    "df = pd.DataFrame([[1, 2], [3, 4], [5,6]], columns=list('AB'), \n",
    "                  index=[\"first\",\"second\",\"third\"])\n",
    "\n",
    "display(df)\n",
    "# Returns the row\n",
    "display(df.loc[\"first\"])\n",
    "display(df['A'])\n",
    "\n",
    "# Returns the 'A' indexed value from the row.\n",
    "display(df.loc[\"first\"][\"A\"])\n",
    "display(df.iloc[0,1])\n",
    "\n",
    "# Same as above but with more sugar\n",
    "display(df.loc[\"first\",\"A\"])\n",
    "\n",
    "# You can slice the indices as well\n",
    "display(df.loc[\"second\":,\"A\"])\n",
    "\n",
    "# You can slice columns as well\n",
    "df[\"C\"] = [7,8,9]\n",
    "display(df.loc[\"first\",\"B\":])\n",
    "display(df.iloc[0,1:])\n"
   ]
  },
  {
   "cell_type": "markdown",
   "metadata": {},
   "source": [
    "## Slicing DataFrames with booleans\n",
    "\n",
    "if you can slice up a DataFrame, you should be able to filter a DataFrame just like we could slice a series. Indeed, this is the case, see below. "
   ]
  },
  {
   "cell_type": "code",
   "execution_count": null,
   "metadata": {},
   "outputs": [],
   "source": [
    "df = pd.DataFrame([[1, 2], [3, 4], [5,6]], columns=list('AB'), \n",
    "                  index=[\"first\",\"second\",\"third\"])\n",
    "\n",
    "display(df)\n",
    "\n",
    "# Notice that we have queried the DF for a specific series. \n",
    "display(df[\"B\"] > 2)\n",
    "\n",
    "# Down here we filter by the result of that query. \n",
    "display( df[  df[\"B\"] > 2 ] )\n"
   ]
  }
 ],
 "metadata": {
  "kernelspec": {
   "display_name": "Python 3",
   "language": "python",
   "name": "python3"
  },
  "language_info": {
   "codemirror_mode": {
    "name": "ipython",
    "version": 3
   },
   "file_extension": ".py",
   "mimetype": "text/x-python",
   "name": "python",
   "nbconvert_exporter": "python",
   "pygments_lexer": "ipython3",
   "version": "3.7.0"
  }
 },
 "nbformat": 4,
 "nbformat_minor": 2
}
