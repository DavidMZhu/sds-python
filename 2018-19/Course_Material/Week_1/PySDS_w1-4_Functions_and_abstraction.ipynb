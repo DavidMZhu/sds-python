{
 "cells": [
  {
   "cell_type": "markdown",
   "metadata": {},
   "source": [
    "**PySDS Week 1. Lecture 4. v1.1** Author: Bernie Hogan"
   ]
  },
  {
   "cell_type": "markdown",
   "metadata": {},
   "source": [
    "# Learning Python: Functions and abstraction"
   ]
  },
  {
   "cell_type": "markdown",
   "metadata": {},
   "source": [
    "# Section 1: Error Handling \n",
    "\n",
    "you will have noticed by now that sometimes the code gives errors. And sometimes this is not actually a problem for the code. We might want to deal with the error and move on rather than have the program break because of an error. This will be espeically pertinent in week three once we start doing work on the web, as socket and connectivity errors happen but we will still want the program to continue collecting data. \n",
    "\n",
    "Here is an example of an error: "
   ]
  },
  {
   "cell_type": "code",
   "execution_count": null,
   "metadata": {},
   "outputs": [],
   "source": [
    "1/0"
   ]
  },
  {
   "cell_type": "markdown",
   "metadata": {},
   "source": [
    "The error is a zero division error as we know from maths that we cannot divide by zero for zero means nothing (sparing us all the complex proofs of this, which are really interesting, but not for here). The important part is that we can catch the error and move on if we anticipate it and think it's not going to affect future code. We do this using ```try``` and ```except``` statements. See the example below: "
   ]
  },
  {
   "cell_type": "code",
   "execution_count": null,
   "metadata": {},
   "outputs": [],
   "source": [
    "print(...)"
   ]
  },
  {
   "cell_type": "code",
   "execution_count": null,
   "metadata": {},
   "outputs": [],
   "source": [
    "import numpy as np \n",
    "\n",
    "for i in range(-5,5):\n",
    "    try:\n",
    "        print(1/i)\n",
    "    except:\n",
    "#         print(1/i)\n",
    "        print(np.nan)\n"
   ]
  },
  {
   "cell_type": "markdown",
   "metadata": {},
   "source": [
    "If we just said ```except``` and left out the ```ZeroDivisionError``` it would catch all possible errors. This is not necessarily what we want, since some of those errors might be legitimately concerning while others are things we anticipate as a matter of course. "
   ]
  },
  {
   "cell_type": "markdown",
   "metadata": {},
   "source": [
    "# Section 2. Building your own functions\n",
    "\n",
    "Below I show some code to build a list called outlist. Then I think, how about doing that in a list comprension. It's a problem as it has if and else statements available, and things are starting to get a bit complex. What we can do, is write a function, throw all the complicated bits in the function and then just call the function inside the list comprehension. That's what we do with the ```makeEven``` function. "
   ]
  },
  {
   "cell_type": "code",
   "execution_count": null,
   "metadata": {},
   "outputs": [],
   "source": [
    "# We make numbers even in bespoke, non-reusable code here\n",
    "outlist = []\n",
    "for i in range(10):\n",
    "    if i%2 ==1:\n",
    "        outlist.append(i+1)\n",
    "    else:\n",
    "        outlist.append(i)\n",
    "\n",
    "print(outlist)\n",
    "\n",
    "\n",
    "def makeEven(number):\n",
    "    if number %2 ==1:\n",
    "        return number+1\n",
    "    else:\n",
    "        return number\n",
    "    \n",
    "[makeEven(x) for x in range(10)]\n"
   ]
  },
  {
   "cell_type": "markdown",
   "metadata": {},
   "source": [
    "Building your own functions is a crucial part of coding. Without functions, you are left with code that is literally just one command after another. With functions you can abstract away the common parts and just send the novel parts to the function as __arguments__. \n",
    "\n",
    "We have already seen a few functions such as ```print()``` and ```len()```. Below is an example of some repetitive code and then is an example of a function that does this repetitive job at once. As I mentioned above, if you are going more than three loops deep (some would say one loop deep) then you're doing it wrong. One of the things you ought to do rather than loops within loops is to call a function. How to do that will become clear as we learn more about these crucial parts of programming. "
   ]
  },
  {
   "cell_type": "code",
   "execution_count": null,
   "metadata": {},
   "outputs": [],
   "source": [
    "x = 5\n",
    "if x %2 == 1: \n",
    "    y = x * 2 \n",
    "else:\n",
    "    y = x\n",
    "\n",
    "x = 8\n",
    "if x % 2 == 1: \n",
    "    y = x * 2\n",
    "else:\n",
    "    y = x \n",
    "    \n",
    "x = 10\n",
    "if x % 2 == 1: \n",
    "    y = x * 2 \n",
    "else:\n",
    "    y = x\n",
    "    \n",
    "    \n",
    "def doubleIfOdd(input):\n",
    "    if input % 2 == 1:\n",
    "        return input * 2\n",
    "    else:\n",
    "        return input\n",
    "\n",
    "x = 7\n",
    "y = doubleIfOdd(x) \n",
    "print(y)"
   ]
  },
  {
   "cell_type": "markdown",
   "metadata": {},
   "source": [
    "This will serve as a tutorial to functions. It is really, really superficial. Later we will make these functions more complicated but for now, let's stick with the bare minimum. \n",
    "\n",
    "A function is a piece of code with a name, a place for some input, a place for some calculations and a means to return the results of the calculations back to where ever the function was invoked. \n",
    "\n",
    "Imagine I have a function called ```doubleTheNumber``` that literally just takes a number and doubles it.\n",
    "\n",
    "~~~ python\n",
    "x = 5\n",
    "y = doubleTheNumber(x) \n",
    "print(y)\n",
    "> 10\n",
    "~~~\n",
    "\n",
    "Now to build that function we need to do the four things specified above: \n",
    "- Name\n",
    "- Inputs\n",
    "- Calculations\n",
    "- Outputs\n",
    "\n",
    "~~~ python\n",
    "def doubleTheNumber ( input_number): \n",
    "    output_number = input_number * 2\n",
    "    return output_number\n",
    "~~~ \n",
    "\n",
    "This code above has all four things things we wanted. Of course, we could have just taken the input and went ```input * 2``` but that's not how we learn how to use functions. We can do lots of things inside a function. This way we can then call that function inside a list comprehension. In the example above we did not just double the number, but doubled the number if the number was odd. That way all the numbers that get returned are even.\n",
    "\n",
    "Below we will use that function inside of a list comprehension."
   ]
  },
  {
   "cell_type": "code",
   "execution_count": null,
   "metadata": {},
   "outputs": [],
   "source": [
    "def doubleTheNumberIfEven ( input_number ): \n",
    "    if input_number%2==0:\n",
    "        return input_number * 2\n",
    "    else:\n",
    "        return input_number\n",
    "    \n",
    "numbers = [1,4,6,7,9,14,17]\n",
    "\n",
    "new_numbers = [doubleTheNumberIfEven(i) for i in numbers]\n",
    "\n",
    "print(new_numbers)"
   ]
  },
  {
   "cell_type": "markdown",
   "metadata": {},
   "source": [
    "## Important notes on functions \n",
    "Functions are a huge topic. These will not be the last notes you'll need. \n",
    "\n",
    "### Note 1. Variables have a 'scope'. \n",
    "A variable that is created inside of a function is not the same as the one created outside of that function even if they have the same name. This is because the variable inside the function is a __local__ variable. Variables created in jupyter are typically treated as __global__ variables if they are created in a cell but not in a function. To be global means that they can be used anywhere. Local variables are created and destroyed within their local context. You can watch this behavior with a code snippet. "
   ]
  },
  {
   "cell_type": "code",
   "execution_count": null,
   "metadata": {},
   "outputs": [],
   "source": [
    "# Local / Global scope example 1: Variable in the function stays in there.\n",
    "\n",
    "def multiplyTheValue(input_number):\n",
    "    x = input_number * 2\n",
    "    print(\"Inside the function\",x)\n",
    "    return x \n",
    "\n",
    "x = 4 \n",
    "print( \"Before the function\",x)\n",
    "\n",
    "output_number = multiplyTheValue(x)\n",
    "\n",
    "print(\"After the function\",x)\n",
    "print(output_number)"
   ]
  },
  {
   "cell_type": "markdown",
   "metadata": {},
   "source": [
    "But ```x``` wasn't the argument, input_number was. So what if we change input number inside the function? "
   ]
  },
  {
   "cell_type": "code",
   "execution_count": null,
   "metadata": {},
   "outputs": [],
   "source": [
    "# Local / Global scope example 2: Argument sent to function doesn't escape the function.\n",
    "\n",
    "x = 4 \n",
    "# print(\"Before the function\",input_number)\n",
    "\n",
    "def multiplyTheValue(input_number):\n",
    "    x = input_number * 2\n",
    "    input_number = 33\n",
    "    print(\"Inside the function\",input_number)\n",
    "    return x \n",
    "\n",
    "output_number = multiplyTheValue(x)\n",
    "\n",
    "print(\"After the function\",input_number)"
   ]
  },
  {
   "cell_type": "markdown",
   "metadata": {},
   "source": [
    "It seems that it is still the case. We changed ```input_number``` to 33 inside the function. Yet, when we print it outside of the function, it throws an error. This is because we created ```input_number``` inside the function, so it isn't available outside the function unless we explicitly make it available (which is often a very bad idea that leads to all sorts of unexpected issues). "
   ]
  },
  {
   "cell_type": "code",
   "execution_count": null,
   "metadata": {},
   "outputs": [],
   "source": [
    "# Local / Global scope example 3: Casting a variable as global makes it available outside the function.\n",
    "\n",
    "x = 4\n",
    "print(\"Before the function\",x)\n",
    "\n",
    "def multiplyTheValue(input_number):\n",
    "    global x\n",
    "    x = input_number * 2\n",
    "    \n",
    "    input_number = 33\n",
    "    print(\"Inside the function\",x)\n",
    "    return x \n",
    "\n",
    "output_number = multiplyTheValue(x)\n",
    "\n",
    "print(\"After the function\",x)"
   ]
  },
  {
   "cell_type": "markdown",
   "metadata": {},
   "source": [
    "In this third example, we can see that when we declare x is a global variable inside the function, that value then becomes the value outside of the function. We double ```x``` inside the function and then later when we print x it is no longer 4, it retains the value it had inside the function. "
   ]
  },
  {
   "cell_type": "code",
   "execution_count": null,
   "metadata": {},
   "outputs": [],
   "source": [
    "print(\"a\",\"b\",\"c\",4456456)"
   ]
  },
  {
   "cell_type": "markdown",
   "metadata": {},
   "source": [
    "### Note 2. There are all kinds of ways of passing data to a function. \n",
    "\n",
    "\n",
    "Functions can take more than one input. Here are some things we can do with inputs: \n",
    "1. Just give it a name. \n",
    "\n",
    "    ~~~ python \n",
    "    def example( just_name):\n",
    "        return just_name\n",
    "\n",
    "    print ( example1(\"some data\") )\n",
    "    ~~~\n",
    "\n",
    "2. Give it a name and a default value.\n",
    "\n",
    "    ~~~ python\n",
    "    def example2( just_name, name_default = True ):\n",
    "        if name_default:\n",
    "               return just_name\n",
    "        return \"Something else\"\n",
    "\n",
    "    print ( example2(\"some data\") )\n",
    "    ~~~\n",
    "\n",
    "3. Leave it ambiguous as a list of values. You'll have to query these in order.\n",
    "\n",
    "    ~~~ python\n",
    "    def example3( just_name, **args):\n",
    "        if len(args) > 0:\n",
    "            for i in args: print(i)\n",
    "\n",
    "    print ( example3(\"some data\",\"Maybe\",\"more data\") )\n",
    "    ~~~\n",
    "\n",
    "4. Leave it ambiguous as a dictionary of variable names and values. You'll have to query these by key.\n",
    "\n",
    "    ~~~ python\n",
    "    def example4( **kwargs):\n",
    "        if len(args) > 0:\n",
    "            for i,j in kwargs: print(i)\n",
    "\n",
    "    print ( example3(var1=\"some data\",var3=\"Maybe\",var2=\"more data\") )\n",
    "    ~~~\n",
    "\n",
    "[This page from ProTech](https://www.protechtraining.com/content/python_fundamentals_tutorial-functions) gives a nice simple overview of these sorts of arguments. Below you can try these out for yourself.\n"
   ]
  },
  {
   "cell_type": "code",
   "execution_count": null,
   "metadata": {},
   "outputs": [],
   "source": [
    "# Example 1. Just a single positional argument\n",
    "def example1( just_name):\n",
    "    print( just_name)\n",
    "\n",
    "example1(\"example 1 argument\")"
   ]
  },
  {
   "cell_type": "code",
   "execution_count": null,
   "metadata": {},
   "outputs": [],
   "source": [
    "# Example 2. A positional argument with a default value\n",
    "def example2( just_name, name_default = True ):\n",
    "    if name_default:\n",
    "        print(just_name)\n",
    "    else:\n",
    "        print(\"name_default was false\")\n",
    "\n",
    "example2(\"Are the defaults true?\",name_default=False)"
   ]
  },
  {
   "cell_type": "code",
   "execution_count": null,
   "metadata": {},
   "outputs": [],
   "source": [
    "# Example 3. Postional arguments passed but not defined ahead of time\n",
    "def example3( *args, just_name):\n",
    "    if len(args) > 0:\n",
    "        for i in args: print(i)\n",
    "\n",
    "example3(\"some data\",\"Maybe\",\"more data\")"
   ]
  },
  {
   "cell_type": "code",
   "execution_count": null,
   "metadata": {},
   "outputs": [],
   "source": [
    "# Example 4. Keyword arguments passed but not defined ahead of time\n",
    "def example4(**kwargs):\n",
    "    if len(kwargs) > 0:\n",
    "        for i,j in kwargs.items(): print(\"var name:\",i,\"\\tvalue:\",j)\n",
    "\n",
    "example4(var1=\"some data from var1\",var3=\"Maybe it's var3?\",var2=\"var2's valuedata\")"
   ]
  },
  {
   "cell_type": "code",
   "execution_count": null,
   "metadata": {},
   "outputs": [],
   "source": [
    "\n",
    "def MakeDouble(value):\n",
    "    try: \n",
    "        output = value*2\n",
    "    except TypeError:\n",
    "        output = None\n",
    "        \n",
    "    return output\n",
    "\n",
    "print( MakeDouble(2)  )\n",
    "print( MakeDouble(\"Double\")  )\n",
    "print( MakeDouble([\"2\"]))\n",
    "print( MakeDouble({1:4}))\n",
    "\n"
   ]
  },
  {
   "cell_type": "markdown",
   "metadata": {},
   "source": [
    "### Note 3. A function always returns, but it might be nothing at all.\n",
    "\n",
    "Your function always stops at the return statement. You can have multiple return statements for different conditions (like saying if...return one thing and else...return another). After the return statement, the rest will not be evaluated by the program. But if your statement does not have a return, python will still return ```None``` (which if you remember from above evaluates to ```False```). Just try it for yourself. "
   ]
  },
  {
   "cell_type": "code",
   "execution_count": null,
   "metadata": {},
   "outputs": [],
   "source": [
    "def noReturn():\n",
    "    pass\n",
    "\n",
    "print( noReturn())\n",
    "\n",
    "if noReturn(): \n",
    "    print(\"Did it work?\")\n",
    "else:\n",
    "    print(\"Oh right, None evaluates to false.\")\n",
    "    \n"
   ]
  },
  {
   "cell_type": "markdown",
   "metadata": {},
   "source": [
    "# Section 3. Classes and Objects \n",
    "\n",
    "This is likely to be one of the hardest sections you have encountered yet. Not all programming is object-oriented these days. And not all programs need to be object oriented. Regardless, Python is object oriented (as is Java, C++, swift, Objective-C, and Ruby, for example). Starting next week we will be using a lot of external packages in python. These packages will require you to be familiar with a host of different tools. These tools are normally objects. So learning how an object works, what you can do with it and how you might want to creat your own to help with your code is a very good idea. \n",
    "\n",
    "Remember before we said that there was a difference between functions and methods, but it wasn't that important. Now it gets a little more important. A __method__ is a function that is called by an object and operates on that object. This means that the method has a notion of a __self__. Self refers to the object that we created. So when we call:\n",
    "\n",
    "~~~\n",
    "\"\".join()\n",
    "~~~\n",
    "we are actually invoking a method that's part of the string __Class__. Later, when we work with tweet objects or Reddit objets through the praw package,  we will be using methods specific to that object. \n",
    "\n",
    "## Basic object example \n",
    "Imagine we have an object class called ```DoubleNumber```,  that stores two numbers. We then have two methods, ```getNumberA()``` and ```getNumberB()```. These objects will know that numbers A and B were already stored in the ```DoubleNumber``` object. In fact, we could make it so that the object can't be created without declaring what will be number A and what will be number B. \n",
    "\n",
    "~~~ python \n",
    "\n",
    "class DoubleNumber: \n",
    "\n",
    "    def __init__ (self):\n",
    "        self.numberA = 0\n",
    "        self.numberB = 42 \n",
    "    \n",
    "    def getNumberA(self): \n",
    "        return self.numberA\n",
    "    \n",
    "    def getNumberB(self): \n",
    "        return self.numberB  \n",
    " \n",
    "dn = DoubleNumber() \n",
    "\n",
    "~~~\n",
    "\n",
    "See in the code above that the class is called DoubleNumber. When you call it by invoking ```dn = DoubleNumber()``` you now have an object called ```dn``` which is a ```DoubleNumber``` object. It comes ready-made with a numberA with a value of 0 and a numberB with a value of 42. You can discover these values by calling the ```get``` methods. Unfortunately, we can't use a method to change these values because we haven't created one! Below in the working code is a more elaborate class that you can use.  It will have get, set and another method for you to use. \n",
    "\n"
   ]
  },
  {
   "cell_type": "code",
   "execution_count": null,
   "metadata": {},
   "outputs": [],
   "source": [
    "class DoubleNumber: \n",
    "    '''an object\n",
    "\n",
    "    you guessed it\n",
    "    '''\n",
    "    \n",
    "    def __init__(self):\n",
    "        self.numberA = 0\n",
    "        self.numberB = 42 \n",
    "    \n",
    "    def getNumber(self, number = 'a'): \n",
    "        if number == 'a':\n",
    "            return self.numberA\n",
    "        elif number == 'b':\n",
    "            return self.numberB\n",
    "        else:\n",
    "            return\n",
    "    \n",
    "    def setNumber(self, new_value, number = 'a'):\n",
    "        if number == 'a':\n",
    "            self.numberA = new_value \n",
    "            return True \n",
    "        elif number == 'b': \n",
    "            self.numberB = new_value\n",
    "            return True         \n",
    "        else:\n",
    "            return False  \n",
    "\n",
    "dn = DoubleNumber() \n",
    "\n",
    "fn = DoubleNumber() \n",
    "\n",
    "print ( dn.getNumber() )\n",
    "\n",
    "print ( dn.getNumber('b') )\n",
    "\n",
    "dn.setNumber(9234523425401,'b')\n",
    "\n",
    "print ( fn.getNumber('b') )\n",
    "\n",
    "print( fn.numberB, dn.numberB)"
   ]
  },
  {
   "cell_type": "code",
   "execution_count": null,
   "metadata": {},
   "outputs": [],
   "source": [
    "import numpy \n",
    "\n",
    "x = numpy.array(5)\n",
    "type(fn)"
   ]
  },
  {
   "cell_type": "markdown",
   "metadata": {},
   "source": [
    "## Reasons to use a class\n",
    "\n",
    "Part of the reason for showing a class is that it helps us understand the basis of objects, as each object is necessarily an __instantiation__ of some _class_ of object. So next week we will be exploring data wrangling and this will involve the use of more complex data structures thann we have seen up to this point. These structures are all their own kinds of objects with their own features. When you see: \n",
    "\n",
    "~~~\n",
    "import pandas as pd \n",
    "\n",
    "df = pd.DataFrame(cols=[\"name\",\"age\"]) \n",
    "~~~\n",
    "\n",
    "You will be able to note that pandas is a library. In this library, which we have imported under the name 'pd' rather than 'pandas', is a class called a DataFrame. By calling ```df = pd.DataFrame()``` you are creating an __instance__ of the DataFrame class called df. As a class it has certain methods available to it. You can discover these methods with the ```dir(<instance>)``` command, which will list the methods available to that object. Try it with the list class below:  "
   ]
  },
  {
   "cell_type": "code",
   "execution_count": null,
   "metadata": {},
   "outputs": [],
   "source": [
    "dir([])"
   ]
  },
  {
   "cell_type": "markdown",
   "metadata": {},
   "source": [
    "You will note that the class has an awful lot of methods with __ in the front of them. These are system methods that you should never have to use unless you are doing some really low level hacking. Then beyond that are the methods we have already introduced (plus a handful others). Now if you list the directory of a method like a DataFrame, you will see a huge number of methods since DataFrame is a very complex object with a ton of options. \n"
   ]
  },
  {
   "cell_type": "markdown",
   "metadata": {},
   "source": [
    "## Important notes on class files\n",
    "\n",
    "### Note 1. A class variable is referenced different inside and outside the class.\n",
    "\n",
    "In the doubleNumber example above we had a ```numberA``` and a ```numberB``` instantiated every time we create a DoubleNumber object. If you have a method inside the class, such as the setNumber method then numberA has to be referenced as ```self.numberA```. If you are outside the class, say perhaps if you create a DoubleNumber object called ```dn``` and you want to access its numberA value directly, it would be ```dn.numberA```. \n",
    "\n",
    "### Note 2. Classes always have an init statement at the top, the rest is up to you. \n",
    "\n",
    "Actually, you can cheat a little bit here and not even have an init statement, but in that case, it is created implicitly. Init is the method that is run whenever you create a new object of that class type. If you have program that creates tweets for processing, then putting things in the init (such as when you created the tweet) will then be available for later. "
   ]
  },
  {
   "cell_type": "markdown",
   "metadata": {},
   "source": [
    "### Note 3. Classes can have subclasses\n",
    "\n",
    "If you create a class, it can inherit the methods of another class. This is a common pattern in python programming. That is, the systemm will provide a class with some empty methods and then you create a subclass that overwrites those methods with ones that do the things you want to do. This can be a bit abstract, so we will just leave it here. Later on you will see methods like HTMLparser and TweetStreamer that want you to create a subclass to handle data that comes in. Below is a basic example of this."
   ]
  },
  {
   "cell_type": "code",
   "execution_count": null,
   "metadata": {},
   "outputs": [],
   "source": [
    "class Fruit():\n",
    "    def __init__ (self):\n",
    "        self.name = \"Fruit\"\n",
    "    \n",
    "    def getName(self):\n",
    "        return self.name\n",
    "    \n",
    "class Apple(Fruit):  # This is Apple inheriting the methods and properties of Fruit\n",
    "    def __init__ (self,variety=\"\"):\n",
    "        self.name = \"Apple\"\n",
    "        self.variety = type\n",
    "\n",
    "granny_smith = Apple(variety=\"Granny Smith\")\n",
    "print(granny_smith.getName())"
   ]
  },
  {
   "cell_type": "markdown",
   "metadata": {},
   "source": [
    "Notice in the above example, we did not make a ```getName``` for Apple? Instead we _inherited_ it from fruit. "
   ]
  },
  {
   "cell_type": "markdown",
   "metadata": {},
   "source": [
    "# Section 4. Brief note on style. \n",
    "\n",
    "There are different ways to write vvariable names. There is: \n",
    "\n",
    "A. concatenatewords\n",
    "\n",
    "B. underscore_words\n",
    "\n",
    "C. camelCase\n",
    "\n",
    "D. also, CamelCase\n",
    "\n",
    "E. hyphen-words\n",
    "\n",
    "F. UPPERCASE\n",
    "\n",
    "So when are these used, is there any consistency and why? These tend to be slightly different depending on program and project, but there are some general guidelines. \n",
    "\n",
    "A. Classes: \n",
    "    - CamelCase, like DataFrame or DoubleNumber\n",
    "B. Functions \n",
    "    - camelCase like getNumber. Function names are more inconsistent. \n",
    "C. Variables\n",
    "    - underscore_words like muppet_list. \n",
    "D. Static variables. \n",
    "    - UPPERCASE like DOWNLOADDIR. Upper case means that the variable should not change throughout the program, like a setting or a REGISTRY_KEY in Windows.\n",
    "    \n",
    "These are rarely consistent, but this tends to be the case. It should help you navigate variable names and make your code and the code of others easier to read. "
   ]
  },
  {
   "cell_type": "code",
   "execution_count": null,
   "metadata": {},
   "outputs": [],
   "source": []
  }
 ],
 "metadata": {
  "kernelspec": {
   "display_name": "Python 3",
   "language": "python",
   "name": "python3"
  },
  "language_info": {
   "codemirror_mode": {
    "name": "ipython",
    "version": 3
   },
   "file_extension": ".py",
   "mimetype": "text/x-python",
   "name": "python",
   "nbconvert_exporter": "python",
   "pygments_lexer": "ipython3",
   "version": "3.7.0"
  }
 },
 "nbformat": 4,
 "nbformat_minor": 2
}
