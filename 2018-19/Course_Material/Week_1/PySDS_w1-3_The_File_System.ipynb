{
 "cells": [
  {
   "cell_type": "markdown",
   "metadata": {},
   "source": [
    "**PySDS Week 1. Lecture 3. V1** Author: Bernie Hogan"
   ]
  },
  {
   "cell_type": "markdown",
   "metadata": {},
   "source": [
    "# Learning Python: The file system"
   ]
  },
  {
   "cell_type": "markdown",
   "metadata": {},
   "source": [
    "Up until now we have only used jupyter notebooks and stayed pretty closely in this environment. But we will need to branch out eventually. This involves learning a number of features about the operating system and how to interface with it. We will also learn how to create a file, write data to it and read the data from it. "
   ]
  },
  {
   "cell_type": "markdown",
   "metadata": {},
   "source": [
    "Windows, Mac, Linux, Chrome or iOS, all computers have an __operating system__. The operating system runs programs, manages memory and allocates computer tasks so that multiple programs can run at the same time. An operating system is what tends to differentiate modern computing from mechanical tasks. The OS is meant to be a general purpose means for accomplishing tasks. \n",
    "\n",
    "Virtually all operating systems operate on __[Von Neumann achirtecture](https://en.wikipedia.org/wiki/Von_Neumann_architecture)__. This means they will have an input device (typically a keyboard but could be any sensor), a proccessor that does calculations, memory (typically fast memory such as RAM and slow memory such as a Hard Drive for more long term storage) and an output device (often, but not necessarily a screen). Other archtectures based on state machines and quantum computing exist but are often experimental and not quite relevant at the moment. \n",
    "\n",
    "Most operating systems these days are either Windows-based or \\*nix-based (i.e., Unix or Linux). Macintosh used to have its own operating system kernel, but has switched roughly 15 years ago to Unix for Mac OS X. There are many differences under the hood between Mac and Linux but for this lecture, we will focus on the many similarities related to file storage. These operating systems store files on a hard drive which can be accessed using the __file path__. \n"
   ]
  },
  {
   "cell_type": "markdown",
   "metadata": {},
   "source": [
    "# Section 1. Navigating the file path with Python and in a terminal \n",
    "\n",
    "Files, or more properly speaking __file indices__, are stored in hierarchical structures.  The topmost structure would be considered __the root directory__. Under the root directory would be child directories. Even though it can be characterised as a 'tree', we tend to use the terms children and parent. Perhaps think of it more like a family tree, a very peculiar family tree. \n",
    "\n",
    "### Note: File systems are different on \\*Nix and Windows. \n",
    "\n",
    "Windows was a small operating system back in the day. It wanted to preserve backwards compatibility with earlier systems and it already made use of the __```/```__ character. So it used __```\\```__ instead. Didn't seem like a big deal at a time, but it has certainly become a nuisance for programmers ever since. Along with some other quirks, such as the drives as having letter names, means that we will have to provide a lot of separate instructions for windows and \\*Nix users. \n",
    "\n",
    "Most of the commands that concern the operating system are done using a library (or collection) of commands, the ```os``` library. Below we are going to __import__ the ```os``` library and explore our file systems. Importing a library makes its methods available for use in python. Python doesn't load all the libraries available all the time as that would simply slow down the program. The programmer has to specify which libraries need to be made available at the top of the program using an ```import``` statement. \n",
    "\n",
    "After we load the OS module we can use it to get the __current working directory__, which is typically the directory that the notebook is in, but not necessarily. Let's check. What is your current working directory? "
   ]
  },
  {
   "cell_type": "code",
   "execution_count": null,
   "metadata": {},
   "outputs": [],
   "source": [
    "import os \n",
    "\n",
    "print( os.getcwd() )\n",
    "\n",
    "print()\n",
    "\n",
    "print(\"The separator on this computer is: \", os.sep)"
   ]
  },
  {
   "cell_type": "code",
   "execution_count": null,
   "metadata": {},
   "outputs": [],
   "source": [
    "# For more details:\n",
    "?os.getcwd()"
   ]
  },
  {
   "cell_type": "markdown",
   "metadata": {},
   "source": [
    "So notice that on a \\*Nix you will have a forward slash, then probably Users/<yourname>/ and then some directory. As this file should have come down through Canvas hopefully it won't be just in Downloads, but somewhere sensible. \n",
    "    \n",
    "On a windows system it is like to start with a drive letter (usually C:\\ ) followed by \\Users\\<yourname>\\ and then some directories. The slashes on \\*Nix are forward and are backward on windows. For this reason, if you want to make cross platform software, it is good to let python sort out the slashes. This is done with the os.sep command as was seen above.  "
   ]
  },
  {
   "cell_type": "markdown",
   "metadata": {},
   "source": [
    "## How to navigate the file system through a terminal. (*Nix edition)\n",
    "\n",
    "This section will be done in a terminal window, so you'll have to switch back and forth. If I write a command it will be preceded by ```$``` and if I write the expected output, it will be preceded by ```>```. So we will want to open a terminal and type ```ls```. As in don't type the \\$, just:  \n",
    "\n",
    "~~~\n",
    "$ ls\n",
    "~~~\n",
    "\n",
    "That should list all the files in the current working directory _for the shell_. Notice that it is probably not the same directory as the one you saw above. But let's navigate to our current python working directory. To do this we use ```cd <desired directory>```. \n",
    "\n",
    "### To shorten the prompt \n",
    "The prompt might be showing you the very long path to your directory, making it hard to type commands. To shorten it down to just the ```$``` type the follwing at the prompt: \n",
    "\n",
    "~~~\n",
    "$ PS1='\\u:\\W\\$ '\n",
    "~~~\n",
    "\n",
    "### Making a new file\n",
    "\n",
    "You can make a new file here (just the file name) by typing: \n",
    "\n",
    "~~~\n",
    "$ touch temp_file.txt\n",
    "~~~\n",
    "\n",
    "### Removing a file.\n",
    "\n",
    "You can delete a file with del command. \n",
    "~~~\n",
    "$ rm temp_file.txt\n",
    "~~~\n",
    "\n",
    "You can use * to pattern match in the shell. Thus, you can delete multiple files that match a pattern with \n",
    "~~~\n",
    "$ rm *.txt\n",
    "~~~\n",
    "\n",
    "### Making a new directory\n",
    "You can make a new directory by typing ```mkdir``` followed by teh directory name. \n",
    "~~~\n",
    "> mkdir <directory name>\n",
    "~~~\n",
    "\n",
    "### Removing a directory\n",
    "\n",
    "Directories have files in them. This means that on windows they cannot be removed in the shell without also removing the files. \n",
    "\n",
    "~~~\n",
    "rmdir <directory_name> \n",
    "~~~\n",
    "\n",
    "will only work on an empty directiry. If it has files you will need to add the -R (or recursive) argument after the file name. \n",
    "\n",
    "~~~\n",
    "rmdir -r <directory_name>\n",
    "~~~\n",
    "\n",
    "### The trouble with spaces \n",
    "\n",
    "You might notice that my file names do not have spaces. This is because when you are entering commands in a terminal, space is cconsidered a break. So a file named ```PySDS Week1 Lecture1.txt``` would be considered ```PySDS``` as the file name by the terminal. In order to operate on that file you have to encase it in quotes, which is a nuisance. Such as: \n",
    "~~~\n",
    "> rm \"PySDS Week1 Lecture1.txt\"\n",
    "~~~"
   ]
  },
  {
   "cell_type": "markdown",
   "metadata": {},
   "source": [
    "## How to navigate the file system through Anaconda Prompt. (Windows edition)\n",
    "\n",
    "Thanks to https://www.computerhope.com/issues/ch000743.htm for some nice tips.\n",
    "\n",
    "To note, Windows officially recommends the use of the Windows Powershell. Anaconda doesn't have their Powershell configuration down just yet and I did not want to service a series of complex installs here, so we are using the default Anaconda shell, but in future years this is likely to change. See the [GitHub project](https://github.com/ContinuumIO/anaconda-issues/issues/311) for more info.  \n",
    "\n",
    "This section will be done in an Anaconda shell, so you'll have to switch back and forth to read the instructions. To get there, type in your search bar: \"Anaconda prompt\" and NOT Anaconda Navigator that we usually use. \n",
    "\n",
    "If I write a command it will be preceded by ```$``` and if I write the expected output, it will be preceded by ```>```. So we will want to open a terminal and type ```dir```. As in don't type the \\$:  \n",
    "~~~\n",
    "> dir\n",
    "~~~ \n",
    "\n",
    "That should list all the files in the current working directory _for the shell_. Notice that it is probably not the same directory as the one you saw above. But let's navigate to our current python working directory. To do this we use ```cd <desired directory>```. \n",
    "\n",
    "~~~ \n",
    "> cd C:\\Users\\bernie\\Documents\\Teaching\\SDS\\Course_Material\\Week_1\n",
    "> dir\n",
    "| Volume in drive C is Windows\n",
    "| Volume Serial Number is 440F-52AC\n",
    "|\n",
    "| Directory of C:\\Users\\bernie\\Documents\\Teaching\\SDS\\Course_Material\\Week_1\n",
    "|\n",
    "| 05/09/2018  16:22    <DIR>          .\n",
    "| 05/09/2018  16:22    <DIR>          ..\n",
    "| 05/09/2018  15:21    <DIR>          .ipynb_checkpoints\n",
    "| 04/09/2018  16:02            27,889 PySDS_w1-1.ipynb\n",
    "| 05/09/2018  14:36            32,289 PySDS_w1-2.ipynb\n",
    "| 05/09/2018  16:22             7,808 PySDS_w1-3.ipynb\n",
    "| 05/09/2018  14:44            15,157 PySDS_w1-4.ipynb\n",
    "|               4 File(s)         83,143 bytes\n",
    "|               3 Dir(s)  254,919,348,224 bytes free\n",
    "~~~\n",
    "\n",
    "### To shorten the prompt \n",
    "The prompt might be showing you the very long path to your directory, making it hard to type commands. To shorten it down to just the ```>``` type the follwing at the prompt: \n",
    "\n",
    "~~~\n",
    "> prompt $g\n",
    "~~~\n",
    "\n",
    "### Making a new file\n",
    "\n",
    "You can make a new file here (just the file name) by typing: \n",
    "\n",
    "~~~\n",
    "> type nul > temp_file.txt\n",
    "~~~\n",
    "\n",
    "### Removing a file.\n",
    "\n",
    "You can delete a file with del command. \n",
    "~~~\n",
    "> del temp_file.txt\n",
    "~~~\n",
    "\n",
    "You can use * to pattern match in the shell. Thus, you can delete multiple files that match a pattern with \n",
    "~~~\n",
    "> del *.txt\n",
    "~~~\n",
    "\n",
    "### Making a new directory\n",
    "You can make a new directory by typing ```mkdir``` followed by teh directory name. \n",
    "~~~\n",
    "> mkdir <directory name>\n",
    "~~~\n",
    "\n",
    "### Removing a directory\n",
    "\n",
    "Directories have files in them. This means that on windows they cannot be removed in the shell without also removing the files. \n",
    "\n",
    "~~~\n",
    "rmdir <directory_name> \n",
    "~~~\n",
    "\n",
    "will only work on an empty directiry. If it has files you will need to add the \\s argument after the file name. \n",
    "\n",
    "~~~\n",
    "> rmdir <directory_name> /s\n",
    "| <directory_name>, Are you sure (Y/N)? Y\n",
    "~~~\n",
    "\n",
    "\n",
    "### The trouble with spaces \n",
    "\n",
    "You might notice that my file names do not have spaces. This is because when you are entering commands in a terminal, space is cconsidered a break. So a file named ```PySDS Week1 Lecture1.txt``` would be considered ```PySDS``` as the file name by windows. In order to operate on that file you have to encase it in quotes, which is a nuisance. Such as: \n",
    "~~~\n",
    "> del \"PySDS Week1 Lecture1.txt\"\n",
    "~~~"
   ]
  },
  {
   "cell_type": "markdown",
   "metadata": {},
   "source": [
    "Now that you know the file system, feel free to use it to get a table of contents like I have with my version of Jupyterlab:\n",
    "\n",
    "```\n",
    "jupyter labextension install jupyterlab-toc\n",
    "```\n"
   ]
  },
  {
   "cell_type": "markdown",
   "metadata": {},
   "source": [
    "# Section 2. Writing and reading files with Python"
   ]
  },
  {
   "cell_type": "markdown",
   "metadata": {},
   "source": [
    "## Creating files by creating a file 'opener'\n",
    "\n",
    "In python, you typically interact with a file by creating a __file opener__. You do this by calling the ```open()``` command. This command has a number of arguments that determine why you're opening the file: to read? to write? to append? If you forget the argument the default is to open the file for reading. Below we will:\n",
    "- Open a file for writing, \n",
    "- Check if we wrote to it correctly by opening it for reading,\n",
    "- Open it for appending, \n",
    "- Check if we did this correctly by reading it again, \n",
    "- Then mercilessly write over our work with more text.\n",
    "\n",
    "Pay attention to the argument in the ```open()``` function. For writing it is ```'w'```, for reading it is ```'r'``` and for appending it is ```'a'```. There are others as well, but we won't be using them today. They are primarily for __bytestrings__ which is relevant if you are writing image data or other streaming data rather than characters. You can review those in the [doc strings for the open command](https://docs.python.org/3.3/library/functions.html#open)"
   ]
  },
  {
   "cell_type": "code",
   "execution_count": null,
   "metadata": {},
   "outputs": [],
   "source": [
    "# Here is the first line from the Tao Te Ching (trans. Stephen Mitchell) \n",
    "# It reminds us that in life we can only give guidance but not specific instructions. \n",
    "\n",
    "str_to_be_written = \"The tao that can be told\\nis not the eternal Tao.\\nThe name that can be named\\nis not the eternal Name.\"\n",
    "\n",
    "# Writing: \n",
    "fileout = open(\"example_tao.txt\",'w')\n",
    "fileout.write(str_to_be_written)\n",
    "fileout.close()\n",
    "\n",
    "# Did it work? Let's open up the file and find out: \n",
    "filein = open(\"example_tao.txt\")\n",
    "print( filein.read() )\n",
    "filein.close()"
   ]
  },
  {
   "cell_type": "code",
   "execution_count": null,
   "metadata": {},
   "outputs": [],
   "source": [
    "# So far so good, but the second line is also very useful. It reminds us that operationalisations are \n",
    "# always an approximation. The real world is unnamed; it simply is. But we create names for our use.\n",
    "\n",
    "str_to_be_appended = \"\\nThe unnamable is the eternally real.\\nNaming is the origin\\nof all particular things.\\n\"\n",
    "\n",
    "# Appending: \n",
    "fileout = open(\"example_tao.txt\",'a')\n",
    "fileout.write(str_to_be_appended)\n",
    "fileout.flush()\n",
    "fileout.close()\n",
    "\n",
    "# Did it work? Let's open up the file and find out: \n",
    "filein = open(\"example_tao.txt\",'r')\n",
    "print( filein.read() )\n",
    "filein.close()"
   ]
  },
  {
   "cell_type": "code",
   "execution_count": null,
   "metadata": {},
   "outputs": [],
   "source": [
    "filein = open(\"example_tao.txt\", 'w')"
   ]
  },
  {
   "cell_type": "markdown",
   "metadata": {},
   "source": [
    "### Note: Remember to flush! \n",
    "\n",
    "Python might send things off to be written to disk and act as if its job is complete. The operating system might be busy writing other things to disk, however. This means that the operating system could, in some instances, not have written the charaters to disk when you assume it has. By writing ```fileout.close()``` we ensure that everything has flushed before we move on. But if you are writing a very big file and are worried you can also periodically use ```fileout.flush()```. We will cover this a little more in fault tolerance in week 4.  "
   ]
  },
  {
   "cell_type": "markdown",
   "metadata": {},
   "source": [
    "### Note: Be careful. You can actually damage things with python. \n",
    "\n",
    "The ```os``` package is pretty dangerous as you can literally delete files without question. Python, like most programming languages, will __clobber__ a file name. To clobber means that it will overwrite a file without asking you first. In actuality, the file hasn't disappeared, but the pointer to that file is lost to the operating system. But in practice, especially on encrypted compuuters, that means it's lost once you overwrite it. __Also...encrypt your computer!__ That means FileVault on Mac and BitLocker on Windows. "
   ]
  },
  {
   "cell_type": "markdown",
   "metadata": {},
   "source": [
    "## Reading files in a loop\n",
    "\n",
    "Often times you will want to read a file line by line rather than use __read()__ which dumps the whole file into memory. To do this, you can use the file opener in a loop, as files, like lists and dictionaries, are __iterable__. Try the following: "
   ]
  },
  {
   "cell_type": "code",
   "execution_count": null,
   "metadata": {},
   "outputs": [],
   "source": [
    "filein = open(\"example_tao.txt\",'r')\n",
    "\n",
    "for i in filein: \n",
    "    print (i)"
   ]
  },
  {
   "cell_type": "markdown",
   "metadata": {},
   "source": [
    "That seemed to print every line and then a space, unlike what happened above. Why is that? It's because it prints the _entire line including the new line character at the end_. Remember from day 1 that we can remove characters from a string using [:-1]. We can use this to remove the last character. However, sometimes that doesn't work as intended (if there's a '\\r\\n' for example, which is often the case with excel documents). Luckily, there's a string method called __strip__ for removing whitespace characters from the ends of a string. As with most methods (outside of those pesky lists), it _returns_ the cleaned string rather than altering the variable in place. \n",
    "\n",
    "To remove whitespace from both sides: \n",
    "~~~\n",
    "newvar = strvar.strip()\n",
    "~~~\n",
    "\n",
    "To remove it only from the left: \n",
    "~~~\n",
    "newvar = strvar.lstrip()\n",
    "~~~\n",
    "\n",
    "But what we _really_ want is to remove the new lines on the right:\n",
    "~~~\n",
    "newvar = strvar.rstrip() \n",
    "~~~ "
   ]
  },
  {
   "cell_type": "code",
   "execution_count": null,
   "metadata": {},
   "outputs": [],
   "source": [
    "filein = open(\"example_tao.txt\",'r')\n",
    "\n",
    "for i in filein: \n",
    "    print (i.rstrip()) "
   ]
  },
  {
   "cell_type": "markdown",
   "metadata": {},
   "source": [
    "# Section 3. Running python in the shell (and python programs)"
   ]
  },
  {
   "cell_type": "markdown",
   "metadata": {},
   "source": [
    "## 3.1. Running python in the console.\n",
    "\n",
    "Python consoles are available for you on your computer right now. There are at least two! One of them is in JupyterLab and the other is in the shell (sometimes a shell is called a prompt or a CLI for command line interface). While the one in Jupyter is nice and fancy, it is really useful to know how to run python in the console. Sometimes you will want to just test out a line of code, or perhaps run python over a server. \n",
    "\n",
    "To open the python console in Windows you should be running the Anaconda Prmopt, not the regular shell (accessible through ```cmd``` or the new shiny PowerShell). You _can_ run python through both of these with some configuration. For the _intrepid_, search the web for \"setting class path python\", because what you need to do is get windows to know where the python command is located. We are not doing that here because it can muck with your system if you accidentally run the wrong version of python.\n",
    "\n",
    "In the Anaconda Prmopt shell just type ```python``` and you should see something like this: \n",
    "~~~\n",
    "> python\n",
    "Python 3.6.4 |Anaconda, Inc.| (default, Jan 16 2018, 10:22:32) [MSC v.1900 64 bit (AMD64)] on win32\n",
    "Type \"help\", \"copyright\", \"credits\" or \"license\" for more information.\n",
    ">>>\n",
    "~~~\n",
    "\n",
    "However, it is a little bit slicker to run ipython. It gives you extra colours, tips, etc...\n",
    "\n",
    "~~~\n",
    ">ipython\n",
    "Python 3.6.4 |Anaconda, Inc.| (default, Jan 16 2018, 10:22:32) [MSC v.1900 64 bit (AMD64)]\n",
    "Type 'copyright', 'credits' or 'license' for more information\n",
    "IPython 6.2.1 -- An enhanced Interactive Python. Type '?' for help.\n",
    "\n",
    "In [1]:\n",
    "~~~\n",
    "\n",
    "Fun fact, ipython is the ancestor of JupyterLab. "
   ]
  },
  {
   "cell_type": "markdown",
   "metadata": {},
   "source": [
    "## 3.2. Interacting with the python shell. \n",
    "\n",
    "Regardless of which python console you use, you can now interact with it by tying python commands one by one and seeing their output\n",
    "\n",
    "Sometimes this is really nice if you just want to test a single line of code or two. Try typing \n",
    "\n",
    "~~~\n",
    "for i in range(10): \n",
    "~~~\n",
    "\n",
    "And see what happens. Notice that it doesn't execute, becuase it knows that there's going to be another line after the colon. \n",
    "\n",
    "You an also use the up and down cursors to navigate through previous statements. "
   ]
  },
  {
   "cell_type": "markdown",
   "metadata": {},
   "source": [
    "## 3.3. Creating a python program to run.  \n",
    "\n",
    "If you give ```python``` a python filename as an argument then it will execute that file rather than go to the console. So, since we know how to create files, let's create an incedibly simple one \"test.py\" then run that file and see what happens. First run the code in the block below then copy then type the following in the console (without the '>' of course). \n",
    "\n",
    "~~~\n",
    "> python test.py\n",
    "~~~\n",
    "\n",
    "Of course you will have to navigate to the directory of this file. Remember, you can use os.getcwd() as a quick way to determine this directory. "
   ]
  },
  {
   "cell_type": "code",
   "execution_count": null,
   "metadata": {},
   "outputs": [],
   "source": [
    "# filetext is a string that we write to a program. \n",
    "# Normally you would edit a program in a text editor, such as SublimeText or Notepad++ \n",
    "\n",
    "import os\n",
    "\n",
    "filetext = '''print(\"Hello, yet another world.\\\\nLet's count to ten!\\\\n\")\n",
    "for i in range(10): print(i)\n",
    "'''\n",
    "\n",
    "fileout = open(\"test.py\",'w')\n",
    "fileout.write(filetext)\n",
    "fileout.close()\n",
    "print(\"The file can be found by navigating to the following directory:\\n\\ncd \",os.getcwd())"
   ]
  },
  {
   "cell_type": "markdown",
   "metadata": {},
   "source": [
    "## 3.4. Running the python program with file arguments. \n",
    "\n",
    "A file that you run from the command line might have some arguments that you want to send it. Imagine that it cleans up mp3 tags, you might want to send it the folder of mp3s. In this case we will just give it a word and then print that word, because we're keeping it simple here. \n",
    "\n",
    "Now the thing about the arguments is that python can only read them if you use a special command from the ```sys``` module. \n",
    "\n",
    "Below I'm going to write a file that takes arguments, then lets switch over to the console and run it. "
   ]
  },
  {
   "cell_type": "code",
   "execution_count": null,
   "metadata": {},
   "outputs": [],
   "source": [
    "# filetext is a string that we write to a program. \n",
    "# Normally you would edit a program in a text editor, such as SublimeText or Notepad++ \n",
    "\n",
    "filetext = '''import sys\n",
    "\n",
    "print('Number of arguments:', len(sys.argv), 'arguments.')\n",
    "print('Argument List:', str(sys.argv))'''\n",
    "\n",
    "fileout = open(\"example_argv.py\",'w')\n",
    "fileout.write(filetext)\n",
    "fileout.close()\n",
    "print(\"The file can be found by navigating to the following directory:\\n\\ncd \",os.getcwd())"
   ]
  },
  {
   "cell_type": "markdown",
   "metadata": {},
   "source": [
    "Now go to the console and type: (you can of course just copy and paste from here, but omit the '>')\n",
    "~~~\n",
    "> python example_argv.py arg1 arg34 YetAnotherArgument \"is this also an argument?\"    \n",
    "~~~"
   ]
  },
  {
   "cell_type": "markdown",
   "metadata": {},
   "source": [
    "You can see that if you encase words in quotes it is counted as one argument. "
   ]
  },
  {
   "cell_type": "markdown",
   "metadata": {},
   "source": [
    "# Section 4. The global module. \n",
    "\n",
    "You can list the files in a directory and do most file operations through commands in python. We have seen the ```OS``` module as an example of this. It includes operations for listing files, making new ones, making directories and so forth. One thing best accomplished with a different module is **global keyword search**. This would be the case if you want to list all the jpegs in a folder, this you would ask for *.jpeg. The way to do this in python is to use the ```glob``` module.\n",
    "\n",
    "You import the glob module using \n",
    "\n",
    "``` python \n",
    "import glob\n",
    "```\n",
    "or \n",
    "``` python \n",
    "from glob import * \n",
    "``` \n",
    "\n",
    "If you do the first way, you will have to call\n",
    "\n",
    "glob.glob()"
   ]
  },
  {
   "cell_type": "code",
   "execution_count": null,
   "metadata": {},
   "outputs": [],
   "source": [
    "# Here we first create 10 files. Notice that the numbers are not \n",
    "# adjusted for the same number of significant digits. So we have \n",
    "# example_file1 and example_file10, not example_file01. \n",
    "\n",
    "for i in range(11):\n",
    "    fileout = open(\"example_file%s.txt\" % i,'w')\n",
    "    fileout.write(\"Example File: %s\\nDelete Me if you please.\" % i)\n",
    "    fileout.flush()\n",
    "    fileout.close()"
   ]
  },
  {
   "cell_type": "code",
   "execution_count": null,
   "metadata": {},
   "outputs": [],
   "source": [
    "import glob, os "
   ]
  },
  {
   "cell_type": "code",
   "execution_count": null,
   "metadata": {},
   "outputs": [],
   "source": [
    "for i in glob.glob(\"%s%sexample_file*.txt\" % (os.getcwd(), os.sep)):\n",
    "    print(i)"
   ]
  },
  {
   "cell_type": "markdown",
   "metadata": {},
   "source": [
    "Notice that glob printed all of the files, include the example tao file that we created earlier...but only text files. If we want it to only choose the example files that we just created, we can fix the glob statement so that it only asks for them. "
   ]
  },
  {
   "cell_type": "code",
   "execution_count": null,
   "metadata": {},
   "outputs": [],
   "source": [
    "# Fix the glob statement right here: \n",
    "\n",
    "print(glob.glob(\"%s%s*.txt\" % (os.getcwd(), os.sep)))"
   ]
  },
  {
   "cell_type": "markdown",
   "metadata": {},
   "source": [
    "Notice that it is still printing the full pathname? We can delete the root path in a couple ways and just print the files. The way I prefer is to ask for the basename. "
   ]
  },
  {
   "cell_type": "code",
   "execution_count": null,
   "metadata": {},
   "outputs": [],
   "source": [
    "file_list = glob.glob(\"%s%sexample_file*.txt\" % (os.getcwd(), os.sep))\n",
    "\n",
    "file_list_basename = [os.path.basename(x) for x in file_list] \n",
    "\n",
    "print(file_list_basename)\n",
    "    "
   ]
  }
 ],
 "metadata": {
  "kernelspec": {
   "display_name": "Python 3",
   "language": "python",
   "name": "python3"
  },
  "language_info": {
   "codemirror_mode": {
    "name": "ipython",
    "version": 3
   },
   "file_extension": ".py",
   "mimetype": "text/x-python",
   "name": "python",
   "nbconvert_exporter": "python",
   "pygments_lexer": "ipython3",
   "version": "3.7.0"
  }
 },
 "nbformat": 4,
 "nbformat_minor": 2
}
