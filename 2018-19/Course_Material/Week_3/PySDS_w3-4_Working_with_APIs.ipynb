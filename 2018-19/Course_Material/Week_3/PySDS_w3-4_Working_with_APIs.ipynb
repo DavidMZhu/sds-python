{
 "cells": [
  {
   "cell_type": "markdown",
   "metadata": {},
   "source": [
    "**PySDS Week 3 Lecture 1. V.1**\n",
    "Last author: B. Hogan"
   ]
  },
  {
   "cell_type": "markdown",
   "metadata": {},
   "source": [
    "# Week 3. Day 4. - API Access practice \n",
    "\n",
    "Learning goals: \n",
    "- Get vs Post requests \n",
    "- Authenticating OAuth \n",
    "- Paging through a query\n"
   ]
  },
  {
   "cell_type": "markdown",
   "metadata": {},
   "source": [
    "# Get vs. Post requests \n",
    "\n",
    "Recall that previously we used a get request in order to send a url string to a server. Everything after the domain name was used to find the right file and then present some important details to the server, such as those we found after the argument string. When we type in a URL in a browser we are similarly sending a GET request. \n",
    "\n",
    "A POST request similarly sends up a URL to a server. It similarly has a series of headers including a user-agent string. However, POST requests also contain a 'payload', which is a dictionary of key value pairs. The values are data for the server and the keys are what kind of data. \n",
    "\n",
    "POST requests are more secure than GET requests. For example, a POST request should happen every time you click submit after entering some credentials. By sending it through POST, the client can encrypt the data in the payload. Otherwise, you would be able to see the URL with your username and password as arguments in the URL string. Worse, if this is HTTP and not HTTPS, then the URL string is not encrypted in transit. This means that every server log, from the university's server logs to anyone who happened to be sniffing traffic on the wifi will be able to see your username and password. POST avoids that by putting these things in a payload. "
   ]
  },
  {
   "cell_type": "markdown",
   "metadata": {},
   "source": [
    "Example from TheTVDB. The site, The TVDB is an independent site of user-generated content \\[UGC]. It's donation-based and has an API for access. It is not associated with IMDB. The site's data is licensed under Creative Commons 3.0. The nice thing about the site is that it is pretty austere and it has a clear API (which is pretty new judging by the forums, and it shows with respect to its usability).  \n",
    "\n",
    "Now when we log into the site, just like what I noted above, you have to fill out some details, namely your email and your password. Below is a snippet of the HTML code for that process. To see this yourself you can go to: https://www.thetvdb.com/login and then right-click -> \"show page source\". The page source is pretty long, but this snippet is in the middle. \n",
    "\n",
    "~~~ html\n",
    "<form method=\"post\" action=\"https://www.thetvdb.com/login/authenticate/concrete\">\n",
    "\n",
    "\t<div class=\"form-group\">\n",
    "\t\t<label class=\"control-label\">Email Address</label>\n",
    "\t\t<input name=\"uName\" class=\"form-control\" autofocus=\"autofocus\" />\n",
    "\t</div>\n",
    "\n",
    "\t<div class=\"form-group\">\n",
    "\t\t<label class=\"control-label\">Password</label>\n",
    "\t\t<input name=\"uPassword\" class=\"form-control\" type=\"password\" />\n",
    "\t</div>\n",
    "\n",
    "\t<div class=\"checkbox\">\n",
    "\t\t<label>\n",
    "\t\t\t<input type=\"checkbox\" name=\"uMaintainLogin\" value=\"1\">\n",
    "\t\t\tStay signed in for two weeks\t\t</label>\n",
    "\t</div>\n",
    "\n",
    "\t\n",
    "\t<div class=\"form-group\">\n",
    "\t\t<button class=\"btn btn-primary\">Log in</button>\n",
    "\t\t<a href=\"https://www.thetvdb.com/login/concrete/forgot_password\" class=\"btn pull-right\">Forgot Password</a>\n",
    "\t</div>\n",
    "\n",
    "\t<input type=\"hidden\" name=\"ccm_token\" value=\"1540511475:c69b8e1d766dc55e7576525a29355643\" />\n",
    "\t\t\t<br/>\n",
    "\t\t<hr/>\n",
    "\t\t<a href=\"https://www.thetvdb.com/register\" class=\"btn btn-block btn-success\">Not a member? Register</a>\n",
    "\t\n",
    "</form>\n",
    "~~~    \n",
    "\n",
    "The snippet shows that in order to log in, you have to click a button. Then it will send a post request to  https://www.thetvdb.com/login/authenticate/concrete with the values of the forms. It also will use the value from the ccm_token in order to prevent cross site forgeries. So, you see, post happens all the time. \n",
    "\n",
    "We are going to have to create a post request if we want to get an API key from TheTVDB. "
   ]
  },
  {
   "cell_type": "code",
   "execution_count": null,
   "metadata": {},
   "outputs": [],
   "source": [
    "print(len(\"<API-KEY>\"))"
   ]
  },
  {
   "cell_type": "markdown",
   "metadata": {},
   "source": [
    "When we go to TheTVDB's api page we are told that we need a token. They have a very handy on-site tester where you can fill in credentials and then submit. We will first create a token through this API. \n",
    "\n",
    "Notice that it produces the following request: \n",
    "\n",
    "~~~ bash\n",
    "curl -X POST --header 'Content-Type: application/json' --header 'Accept: application/json' -d '{\n",
    "  \"apikey\": \"\",\n",
    "  \"userkey\": \"\",\n",
    "  \"username\": \"bernie.hogan4a5\"\n",
    "}' 'https://api.thetvdb.com/login'\n",
    "~~~\n",
    "\n",
    "This is a 'curl' request. Curl is a common tool for downloading data from the web. It has a lot of arguments and parameters. If you ran this from a terminal window it would return the response right in the window with some tweaking. We however, are just going to use it to learn a few things, then create our own request using the 'requests' library in python. "
   ]
  },
  {
   "cell_type": "code",
   "execution_count": null,
   "metadata": {},
   "outputs": [],
   "source": [
    "import requests\n",
    "\n",
    "payload = {\n",
    "    \"apikey\": \"\",\n",
    "    \"userkey\": \"\",\n",
    "    \"username\": \"bernie.hogan4a5\"}\n",
    "\n",
    "headers = {\"Content-Type\":\"application/json\"}\n",
    "\n",
    "r = requests.post(\"https://api.thetvdb.com/login\", json=payload)\n",
    "print(r)"
   ]
  },
  {
   "cell_type": "code",
   "execution_count": null,
   "metadata": {},
   "outputs": [],
   "source": [
    "r.json()"
   ]
  },
  {
   "cell_type": "code",
   "execution_count": null,
   "metadata": {},
   "outputs": [],
   "source": [
    "token = r.json()['token']"
   ]
  },
  {
   "cell_type": "markdown",
   "metadata": {},
   "source": [
    "Now that we have our token we can use a series of get requests to collect data from the API. The token can be an argument in our argument string. Now notice that this time around (unlike with the Wikipedia example) we will not be creating the argument string by hand. We will be able to put that together more programmatically with ```requests```. But first we need to know what to ask for. \n",
    "\n",
    "No surprise, let's download data for The Muppet Show. Now this data should be familiar as it is the very first data that you worked with on day one. In fact, much of what we have done is meant to come back full circle now. In week one we used a database of the first four seasons of the Muppets, but notably there are five seasons. The data for the fifth one would not have come through the first API query. Instead we have to page through the results. Today we will page through those results and add the data to a ```DataFrame```. \n",
    "\n",
    "But first...how do we get this? Let's go over to the API tester and see what's available. \n",
    "\n",
    "We can see that the API says **'Series : Information about a specific series'**. Look's good; let's show that one. Underneath are a series of API end points, such as \n",
    "```get /series/{id}/episodes/summary```. These are URLs that, along with some arguments in the argument string will return some data to an authenticated client. Well, they are part of the URL. ACtually, they are the part that comes after ```http://api.thetvdb.com/```\n",
    "\n",
    "But how to:\n",
    "- Authorize ourselves on that page? (see demo - copy and paste token into browser)\n",
    "- Get the series ID? (see demo - using the search end point, once we are authorized will get us the series ID as a number in the json response). Hint: it is 72476\n"
   ]
  },
  {
   "cell_type": "code",
   "execution_count": null,
   "metadata": {},
   "outputs": [],
   "source": [
    "import requests\n",
    "\n",
    "series_id = 72476\n",
    "headers = {\"Authorization\":\"Bearer %s\" % token}\n",
    "r = requests.get(\"http://api.thetvdb.com/series/%s/episodes\" % series_id, headers=headers)\n",
    "r"
   ]
  },
  {
   "cell_type": "code",
   "execution_count": null,
   "metadata": {},
   "outputs": [],
   "source": [
    "if r.status_code == 200:\n",
    "    response_data = r.json()"
   ]
  },
  {
   "cell_type": "code",
   "execution_count": null,
   "metadata": {},
   "outputs": [],
   "source": [
    "from pandas.io.json import json_normalize \n",
    "\n",
    "muppetTable = json_normalize(response_data[\"data\"])\n",
    "display(muppetTable)"
   ]
  },
  {
   "cell_type": "code",
   "execution_count": null,
   "metadata": {},
   "outputs": [],
   "source": [
    "display(muppetTable.tail())"
   ]
  },
  {
   "cell_type": "markdown",
   "metadata": {},
   "source": [
    "Notice that the table included five episodes from season 5. But these episodes were not included in your earlier data, and surely they aren't the only episodes from season 5? Nope, in fact, in the json we have a paging form up top. Observe:"
   ]
  },
  {
   "cell_type": "code",
   "execution_count": null,
   "metadata": {},
   "outputs": [],
   "source": [
    "response_data.keys()"
   ]
  },
  {
   "cell_type": "code",
   "execution_count": null,
   "metadata": {},
   "outputs": [],
   "source": [
    "response_data[\"links\"]"
   ]
  },
  {
   "cell_type": "code",
   "execution_count": null,
   "metadata": {},
   "outputs": [],
   "source": [
    "series_id = 72476\n",
    "headers = {\"Authorization\":\"Bearer %s\" % token}\n",
    "#           \"page\":str(response_data[\"links\"][\"next\"])}\n",
    "print(headers)\n",
    "r = requests.get(\"http://api.thetvdb.com/series/%s/episodes?page=2\" % series_id, headers=headers)\n",
    "r"
   ]
  },
  {
   "cell_type": "code",
   "execution_count": null,
   "metadata": {},
   "outputs": [],
   "source": [
    "if r.status_code == 200:\n",
    "    response_data = r.json()\n",
    "    print(\"Received data\")\n",
    "\n",
    "    muppetTable2 = json_normalize(response_data[\"data\"])\n",
    "    display(muppetTable2)"
   ]
  },
  {
   "cell_type": "code",
   "execution_count": null,
   "metadata": {},
   "outputs": [],
   "source": [
    "import pandas as pd \n",
    "\n",
    "total = pd.concat([muppetTable,muppetTable2])\n",
    "display(total)"
   ]
  },
  {
   "cell_type": "code",
   "execution_count": null,
   "metadata": {},
   "outputs": [],
   "source": [
    "len(total[total[\"airedSeason\"] != 0])"
   ]
  },
  {
   "cell_type": "markdown",
   "metadata": {},
   "source": [
    "Now we can put it all together in a single workflow. "
   ]
  },
  {
   "cell_type": "code",
   "execution_count": null,
   "metadata": {},
   "outputs": [],
   "source": [
    "def getToken(apikey,userkey,username):\n",
    "    \n",
    "    import requests\n",
    "\n",
    "    payload = {\n",
    "        \"apikey\": apikey,\n",
    "        \"userkey\": userkey,\n",
    "        \"username\": username}\n",
    "    \n",
    "    headers = {\"Content-Type\":\"application/json\"}\n",
    "\n",
    "    r = requests.post(\"https://api.thetvdb.com/login\", json=payload)\n",
    "    if r.status_code == 200:\n",
    "        return r.json()[\"token\"]\n",
    "    else:\n",
    "        print(\"Error: Status Code %s\" % r.status_code)\n",
    "        return None\n",
    "\n",
    "def getEpisodeList(series_id,token):\n",
    "    import pandas as pd\n",
    "    \n",
    "    episode_list = []\n",
    "    headers = {\"Authorization\":\"Bearer %s\" % token}\n",
    "    \n",
    "    page = 1\n",
    "    \n",
    "    while True:\n",
    "        url = \"http://api.thetvdb.com/series/%s/episodes?page=%s\" % (series_id,page)\n",
    "        r = requests.get( url, headers=headers)\n",
    "        if r.status_code == 200:\n",
    "            response_data = r.json()\n",
    "            episode_list.append(json_normalize(response_data[\"data\"]))\n",
    "            if response_data['links'][\"next\"]:\n",
    "                page = response_data['links'][\"next\"]\n",
    "            else:\n",
    "                break\n",
    "                \n",
    "        else:\n",
    "            print(\"Error: Status Code %s\" % r.status_code)\n",
    "            return None\n",
    "\n",
    "    return pd.concat(episode_list)\n",
    "        \n",
    "        \n",
    "token = getToken(\"\",\n",
    "                 \"\",\n",
    "                 \"bernie.hogan4a5\")\n",
    "\n",
    "df = getEpisodeList(72476,token)\n",
    "print(len(df))\n",
    "df.tail()"
   ]
  },
  {
   "cell_type": "code",
   "execution_count": null,
   "metadata": {},
   "outputs": [],
   "source": [
    "print(len(df))"
   ]
  }
 ],
 "metadata": {
  "kernelspec": {
   "display_name": "Python 3",
   "language": "python",
   "name": "python3"
  },
  "language_info": {
   "codemirror_mode": {
    "name": "ipython",
    "version": 3
   },
   "file_extension": ".py",
   "mimetype": "text/x-python",
   "name": "python",
   "nbconvert_exporter": "python",
   "pygments_lexer": "ipython3",
   "version": "3.7.0"
  }
 },
 "nbformat": 4,
 "nbformat_minor": 2
}
