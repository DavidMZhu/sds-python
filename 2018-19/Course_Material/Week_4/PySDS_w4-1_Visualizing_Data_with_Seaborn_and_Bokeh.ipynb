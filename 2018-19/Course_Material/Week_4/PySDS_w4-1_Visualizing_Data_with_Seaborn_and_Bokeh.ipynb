{
 "cells": [
  {
   "cell_type": "markdown",
   "metadata": {},
   "source": [
    "**PySDS Week 4 Lecture 1. V.1**\n",
    "Last author: B. Hogan"
   ]
  },
  {
   "cell_type": "code",
   "execution_count": 189,
   "metadata": {},
   "outputs": [],
   "source": [
    "%matplotlib inline"
   ]
  },
  {
   "cell_type": "markdown",
   "metadata": {},
   "source": [
    "# Plotting information \n",
    "\n",
    "Plotting is a means of expressing your data in a form that makes it more intelligible to the viewer than in a different form (regardless of whether that viewer is you or another person). Visualization is a regular part of data science, and used far more heavily in the lab than in scientific reports. That is to say, if you've only read research but not been a part of it, you might be underestimating how much visualization is used. \n",
    "\n",
    "In a journal you'll see the handful of nice graphics that they produced. In the lab, you might be producing charts routinely. When I am focused on data analysis for a paper, I'll do dozens of charts. They may be simple distributions, but they help. Sometimes they can be overly complex and don't work well. These charts vary in their coherence, clarity and utility. Some were junk and some were really interesting. Some needed polish and some were near publication ready from the get go. Regardless of the audience and the focus, these graphics all share a similar function: _To represent data in a scale that changes the perception of that data and ideally the phenomenon that it represents_. \n",
    "\n",
    "Below we briefly review some elementary concepts from the study of Visualization and then I introduce some packages for use. We will show these packages briefly and leave it to you to continue on working with them."
   ]
  },
  {
   "cell_type": "markdown",
   "metadata": {},
   "source": [
    "__“The purpose of visualization is insight, not pictures.”__ -- Ben Shneiderman"
   ]
  },
  {
   "cell_type": "markdown",
   "metadata": {},
   "source": [
    "# Section 1. Frameworks for understanding information visualization"
   ]
  },
  {
   "cell_type": "markdown",
   "metadata": {},
   "source": [
    "## Framework 1. DIKW: Data, Information, Knowledge, Wisdom\n",
    "\n",
    "An often repeated framework in information visualization is that there is a hierarchy from data to wisdom. \n",
    "\n",
    "- **Data** refers to that which was measured and encoded in some means. \n",
    "- **Information** refers to a presentaiton of that data that signals differences we would understand. \n",
    "- **Knowledge** is being able to understand the interrelatedness of the information (i.e. signals). If we can convey information in a graphic to another person we can give them knowledge. \n",
    "- **Wisdom** is challenging to define. In this domain I like Alberto Cairo's definition (from \"The Functional Art\"): Wisdom is \"deep understanding of acquired knowledge, when we not only “get it,” but when new information blends with prior experience so completely that it makes us beter at knowing what to do in other situations, even if they are only loosely related to the information from which our original knowledge came. Just as not all the information we absorb leads to knowledge, not all of the knowledge we acquire leads to wisdom\" (P. 17). \n",
    "\n",
    "We are trying to turn data into knowledge by identifying information (statistically or otherwise) that we can convey to an audience. We make the researchers wise as they understand how this knowledge relates to their existing frame of reference and possible future phenomena. "
   ]
  },
  {
   "cell_type": "markdown",
   "metadata": {},
   "source": [
    "## Framework 2. Tufte's principles\n",
    "\n",
    "There are a variety of frameworks for thinking about visualization. One of the now classic framework is Edward Tufte's principles from his seminal book, \"The Visual Display of Quantitative Information\". \n",
    "\n",
    "It is said that he has six principles, but these are really maxims. If you read through all his books, there's principles everywhere, so let's not be too slavish to the specific number. \n",
    "\n",
    "So to summarize some of the key points: \n",
    "- Remove extraneous and reduntant objects (principle of the data:ink ratio and the removal of \"chart junk\").  \n",
    "- Normalize where possible to show true differences in scale (particularly for money)\n",
    "- Use clear and detailed labelling that focuses on the chart. \n",
    "- Small multiples for comparison rather than more data on one chart.\n",
    "\n",
    "Other than that, much of this is about trying not to misrepresent data, but this is not a principle, _per se_, as it is an orientation. "
   ]
  },
  {
   "cell_type": "markdown",
   "metadata": {},
   "source": [
    "## Framework 3. Bertin's notion of visual variables\n",
    "\n",
    "One of the early basis of visualization is in Bertin's notion of visual variables. It has been expanded in late years, mainly within cartography. The basics are pretty clear. Different features of variables have different capacity to represent data. \n",
    "\n",
    "If we use saturation, for example, it should imply a difference of intensity, not a difference of quality. So we would not want to represent religions as shades of gray, as that would imply difference of intensity. On the other hand, presenting the percent of supporters who go to church / synagoge / temple, etc...daily or weekly, would make sense since we can describe the intensity of religiosity regardless of faith. These are for reference: \n",
    "\n",
    "- **Position**: The arrangement of elements has meaning. \n",
    "- **Size**: Larger items tend to mean more of something. Note: People are not good with linear scaling of diameter, making difference in area of nodes tricky. \n",
    "- **Shape**: Different shapes mean different categorical groups. \n",
    "- **Value / Brightness**: Darker tends to mean more on a light background (and vice versa).  \n",
    "- **Hue**: Can be either continuous or categorical. Do not use more than two colors for quantitative differences. Use a middle white point if it makes sense. \n",
    "- **Orientation**: Objects can be rotated. \n",
    "- **Texture**: Objects can have different textures.\n",
    "\n",
    "See more: http://wiki.gis.com/wiki/index.php/Visual_variable and https://www.axismaps.com/guide/general/visual-variables/ "
   ]
  },
  {
   "cell_type": "markdown",
   "metadata": {},
   "source": [
    "## Framework 4. The hierarchy of pre-attention\n",
    "\n",
    "Recent neuroscience work has highlighted how the visual system processes information. Some features are processed more frequently or more rapidly than others. In particular, we would say that some features are pre-attentive and others attentive. The pre-attentive features are the one's that \"pop\", for example, a difference in color, where most of the dots are black but a few are red - we will wonder, what's up with the red ones? This is subconscious processing. It includes things like facial recognition. \n",
    "\n",
    "Pre-attentive variables are featured in Colin Ware's \"Visual Thinking for Design\". Here are the important ones: \n",
    "- **Movement**\n",
    "- **Position**\n",
    "- **Colour**\n",
    "- **Form**\n",
    "\n",
    "Depending on the style and context, different variables will be more or less noticeable. In general, colour is processed before form, so having dots of different shapes will not be as readily identifiable as different colours (see example below). Movement tends to be noticed before position. That is, if there is one moving element. Overall, however, it is best to simply be mindful of these. \n",
    "\n",
    "One important feature of pre-attention is that it highlights how dangerous it is to use the wrong visual varaible. Whereas in Bertin's domain we were considering **visual mapping**, in this domain we are considering the psychology of the viewer. So if you have a visual variable mapped in a confusing way, and it is a preattentive variable it will be really, really difficult for the reader to appreciate the chart as intended. \n",
    "\n",
    "Below is an example (and our first seaborn chart). The top part is just getting some random data ready. The bottom we have a small number of orange points and a larger number of blue points. Notice you're almost unwillingly drawn to make an inference about the orange points even though they were just a random draw like the blue points. "
   ]
  },
  {
   "cell_type": "code",
   "execution_count": 199,
   "metadata": {},
   "outputs": [
    {
     "data": {
      "text/plain": [
       "(0, 10)"
      ]
     },
     "execution_count": 199,
     "metadata": {},
     "output_type": "execute_result"
    },
    {
     "data": {
      "image/png": "[encoded data removed]",
      "text/plain": [
       "<Figure size 432x288 with 1 Axes>"
      ]
     },
     "metadata": {
      "needs_background": "light"
     },
     "output_type": "display_data"
    }
   ],
   "source": [
    "#################################\n",
    "# Generate some data: \n",
    "#     Two arrays for x, y ranging from 1 to 10. \n",
    "#     A third array, same length, binary. \n",
    "import numpy as np \n",
    "length = 30\n",
    "axis_lim = 10\n",
    "prob_diff = .5\n",
    "\n",
    "# This gets the x and y coordinates \n",
    "x,y = np.random.randint(axis_lim, size=[2,length])\n",
    "\n",
    "# zc: The colour of the varaibles. \n",
    "zc = [str(x) for x in np.random.binomial(1, prob_diff, length)]\n",
    "\n",
    "# zs: The shape of the variables. Can you even notice the shape difference? \n",
    "zs = [str(x) for x in np.random.binomial(1, prob_diff, length)]\n",
    "\n",
    "#################################\n",
    "# Plot the data \n",
    "import seaborn as sns \n",
    "\n",
    "lm = sns.scatterplot(x,y,hue=zc,style=zs)\n",
    "\n",
    "lm.set_ylim(0,axis_lim)\n",
    "lm.set_xlim(0,axis_lim)"
   ]
  },
  {
   "cell_type": "markdown",
   "metadata": {},
   "source": [
    "## Framework 5. Shneiderman's principles of interactive design\n",
    "\n",
    "These principles are realted more to what you would do with an interactive visualziation than a static one. \n",
    "\n",
    "- **Overview**: Present the entire collection or entire data set if possible. \n",
    "- **Zoom**: Enable the user to zoom in on an area of interest.\n",
    "- **Filter**: Let the user reduce the information presented. \n",
    "- **Details on demand**: Individual pieces of information should be available for inspection.\n",
    "- **Relate**: View relationships among items. \n",
    "- **History**: A user should be able to undo or replay a history of steps. \n",
    "- **Extract**: A user should be able to extract a sub-query that led to any given sub-figure. \n",
    "\n",
    "Not every interactive visualization will be able to present graphics in this manner. However, these are seen as an ideal set. The most important are the first four. But if you had to choose two, it's overview and zoom. Give an individual a sense of the scale and then let them re-scale as necessary. "
   ]
  },
  {
   "cell_type": "markdown",
   "metadata": {},
   "source": [
    "# Section 2. Static visualizations\n",
    "\n",
    "In many respects, I could probably just say read the seaborn tutorials, as they are truly excellent. If fact, we are actually going to borrow from them liberally here. \n",
    "\n",
    "Seaborn is a wrapper on top of matplotlib that does a lot of the configuration out of the box. Matplotlib is similar to ggplot2 in that it layers the data frame by frame. Seaborn is a little more forgiving and frankly, more aesthetically appealing. "
   ]
  },
  {
   "cell_type": "markdown",
   "metadata": {},
   "source": [
    "## 2.1. How a seaborn visualization works\n",
    "\n",
    "Seaborn visualizations expect numpy arrays as data. They can also take DataFrames, which are not as robust, but usually fine*. \n",
    "\n",
    "* I've had no trouble with dataframes directly, but the tutorial gives a caveat so I will too. \n",
    "\n",
    "As seen above, using seaborn can be as out-of-the-box as simply calling the appropriate method, with the right data. You will be presented with the defaults, but these aren't bad."
   ]
  },
  {
   "cell_type": "code",
   "execution_count": 203,
   "metadata": {},
   "outputs": [
    {
     "name": "stderr",
     "output_type": "stream",
     "text": [
      "C:\\Users\\bernie\\Anaconda3\\lib\\site-packages\\scipy\\stats\\stats.py:1713: FutureWarning: Using a non-tuple sequence for multidimensional indexing is deprecated; use `arr[tuple(seq)]` instead of `arr[seq]`. In the future this will be interpreted as an array index, `arr[np.array(seq)]`, which will result either in an error or a different result.\n",
      "  return np.add.reduce(sorted[indexer] * weights, axis=axis) / sumval\n"
     ]
    },
    {
     "data": {
      "text/plain": [
       "<matplotlib.axes._subplots.AxesSubplot at 0x29ccd2c6ef0>"
      ]
     },
     "execution_count": 203,
     "metadata": {},
     "output_type": "execute_result"
    },
    {
     "data": {
      "image/png": "[encoded data removed]",
      "text/plain": [
       "<Figure size 432x288 with 1 Axes>"
      ]
     },
     "metadata": {
      "needs_background": "light"
     },
     "output_type": "display_data"
    }
   ],
   "source": [
    "import seaborn as sns \n",
    "import numpy as np \n",
    "\n",
    "sns.distplot( np.random.normal(0,.1,1000) )\n",
    "\n",
    "# Don't worry about the FutureWarning (it's actually contested on GitHub...)"
   ]
  },
  {
   "cell_type": "markdown",
   "metadata": {},
   "source": [
    "So we can see that seaborn automatically did a couple things we never asked for:\n",
    "- Added the trendline,\n",
    "- Selected the colour,\n",
    "- Set the x and y ranges so that we can see all the data,\n",
    "- Set the size/resolution of the plot.\n",
    "\n",
    "And it did not do a couple of things that might be useful:\n",
    "- Add labels to the axis,\n",
    "- Add a title,\n",
    "- Add a legend.\n",
    "\n",
    "Let's review the way to tweak each of these things. Before we go on, however, there's an important distinction to be made between the plot and the frame. "
   ]
  },
  {
   "cell_type": "markdown",
   "metadata": {},
   "source": [
    "**Trendline**: This is referred to as a \"kdeplot\" in seaborn for kernel density estimate. To change its state you would add ```kde=False```. You can also disable the histogram itself, with ```hist=False```. Sometimes you might want a rugplot, which plots a distribution as a series of sticks."
   ]
  },
  {
   "cell_type": "code",
   "execution_count": 233,
   "metadata": {},
   "outputs": [
    {
     "name": "stderr",
     "output_type": "stream",
     "text": [
      "C:\\Users\\bernie\\Anaconda3\\lib\\site-packages\\scipy\\stats\\stats.py:1713: FutureWarning: Using a non-tuple sequence for multidimensional indexing is deprecated; use `arr[tuple(seq)]` instead of `arr[seq]`. In the future this will be interpreted as an array index, `arr[np.array(seq)]`, which will result either in an error or a different result.\n",
      "  return np.add.reduce(sorted[indexer] * weights, axis=axis) / sumval\n"
     ]
    },
    {
     "ename": "AttributeError",
     "evalue": "module 'seaborn' has no attribute 'show'",
     "output_type": "error",
     "traceback": [
      "\u001b[1;31m---------------------------------------------------------------------------\u001b[0m",
      "\u001b[1;31mAttributeError\u001b[0m                            Traceback (most recent call last)",
      "\u001b[1;32m<ipython-input-233-47ef1380ee32>\u001b[0m in \u001b[0;36m<module>\u001b[1;34m()\u001b[0m\n\u001b[0;32m      1\u001b[0m \u001b[0msns\u001b[0m\u001b[1;33m.\u001b[0m\u001b[0mdistplot\u001b[0m\u001b[1;33m(\u001b[0m \u001b[0mnp\u001b[0m\u001b[1;33m.\u001b[0m\u001b[0mrandom\u001b[0m\u001b[1;33m.\u001b[0m\u001b[0mnormal\u001b[0m\u001b[1;33m(\u001b[0m\u001b[1;36m0\u001b[0m\u001b[1;33m,\u001b[0m\u001b[1;36m.1\u001b[0m\u001b[1;33m,\u001b[0m\u001b[1;36m1000\u001b[0m\u001b[1;33m)\u001b[0m\u001b[1;33m,\u001b[0m \u001b[0mkde\u001b[0m\u001b[1;33m=\u001b[0m\u001b[1;32mFalse\u001b[0m\u001b[1;33m,\u001b[0m \u001b[0mrug\u001b[0m\u001b[1;33m=\u001b[0m\u001b[1;32mTrue\u001b[0m\u001b[1;33m)\u001b[0m\u001b[1;33m\u001b[0m\u001b[0m\n\u001b[0;32m      2\u001b[0m \u001b[0msns\u001b[0m\u001b[1;33m.\u001b[0m\u001b[0mdistplot\u001b[0m\u001b[1;33m(\u001b[0m \u001b[0mnp\u001b[0m\u001b[1;33m.\u001b[0m\u001b[0mrandom\u001b[0m\u001b[1;33m.\u001b[0m\u001b[0mnormal\u001b[0m\u001b[1;33m(\u001b[0m\u001b[1;36m0\u001b[0m\u001b[1;33m,\u001b[0m\u001b[1;36m.2\u001b[0m\u001b[1;33m,\u001b[0m\u001b[1;36m1000\u001b[0m\u001b[1;33m)\u001b[0m\u001b[1;33m,\u001b[0m \u001b[0mkde\u001b[0m\u001b[1;33m=\u001b[0m\u001b[1;32mFalse\u001b[0m\u001b[1;33m,\u001b[0m \u001b[0mrug\u001b[0m\u001b[1;33m=\u001b[0m\u001b[1;32mTrue\u001b[0m\u001b[1;33m)\u001b[0m\u001b[1;33m\u001b[0m\u001b[0m\n\u001b[1;32m----> 3\u001b[1;33m \u001b[0msns\u001b[0m\u001b[1;33m.\u001b[0m\u001b[0mshow\u001b[0m\u001b[1;33m(\u001b[0m\u001b[1;33m)\u001b[0m\u001b[1;33m\u001b[0m\u001b[0m\n\u001b[0m",
      "\u001b[1;31mAttributeError\u001b[0m: module 'seaborn' has no attribute 'show'"
     ]
    },
    {
     "data": {
      "image/png": "[encoded data removed]",
      "text/plain": [
       "<Figure size 432x288 with 1 Axes>"
      ]
     },
     "metadata": {},
     "output_type": "display_data"
    }
   ],
   "source": [
    "sns.distplot( np.random.normal(0,.1,1000), kde=False, rug=True)\n",
    "sns.distplot( np.random.normal(0,.2,1000), kde=False, rug=True)"
   ]
  },
  {
   "cell_type": "code",
   "execution_count": 206,
   "metadata": {},
   "outputs": [
    {
     "name": "stderr",
     "output_type": "stream",
     "text": [
      "C:\\Users\\bernie\\Anaconda3\\lib\\site-packages\\scipy\\stats\\stats.py:1713: FutureWarning: Using a non-tuple sequence for multidimensional indexing is deprecated; use `arr[tuple(seq)]` instead of `arr[seq]`. In the future this will be interpreted as an array index, `arr[np.array(seq)]`, which will result either in an error or a different result.\n",
      "  return np.add.reduce(sorted[indexer] * weights, axis=axis) / sumval\n"
     ]
    },
    {
     "data": {
      "text/plain": [
       "<matplotlib.axes._subplots.AxesSubplot at 0x29ccd2f2cf8>"
      ]
     },
     "execution_count": 206,
     "metadata": {},
     "output_type": "execute_result"
    },
    {
     "data": {
      "image/png": "[encoded data removed]",
      "text/plain": [
       "<Figure size 432x288 with 1 Axes>"
      ]
     },
     "metadata": {
      "needs_background": "light"
     },
     "output_type": "display_data"
    }
   ],
   "source": [
    "dist_1 = np.random.normal(0,.1,50000)\n",
    "sns.distplot( dist_1, hist=False, rug=True)"
   ]
  },
  {
   "cell_type": "markdown",
   "metadata": {},
   "source": [
    "### Selecting colour\n",
    "\n",
    "There are a variety of colour palettes availble for seaborn. To be honest, I think the developer has given more care in this than we have any right to expect. The palettes range from the basic RGB towards HSul, which is a hue and saturation score that's corrected for human vision and a variety of palettes that work for bichromatic (i.e. colorblind) vision. \n",
    "\n",
    "I quite like what's out of the box, but I will say that in my own work I've come across a need to set the color palette before by hand. This can be done by first identifying the preferred colours, adding them to a list. \n",
    "\n",
    "Alternately, use the ```palette = sns.color_palette(\"<type>\", number)``` as an argument. "
   ]
  },
  {
   "cell_type": "code",
   "execution_count": 216,
   "metadata": {},
   "outputs": [],
   "source": [
    "#########################\n",
    "# \n",
    "import numpy as np\n",
    "import seaborn as sns\n",
    "import pandas as pd\n",
    "%matplotlib inline \n",
    "\n",
    "lenn = 200\n",
    "dist1 = np.concatenate([np.random.normal(0,2,lenn//2), np.random.normal(0.1,.5,lenn//2)])\n",
    "dist2 = [1,2,3,4]*(lenn//4)\n",
    "dist = pd.DataFrame([dist1,dist2]).T\n",
    "dist.columns = [\"norm\",\"group\"]"
   ]
  },
  {
   "cell_type": "code",
   "execution_count": 219,
   "metadata": {},
   "outputs": [
    {
     "data": {
      "text/plain": [
       "<matplotlib.axes._subplots.AxesSubplot at 0x29cd0f05f60>"
      ]
     },
     "execution_count": 219,
     "metadata": {},
     "output_type": "execute_result"
    },
    {
     "data": {
      "image/png": "[encoded data removed]",
      "text/plain": [
       "<Figure size 432x288 with 1 Axes>"
      ]
     },
     "metadata": {
      "needs_background": "light"
     },
     "output_type": "display_data"
    }
   ],
   "source": [
    "sns.boxplot(x=dist[\"group\"],y=dist[\"norm\"],palette=sns.color_palette(\"pastel\", 4))"
   ]
  },
  {
   "cell_type": "code",
   "execution_count": 85,
   "metadata": {},
   "outputs": [
    {
     "data": {
      "text/plain": [
       "<matplotlib.axes._subplots.AxesSubplot at 0x29cc9c90860>"
      ]
     },
     "execution_count": 85,
     "metadata": {},
     "output_type": "execute_result"
    },
    {
     "data": {
      "image/png": "[encoded data removed]",
      "text/plain": [
       "<Figure size 432x288 with 1 Axes>"
      ]
     },
     "metadata": {
      "needs_background": "light"
     },
     "output_type": "display_data"
    }
   ],
   "source": [
    "flatui = [\"#ff8944\", \"#ffa672\", \"#28a9ff\", \"#82cdff\"]\n",
    "\n",
    "sns.boxplot(x=dist[\"group\"],y=dist[\"norm\"],palette=flatui)"
   ]
  },
  {
   "cell_type": "code",
   "execution_count": 221,
   "metadata": {},
   "outputs": [
    {
     "name": "stderr",
     "output_type": "stream",
     "text": [
      "C:\\Users\\bernie\\Anaconda3\\lib\\site-packages\\scipy\\stats\\stats.py:1713: FutureWarning: Using a non-tuple sequence for multidimensional indexing is deprecated; use `arr[tuple(seq)]` instead of `arr[seq]`. In the future this will be interpreted as an array index, `arr[np.array(seq)]`, which will result either in an error or a different result.\n",
      "  return np.add.reduce(sorted[indexer] * weights, axis=axis) / sumval\n"
     ]
    },
    {
     "data": {
      "image/png": "[encoded data removed]",
      "text/plain": [
       "<Figure size 432x288 with 1 Axes>"
      ]
     },
     "metadata": {
      "needs_background": "light"
     },
     "output_type": "display_data"
    }
   ],
   "source": [
    "## Setting the axis\n",
    "\n",
    "skewed = np.random.exponential(scale=2.1,size= 10000) \n",
    "plot = sns.distplot( skewed ,kde=True,hist=False)\n",
    "plot.set_xscale(\"log\")\n",
    "# plot.set_yscale(\"log\")"
   ]
  },
  {
   "cell_type": "code",
   "execution_count": 228,
   "metadata": {},
   "outputs": [
    {
     "name": "stderr",
     "output_type": "stream",
     "text": [
      "C:\\Users\\bernie\\Anaconda3\\lib\\site-packages\\scipy\\stats\\stats.py:1713: FutureWarning: Using a non-tuple sequence for multidimensional indexing is deprecated; use `arr[tuple(seq)]` instead of `arr[seq]`. In the future this will be interpreted as an array index, `arr[np.array(seq)]`, which will result either in an error or a different result.\n",
      "  return np.add.reduce(sorted[indexer] * weights, axis=axis) / sumval\n"
     ]
    },
    {
     "data": {
      "text/plain": [
       "Text(0.5,1,'title_for_plot')"
      ]
     },
     "execution_count": 228,
     "metadata": {},
     "output_type": "execute_result"
    },
    {
     "data": {
      "image/png": "[encoded data removed]",
      "text/plain": [
       "<Figure size 432x288 with 1 Axes>"
      ]
     },
     "metadata": {
      "needs_background": "light"
     },
     "output_type": "display_data"
    }
   ],
   "source": [
    "dist_1 = np.random.normal(0,.1,1000)\n",
    "plt = sns.distplot( dist_1, hist=False, rug=True)\n",
    "plt.set_xlim(0,2)\n",
    "plt.set_ylim(2,4)\n",
    "plt.set_xlabel(\"x-label\")\n",
    "plt.set_ylabel(\"y-label\")\n",
    "plt.set_title(\"title_for_plot\")"
   ]
  },
  {
   "cell_type": "code",
   "execution_count": 159,
   "metadata": {},
   "outputs": [
    {
     "name": "stderr",
     "output_type": "stream",
     "text": [
      "C:\\Users\\bernie\\Anaconda3\\lib\\site-packages\\scipy\\stats\\stats.py:1713: FutureWarning: Using a non-tuple sequence for multidimensional indexing is deprecated; use `arr[tuple(seq)]` instead of `arr[seq]`. In the future this will be interpreted as an array index, `arr[np.array(seq)]`, which will result either in an error or a different result.\n",
      "  return np.add.reduce(sorted[indexer] * weights, axis=axis) / sumval\n"
     ]
    },
    {
     "data": {
      "text/plain": [
       "[Text(0,0.5,'y-label'),\n",
       " (0, 2),\n",
       " Text(0.5,0,'x-label'),\n",
       " Text(0.5,1,'title_for_plot')]"
      ]
     },
     "execution_count": 159,
     "metadata": {},
     "output_type": "execute_result"
    },
    {
     "data": {
      "image/png": "[encoded data removed]",
      "text/plain": [
       "<Figure size 432x288 with 1 Axes>"
      ]
     },
     "metadata": {
      "needs_background": "light"
     },
     "output_type": "display_data"
    }
   ],
   "source": [
    "dist_1 = np.random.normal(0,.1,1000)\n",
    "plt = sns.distplot(dist_1, hist=False, rug=True)\n",
    "\n",
    "plt.set( xlim=(0,2),xlabel=\"x-label\",ylabel=\"y-label\",title= \"title_for_plot\")"
   ]
  },
  {
   "cell_type": "markdown",
   "metadata": {},
   "source": [
    "## 2.2 A review of basic charts.\n",
    "\n",
    "Instead of pasting them all in here, I will encourage you to look at the gallery for inspiration and then to the API section which denotes the variety of plots available. For each one there is a simple code snippet.  \n",
    "\n",
    "- Gallery: \n",
    "    https://seaborn.pydata.org/examples/index.html\n",
    "- API reference: \n",
    "    https://seaborn.pydata.org/api.html\n",
    "    \n",
    "On thing I would encourage viewing especially are the tutorials. There's one on Anscombe's Quartet that shows that even though we have the same statistical measures for all four distributions we can still model the unique features of each of them if we know how to do it. This helps remind us that it is important to review distributions. It's hard to correct for something if you do not know how to see it. "
   ]
  },
  {
   "cell_type": "code",
   "execution_count": 230,
   "metadata": {},
   "outputs": [
    {
     "data": {
      "text/plain": [
       "<matplotlib.axes._subplots.AxesSubplot at 0x29cc720f208>"
      ]
     },
     "execution_count": 230,
     "metadata": {},
     "output_type": "execute_result"
    },
    {
     "data": {
      "image/png": "[encoded data removed]",
      "text/plain": [
       "<Figure size 792x648 with 2 Axes>"
      ]
     },
     "metadata": {},
     "output_type": "display_data"
    }
   ],
   "source": [
    "# %load https://seaborn.pydata.org/_downloads/many_pairwise_correlations.py\n",
    "\"\"\"\n",
    "Plotting a diagonal correlation matrix\n",
    "======================================\n",
    "\n",
    "_thumb: .3, .6\n",
    "\"\"\"\n",
    "from string import ascii_letters\n",
    "import numpy as np\n",
    "import pandas as pd\n",
    "import seaborn as sns\n",
    "import matplotlib.pyplot as plt\n",
    "\n",
    "sns.set(style=\"white\")\n",
    "\n",
    "# Generate a large random dataset\n",
    "rs = np.random.RandomState(33)\n",
    "d = pd.DataFrame(data=rs.normal(size=(100, 26)),\n",
    "                 columns=list(ascii_letters[26:]))\n",
    "\n",
    "# Compute the correlation matrix\n",
    "corr = d.corr()\n",
    "\n",
    "# Generate a mask for the upper triangle\n",
    "mask = np.zeros_like(corr, dtype=np.bool)\n",
    "mask[np.triu_indices_from(mask)] = True\n",
    "\n",
    "# Set up the matplotlib figure\n",
    "f, ax = plt.subplots(figsize=(11, 9))\n",
    "\n",
    "# Generate a custom diverging colormap\n",
    "cmap = sns.diverging_palette(220, 10, as_cmap=True)\n",
    "\n",
    "# Draw the heatmap with the mask and correct aspect ratio\n",
    "sns.heatmap(corr, mask=mask, cmap=cmap, vmax=.3, center=0,\n",
    "            square=True, linewidths=.5, cbar_kws={\"shrink\": .5})\n"
   ]
  },
  {
   "cell_type": "markdown",
   "metadata": {},
   "source": [
    "## 2.3 Multiple charts in the same figure \n",
    "\n",
    "One feature that may be challenging for a new prorgammer is to understand how to place multiple charts in the same figure. This is done through the use of \"axes\". Confusingly, this term does not mean the plural of axis in the sense of both x and y axes. Those per-chart are just called axis, and they tend to write single and plural as the same. Axes refer to the chart itself. An axes can be a table that by default is 1 cell by 1 cell. By denoting that multiple cells are available you can assign a plot to each cell. "
   ]
  },
  {
   "cell_type": "markdown",
   "metadata": {},
   "source": [
    "Seaborn has two ways to handle axes, the first is through a facet grid and the second is by calling the axes directly. Where possible use facets and then map them on to the plot. See: https://seaborn.pydata.org/tutorial/axis_grids.html"
   ]
  },
  {
   "cell_type": "markdown",
   "metadata": {},
   "source": [
    "## Section 3. Dynamic charts \n",
    "\n",
    "A new movement towards dynamic charts has really taken hold. Early dynamic work tended to involve either very ugly and non-standard html elements, overbearing flash sites or java applets that felt strange as they either took too long to load or popped up a window. They also tended to crash. Since HTML5 and CSS3 we have seen an explosion of potential for interactive charts. For ```R``` there is the RShiny framework that allows the exporting of dynamic charts. For javascript, the go-to package for most visualizations is ```d3```. That being said, for network graphics, myself and others tend to prefer ```sigma.js```. For python, there is ```bokeh```. This package is great. It integrates tightly with anaconda as well as producing standalone graphics. \n",
    "- If the graphical data is __static but the view is dynamic__ (i.e. a large picture that you pan and zoom) it can run in a browser with no issue.* \n",
    "- If it is a graphic that ```dynamicly selects data``` to be displayed it has to be run from a server. That being said, the bokeh people have found very sharp ways to integrate it directly into a jupyter notebook as we shall see below. "
   ]
  },
  {
   "cell_type": "markdown",
   "metadata": {},
   "source": [
    "### First, an example of how dynamic graphics can be utterly amazing: Hans Rosling's TED demonstration: "
   ]
  },
  {
   "cell_type": "markdown",
   "metadata": {},
   "source": [
    "<iframe width=\"1104\" height=\"621\" src=\"https://www.youtube.com/embed/pJfq-o5nZQ4\" frameborder=\"0\" allow=\"autoplay; encrypted-media\" allowfullscreen></iframe>"
   ]
  },
  {
   "cell_type": "code",
   "execution_count": 235,
   "metadata": {},
   "outputs": [
    {
     "data": {
      "text/html": [
       "<iframe width=\"800\" height=\"600\" src=\"https://www.youtube.com/embed/hVimVzgtD6w?start=195\" frameborder=\"0\" allow=\"autoplay; encrypted-media\" allowfullscreen></iframe>"
      ],
      "text/plain": [
       "<IPython.core.display.HTML object>"
      ]
     },
     "execution_count": 235,
     "metadata": {},
     "output_type": "execute_result"
    }
   ],
   "source": [
    "from IPython.display import HTML\n",
    "\n",
    "HTML('<iframe width=\"800\" height=\"600\" src=\"https://www.youtube.com/embed/hVimVzgtD6w?start=195\" frameborder=\"0\" allow=\"autoplay; encrypted-media\" allowfullscreen></iframe>')"
   ]
  },
  {
   "cell_type": "markdown",
   "metadata": {},
   "source": [
    "## Now see it in bokeh! \n",
    "https://demo.bokehplots.com/apps/gapminder\n",
    "\n",
    "## Here's the source code\n",
    "https://github.com/bokeh/bokeh/tree/master/examples/app/gapminder"
   ]
  },
  {
   "cell_type": "markdown",
   "metadata": {},
   "source": [
    "Bokeh works very similarly to seaborn. That is to say it does a lot of the heavy lifting in the background and then you can configure to taste. \n",
    "- First, we would want to initialise ```bokeh```,\n",
    "- then we want to determine whether we are sending the result to a file or to a jupyter notebook.\n",
    "- We then initialise our plot\n",
    "- We add some data\n",
    "\n",
    "No surprise but bokeh is included with anaconda. Why no surprise? Because it is developed by the same people. "
   ]
  },
  {
   "cell_type": "code",
   "execution_count": 236,
   "metadata": {},
   "outputs": [
    {
     "data": {
      "text/html": [
       "\n",
       "    <div class=\"bk-root\">\n",
       "        <a href=\"https://bokeh.pydata.org\" target=\"_blank\" class=\"bk-logo bk-logo-small bk-logo-notebook\"></a>\n",
       "        <span id=\"53528167-5f0b-425c-aa97-3a394ab332c9\">Loading BokehJS ...</span>\n",
       "    </div>"
      ]
     },
     "metadata": {},
     "output_type": "display_data"
    },
    {
     "data": {
      "application/javascript": [
       "\n",
       "(function(root) {\n",
       "  function now() {\n",
       "    return new Date();\n",
       "  }\n",
       "\n",
       "  var force = true;\n",
       "\n",
       "  if (typeof (root._bokeh_onload_callbacks) === \"undefined\" || force === true) {\n",
       "    root._bokeh_onload_callbacks = [];\n",
       "    root._bokeh_is_loading = undefined;\n",
       "  }\n",
       "\n",
       "  var JS_MIME_TYPE = 'application/javascript';\n",
       "  var HTML_MIME_TYPE = 'text/html';\n",
       "  var EXEC_MIME_TYPE = 'application/vnd.bokehjs_exec.v0+json';\n",
       "  var CLASS_NAME = 'output_bokeh rendered_html';\n",
       "\n",
       "  /**\n",
       "   * Render data to the DOM node\n",
       "   */\n",
       "  function render(props, node) {\n",
       "    var script = document.createElement(\"script\");\n",
       "    node.appendChild(script);\n",
       "  }\n",
       "\n",
       "  /**\n",
       "   * Handle when an output is cleared or removed\n",
       "   */\n",
       "  function handleClearOutput(event, handle) {\n",
       "    var cell = handle.cell;\n",
       "\n",
       "    var id = cell.output_area._bokeh_element_id;\n",
       "    var server_id = cell.output_area._bokeh_server_id;\n",
       "    // Clean up Bokeh references\n",
       "    if (id != null && id in Bokeh.index) {\n",
       "      Bokeh.index[id].model.document.clear();\n",
       "      delete Bokeh.index[id];\n",
       "    }\n",
       "\n",
       "    if (server_id !== undefined) {\n",
       "      // Clean up Bokeh references\n",
       "      var cmd = \"from bokeh.io.state import curstate; print(curstate().uuid_to_server['\" + server_id + \"'].get_sessions()[0].document.roots[0]._id)\";\n",
       "      cell.notebook.kernel.execute(cmd, {\n",
       "        iopub: {\n",
       "          output: function(msg) {\n",
       "            var id = msg.content.text.trim();\n",
       "            if (id in Bokeh.index) {\n",
       "              Bokeh.index[id].model.document.clear();\n",
       "              delete Bokeh.index[id];\n",
       "            }\n",
       "          }\n",
       "        }\n",
       "      });\n",
       "      // Destroy server and session\n",
       "      var cmd = \"import bokeh.io.notebook as ion; ion.destroy_server('\" + server_id + \"')\";\n",
       "      cell.notebook.kernel.execute(cmd);\n",
       "    }\n",
       "  }\n",
       "\n",
       "  /**\n",
       "   * Handle when a new output is added\n",
       "   */\n",
       "  function handleAddOutput(event, handle) {\n",
       "    var output_area = handle.output_area;\n",
       "    var output = handle.output;\n",
       "\n",
       "    // limit handleAddOutput to display_data with EXEC_MIME_TYPE content only\n",
       "    if ((output.output_type != \"display_data\") || (!output.data.hasOwnProperty(EXEC_MIME_TYPE))) {\n",
       "      return\n",
       "    }\n",
       "\n",
       "    var toinsert = output_area.element.find(\".\" + CLASS_NAME.split(' ')[0]);\n",
       "\n",
       "    if (output.metadata[EXEC_MIME_TYPE][\"id\"] !== undefined) {\n",
       "      toinsert[toinsert.length - 1].firstChild.textContent = output.data[JS_MIME_TYPE];\n",
       "      // store reference to embed id on output_area\n",
       "      output_area._bokeh_element_id = output.metadata[EXEC_MIME_TYPE][\"id\"];\n",
       "    }\n",
       "    if (output.metadata[EXEC_MIME_TYPE][\"server_id\"] !== undefined) {\n",
       "      var bk_div = document.createElement(\"div\");\n",
       "      bk_div.innerHTML = output.data[HTML_MIME_TYPE];\n",
       "      var script_attrs = bk_div.children[0].attributes;\n",
       "      for (var i = 0; i < script_attrs.length; i++) {\n",
       "        toinsert[toinsert.length - 1].firstChild.setAttribute(script_attrs[i].name, script_attrs[i].value);\n",
       "      }\n",
       "      // store reference to server id on output_area\n",
       "      output_area._bokeh_server_id = output.metadata[EXEC_MIME_TYPE][\"server_id\"];\n",
       "    }\n",
       "  }\n",
       "\n",
       "  function register_renderer(events, OutputArea) {\n",
       "\n",
       "    function append_mime(data, metadata, element) {\n",
       "      // create a DOM node to render to\n",
       "      var toinsert = this.create_output_subarea(\n",
       "        metadata,\n",
       "        CLASS_NAME,\n",
       "        EXEC_MIME_TYPE\n",
       "      );\n",
       "      this.keyboard_manager.register_events(toinsert);\n",
       "      // Render to node\n",
       "      var props = {data: data, metadata: metadata[EXEC_MIME_TYPE]};\n",
       "      render(props, toinsert[toinsert.length - 1]);\n",
       "      element.append(toinsert);\n",
       "      return toinsert\n",
       "    }\n",
       "\n",
       "    /* Handle when an output is cleared or removed */\n",
       "    events.on('clear_output.CodeCell', handleClearOutput);\n",
       "    events.on('delete.Cell', handleClearOutput);\n",
       "\n",
       "    /* Handle when a new output is added */\n",
       "    events.on('output_added.OutputArea', handleAddOutput);\n",
       "\n",
       "    /**\n",
       "     * Register the mime type and append_mime function with output_area\n",
       "     */\n",
       "    OutputArea.prototype.register_mime_type(EXEC_MIME_TYPE, append_mime, {\n",
       "      /* Is output safe? */\n",
       "      safe: true,\n",
       "      /* Index of renderer in `output_area.display_order` */\n",
       "      index: 0\n",
       "    });\n",
       "  }\n",
       "\n",
       "  // register the mime type if in Jupyter Notebook environment and previously unregistered\n",
       "  if (root.Jupyter !== undefined) {\n",
       "    var events = require('base/js/events');\n",
       "    var OutputArea = require('notebook/js/outputarea').OutputArea;\n",
       "\n",
       "    if (OutputArea.prototype.mime_types().indexOf(EXEC_MIME_TYPE) == -1) {\n",
       "      register_renderer(events, OutputArea);\n",
       "    }\n",
       "  }\n",
       "\n",
       "  \n",
       "  if (typeof (root._bokeh_timeout) === \"undefined\" || force === true) {\n",
       "    root._bokeh_timeout = Date.now() + 5000;\n",
       "    root._bokeh_failed_load = false;\n",
       "  }\n",
       "\n",
       "  var NB_LOAD_WARNING = {'data': {'text/html':\n",
       "     \"<div style='background-color: #fdd'>\\n\"+\n",
       "     \"<p>\\n\"+\n",
       "     \"BokehJS does not appear to have successfully loaded. If loading BokehJS from CDN, this \\n\"+\n",
       "     \"may be due to a slow or bad network connection. Possible fixes:\\n\"+\n",
       "     \"</p>\\n\"+\n",
       "     \"<ul>\\n\"+\n",
       "     \"<li>re-rerun `output_notebook()` to attempt to load from CDN again, or</li>\\n\"+\n",
       "     \"<li>use INLINE resources instead, as so:</li>\\n\"+\n",
       "     \"</ul>\\n\"+\n",
       "     \"<code>\\n\"+\n",
       "     \"from bokeh.resources import INLINE\\n\"+\n",
       "     \"output_notebook(resources=INLINE)\\n\"+\n",
       "     \"</code>\\n\"+\n",
       "     \"</div>\"}};\n",
       "\n",
       "  function display_loaded() {\n",
       "    var el = document.getElementById(\"53528167-5f0b-425c-aa97-3a394ab332c9\");\n",
       "    if (el != null) {\n",
       "      el.textContent = \"BokehJS is loading...\";\n",
       "    }\n",
       "    if (root.Bokeh !== undefined) {\n",
       "      if (el != null) {\n",
       "        el.textContent = \"BokehJS \" + root.Bokeh.version + \" successfully loaded.\";\n",
       "      }\n",
       "    } else if (Date.now() < root._bokeh_timeout) {\n",
       "      setTimeout(display_loaded, 100)\n",
       "    }\n",
       "  }\n",
       "\n",
       "\n",
       "  function run_callbacks() {\n",
       "    try {\n",
       "      root._bokeh_onload_callbacks.forEach(function(callback) { callback() });\n",
       "    }\n",
       "    finally {\n",
       "      delete root._bokeh_onload_callbacks\n",
       "    }\n",
       "    console.info(\"Bokeh: all callbacks have finished\");\n",
       "  }\n",
       "\n",
       "  function load_libs(js_urls, callback) {\n",
       "    root._bokeh_onload_callbacks.push(callback);\n",
       "    if (root._bokeh_is_loading > 0) {\n",
       "      console.log(\"Bokeh: BokehJS is being loaded, scheduling callback at\", now());\n",
       "      return null;\n",
       "    }\n",
       "    if (js_urls == null || js_urls.length === 0) {\n",
       "      run_callbacks();\n",
       "      return null;\n",
       "    }\n",
       "    console.log(\"Bokeh: BokehJS not loaded, scheduling load and callback at\", now());\n",
       "    root._bokeh_is_loading = js_urls.length;\n",
       "    for (var i = 0; i < js_urls.length; i++) {\n",
       "      var url = js_urls[i];\n",
       "      var s = document.createElement('script');\n",
       "      s.src = url;\n",
       "      s.async = false;\n",
       "      s.onreadystatechange = s.onload = function() {\n",
       "        root._bokeh_is_loading--;\n",
       "        if (root._bokeh_is_loading === 0) {\n",
       "          console.log(\"Bokeh: all BokehJS libraries loaded\");\n",
       "          run_callbacks()\n",
       "        }\n",
       "      };\n",
       "      s.onerror = function() {\n",
       "        console.warn(\"failed to load library \" + url);\n",
       "      };\n",
       "      console.log(\"Bokeh: injecting script tag for BokehJS library: \", url);\n",
       "      document.getElementsByTagName(\"head\")[0].appendChild(s);\n",
       "    }\n",
       "  };var element = document.getElementById(\"53528167-5f0b-425c-aa97-3a394ab332c9\");\n",
       "  if (element == null) {\n",
       "    console.log(\"Bokeh: ERROR: autoload.js configured with elementid '53528167-5f0b-425c-aa97-3a394ab332c9' but no matching script tag was found. \")\n",
       "    return false;\n",
       "  }\n",
       "\n",
       "  var js_urls = [\"https://cdn.pydata.org/bokeh/release/bokeh-0.13.0.min.js\", \"https://cdn.pydata.org/bokeh/release/bokeh-widgets-0.13.0.min.js\", \"https://cdn.pydata.org/bokeh/release/bokeh-tables-0.13.0.min.js\", \"https://cdn.pydata.org/bokeh/release/bokeh-gl-0.13.0.min.js\"];\n",
       "\n",
       "  var inline_js = [\n",
       "    function(Bokeh) {\n",
       "      Bokeh.set_log_level(\"info\");\n",
       "    },\n",
       "    \n",
       "    function(Bokeh) {\n",
       "      \n",
       "    },\n",
       "    function(Bokeh) {\n",
       "      console.log(\"Bokeh: injecting CSS: https://cdn.pydata.org/bokeh/release/bokeh-0.13.0.min.css\");\n",
       "      Bokeh.embed.inject_css(\"https://cdn.pydata.org/bokeh/release/bokeh-0.13.0.min.css\");\n",
       "      console.log(\"Bokeh: injecting CSS: https://cdn.pydata.org/bokeh/release/bokeh-widgets-0.13.0.min.css\");\n",
       "      Bokeh.embed.inject_css(\"https://cdn.pydata.org/bokeh/release/bokeh-widgets-0.13.0.min.css\");\n",
       "      console.log(\"Bokeh: injecting CSS: https://cdn.pydata.org/bokeh/release/bokeh-tables-0.13.0.min.css\");\n",
       "      Bokeh.embed.inject_css(\"https://cdn.pydata.org/bokeh/release/bokeh-tables-0.13.0.min.css\");\n",
       "    }\n",
       "  ];\n",
       "\n",
       "  function run_inline_js() {\n",
       "    \n",
       "    if ((root.Bokeh !== undefined) || (force === true)) {\n",
       "      for (var i = 0; i < inline_js.length; i++) {\n",
       "        inline_js[i].call(root, root.Bokeh);\n",
       "      }if (force === true) {\n",
       "        display_loaded();\n",
       "      }} else if (Date.now() < root._bokeh_timeout) {\n",
       "      setTimeout(run_inline_js, 100);\n",
       "    } else if (!root._bokeh_failed_load) {\n",
       "      console.log(\"Bokeh: BokehJS failed to load within specified timeout.\");\n",
       "      root._bokeh_failed_load = true;\n",
       "    } else if (force !== true) {\n",
       "      var cell = $(document.getElementById(\"53528167-5f0b-425c-aa97-3a394ab332c9\")).parents('.cell').data().cell;\n",
       "      cell.output_area.append_execute_result(NB_LOAD_WARNING)\n",
       "    }\n",
       "\n",
       "  }\n",
       "\n",
       "  if (root._bokeh_is_loading === 0) {\n",
       "    console.log(\"Bokeh: BokehJS loaded, going straight to plotting\");\n",
       "    run_inline_js();\n",
       "  } else {\n",
       "    load_libs(js_urls, function() {\n",
       "      console.log(\"Bokeh: BokehJS plotting callback run at\", now());\n",
       "      run_inline_js();\n",
       "    });\n",
       "  }\n",
       "}(window));"
      ],
      "application/vnd.bokehjs_load.v0+json": "\n(function(root) {\n  function now() {\n    return new Date();\n  }\n\n  var force = true;\n\n  if (typeof (root._bokeh_onload_callbacks) === \"undefined\" || force === true) {\n    root._bokeh_onload_callbacks = [];\n    root._bokeh_is_loading = undefined;\n  }\n\n  \n\n  \n  if (typeof (root._bokeh_timeout) === \"undefined\" || force === true) {\n    root._bokeh_timeout = Date.now() + 5000;\n    root._bokeh_failed_load = false;\n  }\n\n  var NB_LOAD_WARNING = {'data': {'text/html':\n     \"<div style='background-color: #fdd'>\\n\"+\n     \"<p>\\n\"+\n     \"BokehJS does not appear to have successfully loaded. If loading BokehJS from CDN, this \\n\"+\n     \"may be due to a slow or bad network connection. Possible fixes:\\n\"+\n     \"</p>\\n\"+\n     \"<ul>\\n\"+\n     \"<li>re-rerun `output_notebook()` to attempt to load from CDN again, or</li>\\n\"+\n     \"<li>use INLINE resources instead, as so:</li>\\n\"+\n     \"</ul>\\n\"+\n     \"<code>\\n\"+\n     \"from bokeh.resources import INLINE\\n\"+\n     \"output_notebook(resources=INLINE)\\n\"+\n     \"</code>\\n\"+\n     \"</div>\"}};\n\n  function display_loaded() {\n    var el = document.getElementById(\"53528167-5f0b-425c-aa97-3a394ab332c9\");\n    if (el != null) {\n      el.textContent = \"BokehJS is loading...\";\n    }\n    if (root.Bokeh !== undefined) {\n      if (el != null) {\n        el.textContent = \"BokehJS \" + root.Bokeh.version + \" successfully loaded.\";\n      }\n    } else if (Date.now() < root._bokeh_timeout) {\n      setTimeout(display_loaded, 100)\n    }\n  }\n\n\n  function run_callbacks() {\n    try {\n      root._bokeh_onload_callbacks.forEach(function(callback) { callback() });\n    }\n    finally {\n      delete root._bokeh_onload_callbacks\n    }\n    console.info(\"Bokeh: all callbacks have finished\");\n  }\n\n  function load_libs(js_urls, callback) {\n    root._bokeh_onload_callbacks.push(callback);\n    if (root._bokeh_is_loading > 0) {\n      console.log(\"Bokeh: BokehJS is being loaded, scheduling callback at\", now());\n      return null;\n    }\n    if (js_urls == null || js_urls.length === 0) {\n      run_callbacks();\n      return null;\n    }\n    console.log(\"Bokeh: BokehJS not loaded, scheduling load and callback at\", now());\n    root._bokeh_is_loading = js_urls.length;\n    for (var i = 0; i < js_urls.length; i++) {\n      var url = js_urls[i];\n      var s = document.createElement('script');\n      s.src = url;\n      s.async = false;\n      s.onreadystatechange = s.onload = function() {\n        root._bokeh_is_loading--;\n        if (root._bokeh_is_loading === 0) {\n          console.log(\"Bokeh: all BokehJS libraries loaded\");\n          run_callbacks()\n        }\n      };\n      s.onerror = function() {\n        console.warn(\"failed to load library \" + url);\n      };\n      console.log(\"Bokeh: injecting script tag for BokehJS library: \", url);\n      document.getElementsByTagName(\"head\")[0].appendChild(s);\n    }\n  };var element = document.getElementById(\"53528167-5f0b-425c-aa97-3a394ab332c9\");\n  if (element == null) {\n    console.log(\"Bokeh: ERROR: autoload.js configured with elementid '53528167-5f0b-425c-aa97-3a394ab332c9' but no matching script tag was found. \")\n    return false;\n  }\n\n  var js_urls = [\"https://cdn.pydata.org/bokeh/release/bokeh-0.13.0.min.js\", \"https://cdn.pydata.org/bokeh/release/bokeh-widgets-0.13.0.min.js\", \"https://cdn.pydata.org/bokeh/release/bokeh-tables-0.13.0.min.js\", \"https://cdn.pydata.org/bokeh/release/bokeh-gl-0.13.0.min.js\"];\n\n  var inline_js = [\n    function(Bokeh) {\n      Bokeh.set_log_level(\"info\");\n    },\n    \n    function(Bokeh) {\n      \n    },\n    function(Bokeh) {\n      console.log(\"Bokeh: injecting CSS: https://cdn.pydata.org/bokeh/release/bokeh-0.13.0.min.css\");\n      Bokeh.embed.inject_css(\"https://cdn.pydata.org/bokeh/release/bokeh-0.13.0.min.css\");\n      console.log(\"Bokeh: injecting CSS: https://cdn.pydata.org/bokeh/release/bokeh-widgets-0.13.0.min.css\");\n      Bokeh.embed.inject_css(\"https://cdn.pydata.org/bokeh/release/bokeh-widgets-0.13.0.min.css\");\n      console.log(\"Bokeh: injecting CSS: https://cdn.pydata.org/bokeh/release/bokeh-tables-0.13.0.min.css\");\n      Bokeh.embed.inject_css(\"https://cdn.pydata.org/bokeh/release/bokeh-tables-0.13.0.min.css\");\n    }\n  ];\n\n  function run_inline_js() {\n    \n    if ((root.Bokeh !== undefined) || (force === true)) {\n      for (var i = 0; i < inline_js.length; i++) {\n        inline_js[i].call(root, root.Bokeh);\n      }if (force === true) {\n        display_loaded();\n      }} else if (Date.now() < root._bokeh_timeout) {\n      setTimeout(run_inline_js, 100);\n    } else if (!root._bokeh_failed_load) {\n      console.log(\"Bokeh: BokehJS failed to load within specified timeout.\");\n      root._bokeh_failed_load = true;\n    } else if (force !== true) {\n      var cell = $(document.getElementById(\"53528167-5f0b-425c-aa97-3a394ab332c9\")).parents('.cell').data().cell;\n      cell.output_area.append_execute_result(NB_LOAD_WARNING)\n    }\n\n  }\n\n  if (root._bokeh_is_loading === 0) {\n    console.log(\"Bokeh: BokehJS loaded, going straight to plotting\");\n    run_inline_js();\n  } else {\n    load_libs(js_urls, function() {\n      console.log(\"Bokeh: BokehJS plotting callback run at\", now());\n      run_inline_js();\n    });\n  }\n}(window));"
     },
     "metadata": {},
     "output_type": "display_data"
    }
   ],
   "source": [
    "from bokeh.io import output_notebook, show\n",
    "output_notebook()"
   ]
  },
  {
   "cell_type": "code",
   "execution_count": 237,
   "metadata": {},
   "outputs": [
    {
     "data": {
      "text/html": [
       "\n",
       "\n",
       "\n",
       "\n",
       "\n",
       "\n",
       "  <div class=\"bk-root\" id=\"3d3504ab-a5d4-47be-913b-be1b8cbf59eb\"></div>\n"
      ]
     },
     "metadata": {},
     "output_type": "display_data"
    },
    {
     "data": {
      "application/javascript": [
       "(function(root) {\n",
       "  function embed_document(root) {\n",
       "    \n",
       "  var docs_json = {\"b045264c-a9c3-429b-9692-2a2c58eb3489\":{\"roots\":{\"references\":[{\"attributes\":{\"dimension\":1,\"plot\":{\"id\":\"4ce72484-eec4-4665-a84d-3f06e3269965\",\"subtype\":\"Figure\",\"type\":\"Plot\"},\"ticker\":{\"id\":\"c9f306d4-6a47-4b95-9daa-900ee48b48d2\",\"type\":\"BasicTicker\"}},\"id\":\"1ef418e4-0f18-4cc7-9148-56f52c7e9418\",\"type\":\"Grid\"},{\"attributes\":{\"line_color\":\"#1f77b4\",\"line_width\":2,\"x\":{\"field\":\"x\"},\"y\":{\"field\":\"y\"}},\"id\":\"15d23bdc-f391-454d-b885-032672a6b7b3\",\"type\":\"Line\"},{\"attributes\":{},\"id\":\"680deb3c-5d1b-49c3-aa0c-eb783a6b394f\",\"type\":\"UnionRenderers\"},{\"attributes\":{},\"id\":\"c9f306d4-6a47-4b95-9daa-900ee48b48d2\",\"type\":\"BasicTicker\"},{\"attributes\":{},\"id\":\"02e2aa79-79f9-458f-9cf1-99c685500f11\",\"type\":\"SaveTool\"},{\"attributes\":{},\"id\":\"9427769c-c693-4617-a865-dc5ad58432e1\",\"type\":\"ResetTool\"},{\"attributes\":{\"bottom_units\":\"screen\",\"fill_alpha\":{\"value\":0.5},\"fill_color\":{\"value\":\"lightgrey\"},\"left_units\":\"screen\",\"level\":\"overlay\",\"line_alpha\":{\"value\":1.0},\"line_color\":{\"value\":\"black\"},\"line_dash\":[4,4],\"line_width\":{\"value\":2},\"plot\":null,\"render_mode\":\"css\",\"right_units\":\"screen\",\"top_units\":\"screen\"},\"id\":\"d099ace6-3367-4282-96ad-c45d99f2d3a2\",\"type\":\"BoxAnnotation\"},{\"attributes\":{},\"id\":\"51ca2d35-4f7f-4d4e-891a-0cdf670e9d80\",\"type\":\"BasicTicker\"},{\"attributes\":{\"plot\":null,\"text\":\"My Line Plot\"},\"id\":\"b684203a-b24e-43f7-87c0-79aa9f0e8e87\",\"type\":\"Title\"},{\"attributes\":{},\"id\":\"8a8ffb4c-4374-4fa3-b35c-2ac423b3d977\",\"type\":\"LinearScale\"},{\"attributes\":{\"overlay\":{\"id\":\"d099ace6-3367-4282-96ad-c45d99f2d3a2\",\"type\":\"BoxAnnotation\"}},\"id\":\"ea49344d-3090-4262-9516-f447a3f31ef6\",\"type\":\"BoxZoomTool\"},{\"attributes\":{\"callback\":null},\"id\":\"7ebb7ed7-592e-42d7-8181-7b59f0c64405\",\"type\":\"DataRange1d\"},{\"attributes\":{},\"id\":\"56c8961a-0b3a-45b3-9d55-eb86cbe5b4b8\",\"type\":\"Selection\"},{\"attributes\":{\"formatter\":{\"id\":\"ebd5a8c9-1320-40e5-946c-9b6d964fbf44\",\"type\":\"BasicTickFormatter\"},\"plot\":{\"id\":\"4ce72484-eec4-4665-a84d-3f06e3269965\",\"subtype\":\"Figure\",\"type\":\"Plot\"},\"ticker\":{\"id\":\"c9f306d4-6a47-4b95-9daa-900ee48b48d2\",\"type\":\"BasicTicker\"}},\"id\":\"b2906a79-4719-4ae4-85c9-d39fcc1d8e0c\",\"type\":\"LinearAxis\"},{\"attributes\":{},\"id\":\"8d2a3f0b-a97d-4f5f-b004-de3ec4505ce0\",\"type\":\"PanTool\"},{\"attributes\":{},\"id\":\"ebd5a8c9-1320-40e5-946c-9b6d964fbf44\",\"type\":\"BasicTickFormatter\"},{\"attributes\":{\"line_alpha\":0.1,\"line_color\":\"#1f77b4\",\"line_width\":2,\"x\":{\"field\":\"x\"},\"y\":{\"field\":\"y\"}},\"id\":\"07738fa6-783e-42dd-a64e-da8dad5da2ed\",\"type\":\"Line\"},{\"attributes\":{},\"id\":\"bdc90393-e917-44c3-98ce-8d46eec1838b\",\"type\":\"LinearScale\"},{\"attributes\":{\"plot\":{\"id\":\"4ce72484-eec4-4665-a84d-3f06e3269965\",\"subtype\":\"Figure\",\"type\":\"Plot\"},\"ticker\":{\"id\":\"51ca2d35-4f7f-4d4e-891a-0cdf670e9d80\",\"type\":\"BasicTicker\"}},\"id\":\"e841de1b-6820-4dff-82c2-50607f41a74e\",\"type\":\"Grid\"},{\"attributes\":{},\"id\":\"08ee215b-e58b-40e7-b2d4-ac2961114696\",\"type\":\"WheelZoomTool\"},{\"attributes\":{\"active_drag\":\"auto\",\"active_inspect\":\"auto\",\"active_multi\":null,\"active_scroll\":\"auto\",\"active_tap\":\"auto\",\"tools\":[{\"id\":\"8d2a3f0b-a97d-4f5f-b004-de3ec4505ce0\",\"type\":\"PanTool\"},{\"id\":\"08ee215b-e58b-40e7-b2d4-ac2961114696\",\"type\":\"WheelZoomTool\"},{\"id\":\"ea49344d-3090-4262-9516-f447a3f31ef6\",\"type\":\"BoxZoomTool\"},{\"id\":\"02e2aa79-79f9-458f-9cf1-99c685500f11\",\"type\":\"SaveTool\"},{\"id\":\"9427769c-c693-4617-a865-dc5ad58432e1\",\"type\":\"ResetTool\"},{\"id\":\"3846b523-7bbe-4277-ae2b-ec798e2afc0e\",\"type\":\"HelpTool\"}]},\"id\":\"a4ce2297-7d0b-45f1-9260-118ef72e7112\",\"type\":\"Toolbar\"},{\"attributes\":{\"below\":[{\"id\":\"a68ed984-7d7b-49a8-b971-4ee6eed53e31\",\"type\":\"LinearAxis\"}],\"left\":[{\"id\":\"b2906a79-4719-4ae4-85c9-d39fcc1d8e0c\",\"type\":\"LinearAxis\"}],\"plot_height\":400,\"plot_width\":400,\"renderers\":[{\"id\":\"a68ed984-7d7b-49a8-b971-4ee6eed53e31\",\"type\":\"LinearAxis\"},{\"id\":\"e841de1b-6820-4dff-82c2-50607f41a74e\",\"type\":\"Grid\"},{\"id\":\"b2906a79-4719-4ae4-85c9-d39fcc1d8e0c\",\"type\":\"LinearAxis\"},{\"id\":\"1ef418e4-0f18-4cc7-9148-56f52c7e9418\",\"type\":\"Grid\"},{\"id\":\"d099ace6-3367-4282-96ad-c45d99f2d3a2\",\"type\":\"BoxAnnotation\"},{\"id\":\"40aa1eab-4446-44eb-a5a3-94b86abe4749\",\"type\":\"GlyphRenderer\"}],\"title\":{\"id\":\"b684203a-b24e-43f7-87c0-79aa9f0e8e87\",\"type\":\"Title\"},\"toolbar\":{\"id\":\"a4ce2297-7d0b-45f1-9260-118ef72e7112\",\"type\":\"Toolbar\"},\"x_range\":{\"id\":\"e0fcaafb-65c9-4047-9b19-3415cb61c4fc\",\"type\":\"DataRange1d\"},\"x_scale\":{\"id\":\"bdc90393-e917-44c3-98ce-8d46eec1838b\",\"type\":\"LinearScale\"},\"y_range\":{\"id\":\"7ebb7ed7-592e-42d7-8181-7b59f0c64405\",\"type\":\"DataRange1d\"},\"y_scale\":{\"id\":\"8a8ffb4c-4374-4fa3-b35c-2ac423b3d977\",\"type\":\"LinearScale\"}},\"id\":\"4ce72484-eec4-4665-a84d-3f06e3269965\",\"subtype\":\"Figure\",\"type\":\"Plot\"},{\"attributes\":{\"formatter\":{\"id\":\"4dbbf209-f798-4104-a56e-ec0a4286a8c3\",\"type\":\"BasicTickFormatter\"},\"plot\":{\"id\":\"4ce72484-eec4-4665-a84d-3f06e3269965\",\"subtype\":\"Figure\",\"type\":\"Plot\"},\"ticker\":{\"id\":\"51ca2d35-4f7f-4d4e-891a-0cdf670e9d80\",\"type\":\"BasicTicker\"}},\"id\":\"a68ed984-7d7b-49a8-b971-4ee6eed53e31\",\"type\":\"LinearAxis\"},{\"attributes\":{},\"id\":\"4dbbf209-f798-4104-a56e-ec0a4286a8c3\",\"type\":\"BasicTickFormatter\"},{\"attributes\":{\"callback\":null},\"id\":\"e0fcaafb-65c9-4047-9b19-3415cb61c4fc\",\"type\":\"DataRange1d\"},{\"attributes\":{\"data_source\":{\"id\":\"2bbc9aff-0deb-4e90-8f80-f6ac54166147\",\"type\":\"ColumnDataSource\"},\"glyph\":{\"id\":\"15d23bdc-f391-454d-b885-032672a6b7b3\",\"type\":\"Line\"},\"hover_glyph\":null,\"muted_glyph\":null,\"nonselection_glyph\":{\"id\":\"07738fa6-783e-42dd-a64e-da8dad5da2ed\",\"type\":\"Line\"},\"selection_glyph\":null,\"view\":{\"id\":\"5ecda393-2a62-48ad-a315-9143a2933dca\",\"type\":\"CDSView\"}},\"id\":\"40aa1eab-4446-44eb-a5a3-94b86abe4749\",\"type\":\"GlyphRenderer\"},{\"attributes\":{\"callback\":null,\"data\":{\"x\":[1,2,3,4,5],\"y\":[6,7,2,4,5]},\"selected\":{\"id\":\"56c8961a-0b3a-45b3-9d55-eb86cbe5b4b8\",\"type\":\"Selection\"},\"selection_policy\":{\"id\":\"680deb3c-5d1b-49c3-aa0c-eb783a6b394f\",\"type\":\"UnionRenderers\"}},\"id\":\"2bbc9aff-0deb-4e90-8f80-f6ac54166147\",\"type\":\"ColumnDataSource\"},{\"attributes\":{},\"id\":\"3846b523-7bbe-4277-ae2b-ec798e2afc0e\",\"type\":\"HelpTool\"},{\"attributes\":{\"source\":{\"id\":\"2bbc9aff-0deb-4e90-8f80-f6ac54166147\",\"type\":\"ColumnDataSource\"}},\"id\":\"5ecda393-2a62-48ad-a315-9143a2933dca\",\"type\":\"CDSView\"}],\"root_ids\":[\"4ce72484-eec4-4665-a84d-3f06e3269965\"]},\"title\":\"Bokeh Application\",\"version\":\"0.13.0\"}};\n",
       "  var render_items = [{\"docid\":\"b045264c-a9c3-429b-9692-2a2c58eb3489\",\"roots\":{\"4ce72484-eec4-4665-a84d-3f06e3269965\":\"3d3504ab-a5d4-47be-913b-be1b8cbf59eb\"}}];\n",
       "  root.Bokeh.embed.embed_items_notebook(docs_json, render_items);\n",
       "\n",
       "  }\n",
       "  if (root.Bokeh !== undefined) {\n",
       "    embed_document(root);\n",
       "  } else {\n",
       "    var attempts = 0;\n",
       "    var timer = setInterval(function(root) {\n",
       "      if (root.Bokeh !== undefined) {\n",
       "        embed_document(root);\n",
       "        clearInterval(timer);\n",
       "      }\n",
       "      attempts++;\n",
       "      if (attempts > 100) {\n",
       "        console.log(\"Bokeh: ERROR: Unable to run BokehJS code because BokehJS library is missing\")\n",
       "        clearInterval(timer);\n",
       "      }\n",
       "    }, 10, root)\n",
       "  }\n",
       "})(window);"
      ],
      "application/vnd.bokehjs_exec.v0+json": ""
     },
     "metadata": {
      "application/vnd.bokehjs_exec.v0+json": {
       "id": "4ce72484-eec4-4665-a84d-3f06e3269965"
      }
     },
     "output_type": "display_data"
    }
   ],
   "source": [
    "from bokeh.plotting import figure\n",
    "\n",
    "# create a new plot (with a title) using figure\n",
    "p = figure(plot_width=400, plot_height=400, title=\"My Line Plot\")\n",
    "\n",
    "# add a line renderer\n",
    "p.line([1, 2, 3, 4, 5], [6, 7, 2, 4, 5], line_width=2)\n",
    "\n",
    "show(p) # show the results"
   ]
  },
  {
   "cell_type": "markdown",
   "metadata": {},
   "source": [
    "Let's try that again, but instead let's output this to a file:"
   ]
  },
  {
   "cell_type": "code",
   "execution_count": 238,
   "metadata": {},
   "outputs": [
    {
     "data": {
      "text/html": [
       "\n",
       "\n",
       "\n",
       "\n",
       "\n",
       "\n",
       "  <div class=\"bk-root\" id=\"d7867529-09ea-4237-b8a9-7225b06b0954\"></div>\n"
      ]
     },
     "metadata": {},
     "output_type": "display_data"
    },
    {
     "data": {
      "application/javascript": [
       "(function(root) {\n",
       "  function embed_document(root) {\n",
       "    \n",
       "  var docs_json = {\"6f7a8df8-3859-4afb-a160-c24b21a0dd94\":{\"roots\":{\"references\":[{\"attributes\":{},\"id\":\"d1b9ab66-c915-48f6-9c8b-e381298cb984\",\"type\":\"HelpTool\"},{\"attributes\":{},\"id\":\"bedf968b-add9-451a-81a0-7177b0e6958e\",\"type\":\"BasicTicker\"},{\"attributes\":{},\"id\":\"077847a6-1a61-4cb0-86a8-2bf6d540bba3\",\"type\":\"LinearScale\"},{\"attributes\":{},\"id\":\"91a625c5-0d31-454a-8f2d-0465ea061771\",\"type\":\"ResetTool\"},{\"attributes\":{\"bottom_units\":\"screen\",\"fill_alpha\":{\"value\":0.5},\"fill_color\":{\"value\":\"lightgrey\"},\"left_units\":\"screen\",\"level\":\"overlay\",\"line_alpha\":{\"value\":1.0},\"line_color\":{\"value\":\"black\"},\"line_dash\":[4,4],\"line_width\":{\"value\":2},\"plot\":null,\"render_mode\":\"css\",\"right_units\":\"screen\",\"top_units\":\"screen\"},\"id\":\"ae4e4014-b155-4821-8d9e-e8a63693839b\",\"type\":\"BoxAnnotation\"},{\"attributes\":{\"plot\":null,\"text\":\"My Line Plot 1\"},\"id\":\"a1716ca4-fc4d-460d-be05-31510a241364\",\"type\":\"Title\"},{\"attributes\":{},\"id\":\"b96a444d-f0a4-4c2e-964b-c14217192d38\",\"type\":\"Selection\"},{\"attributes\":{\"overlay\":{\"id\":\"ae4e4014-b155-4821-8d9e-e8a63693839b\",\"type\":\"BoxAnnotation\"}},\"id\":\"e5efc594-88a8-4755-8a7d-0c0bac15edfc\",\"type\":\"BoxZoomTool\"},{\"attributes\":{\"callback\":null,\"data\":{\"x\":[1,2,3,4,5],\"y\":[6,7,2,4,5]},\"selected\":{\"id\":\"b96a444d-f0a4-4c2e-964b-c14217192d38\",\"type\":\"Selection\"},\"selection_policy\":{\"id\":\"7d05f109-1989-4d39-be63-4312ac03b1b6\",\"type\":\"UnionRenderers\"}},\"id\":\"a39ae3c4-cb51-49b7-b796-335473646640\",\"type\":\"ColumnDataSource\"},{\"attributes\":{},\"id\":\"f933a869-d710-4419-b20e-1774e0d8dcf1\",\"type\":\"SaveTool\"},{\"attributes\":{\"line_color\":\"#1f77b4\",\"line_width\":2,\"x\":{\"field\":\"x\"},\"y\":{\"field\":\"y\"}},\"id\":\"d934b0d2-565a-4258-a8ca-8803af38a7f9\",\"type\":\"Line\"},{\"attributes\":{\"source\":{\"id\":\"a39ae3c4-cb51-49b7-b796-335473646640\",\"type\":\"ColumnDataSource\"}},\"id\":\"60e8e447-d9f5-4cc6-a8dd-3cf2630931df\",\"type\":\"CDSView\"},{\"attributes\":{},\"id\":\"3746bc0a-eda3-4bf8-8bce-f3faaf1ed236\",\"type\":\"BasicTicker\"},{\"attributes\":{\"callback\":null},\"id\":\"a12f3e49-450e-4a73-9617-88f7b8925aea\",\"type\":\"DataRange1d\"},{\"attributes\":{},\"id\":\"7d05f109-1989-4d39-be63-4312ac03b1b6\",\"type\":\"UnionRenderers\"},{\"attributes\":{},\"id\":\"2ab351fd-f62a-4d3f-8c25-6e3661fa739c\",\"type\":\"LinearScale\"},{\"attributes\":{},\"id\":\"cd3c4447-c9f1-456e-bc66-35a2c04820fd\",\"type\":\"BasicTickFormatter\"},{\"attributes\":{},\"id\":\"fda3c0a2-f348-4ed3-8e6b-bc0e0411b355\",\"type\":\"BasicTickFormatter\"},{\"attributes\":{\"formatter\":{\"id\":\"fda3c0a2-f348-4ed3-8e6b-bc0e0411b355\",\"type\":\"BasicTickFormatter\"},\"plot\":{\"id\":\"e2620bb0-a2ea-42ed-af2c-a8ca077e8b41\",\"subtype\":\"Figure\",\"type\":\"Plot\"},\"ticker\":{\"id\":\"3746bc0a-eda3-4bf8-8bce-f3faaf1ed236\",\"type\":\"BasicTicker\"}},\"id\":\"1a3479dd-c811-4fe9-9e2b-ec124b18de33\",\"type\":\"LinearAxis\"},{\"attributes\":{\"line_alpha\":0.1,\"line_color\":\"#1f77b4\",\"line_width\":2,\"x\":{\"field\":\"x\"},\"y\":{\"field\":\"y\"}},\"id\":\"6c9c373c-4924-40db-a943-0b80172c8f84\",\"type\":\"Line\"},{\"attributes\":{\"formatter\":{\"id\":\"cd3c4447-c9f1-456e-bc66-35a2c04820fd\",\"type\":\"BasicTickFormatter\"},\"plot\":{\"id\":\"e2620bb0-a2ea-42ed-af2c-a8ca077e8b41\",\"subtype\":\"Figure\",\"type\":\"Plot\"},\"ticker\":{\"id\":\"bedf968b-add9-451a-81a0-7177b0e6958e\",\"type\":\"BasicTicker\"}},\"id\":\"22106579-f9c1-4f2b-95ea-4f7bbb476416\",\"type\":\"LinearAxis\"},{\"attributes\":{\"callback\":null},\"id\":\"07055964-212b-4ca9-844d-c5e764d65dbc\",\"type\":\"DataRange1d\"},{\"attributes\":{\"dimension\":1,\"plot\":{\"id\":\"e2620bb0-a2ea-42ed-af2c-a8ca077e8b41\",\"subtype\":\"Figure\",\"type\":\"Plot\"},\"ticker\":{\"id\":\"3746bc0a-eda3-4bf8-8bce-f3faaf1ed236\",\"type\":\"BasicTicker\"}},\"id\":\"ba1efaa9-344e-46fe-9e92-b6d1309272fd\",\"type\":\"Grid\"},{\"attributes\":{\"active_drag\":\"auto\",\"active_inspect\":\"auto\",\"active_multi\":null,\"active_scroll\":\"auto\",\"active_tap\":\"auto\",\"tools\":[{\"id\":\"50ed9318-8ae5-4936-aa56-fbc4da5f42fc\",\"type\":\"PanTool\"},{\"id\":\"8299bb39-1663-49d3-ac43-274efae04b23\",\"type\":\"WheelZoomTool\"},{\"id\":\"e5efc594-88a8-4755-8a7d-0c0bac15edfc\",\"type\":\"BoxZoomTool\"},{\"id\":\"f933a869-d710-4419-b20e-1774e0d8dcf1\",\"type\":\"SaveTool\"},{\"id\":\"91a625c5-0d31-454a-8f2d-0465ea061771\",\"type\":\"ResetTool\"},{\"id\":\"d1b9ab66-c915-48f6-9c8b-e381298cb984\",\"type\":\"HelpTool\"}]},\"id\":\"6a6e3fd0-ec19-4249-8bfc-4f0b50bc3190\",\"type\":\"Toolbar\"},{\"attributes\":{\"plot\":{\"id\":\"e2620bb0-a2ea-42ed-af2c-a8ca077e8b41\",\"subtype\":\"Figure\",\"type\":\"Plot\"},\"ticker\":{\"id\":\"bedf968b-add9-451a-81a0-7177b0e6958e\",\"type\":\"BasicTicker\"}},\"id\":\"97face4d-31f2-485f-8921-f9fe5e4c9ee7\",\"type\":\"Grid\"},{\"attributes\":{},\"id\":\"50ed9318-8ae5-4936-aa56-fbc4da5f42fc\",\"type\":\"PanTool\"},{\"attributes\":{\"below\":[{\"id\":\"22106579-f9c1-4f2b-95ea-4f7bbb476416\",\"type\":\"LinearAxis\"}],\"left\":[{\"id\":\"1a3479dd-c811-4fe9-9e2b-ec124b18de33\",\"type\":\"LinearAxis\"}],\"plot_height\":400,\"plot_width\":400,\"renderers\":[{\"id\":\"22106579-f9c1-4f2b-95ea-4f7bbb476416\",\"type\":\"LinearAxis\"},{\"id\":\"97face4d-31f2-485f-8921-f9fe5e4c9ee7\",\"type\":\"Grid\"},{\"id\":\"1a3479dd-c811-4fe9-9e2b-ec124b18de33\",\"type\":\"LinearAxis\"},{\"id\":\"ba1efaa9-344e-46fe-9e92-b6d1309272fd\",\"type\":\"Grid\"},{\"id\":\"ae4e4014-b155-4821-8d9e-e8a63693839b\",\"type\":\"BoxAnnotation\"},{\"id\":\"443deab2-f75e-41f9-b013-414228e4ca52\",\"type\":\"GlyphRenderer\"}],\"title\":{\"id\":\"a1716ca4-fc4d-460d-be05-31510a241364\",\"type\":\"Title\"},\"toolbar\":{\"id\":\"6a6e3fd0-ec19-4249-8bfc-4f0b50bc3190\",\"type\":\"Toolbar\"},\"x_range\":{\"id\":\"07055964-212b-4ca9-844d-c5e764d65dbc\",\"type\":\"DataRange1d\"},\"x_scale\":{\"id\":\"077847a6-1a61-4cb0-86a8-2bf6d540bba3\",\"type\":\"LinearScale\"},\"y_range\":{\"id\":\"a12f3e49-450e-4a73-9617-88f7b8925aea\",\"type\":\"DataRange1d\"},\"y_scale\":{\"id\":\"2ab351fd-f62a-4d3f-8c25-6e3661fa739c\",\"type\":\"LinearScale\"}},\"id\":\"e2620bb0-a2ea-42ed-af2c-a8ca077e8b41\",\"subtype\":\"Figure\",\"type\":\"Plot\"},{\"attributes\":{\"data_source\":{\"id\":\"a39ae3c4-cb51-49b7-b796-335473646640\",\"type\":\"ColumnDataSource\"},\"glyph\":{\"id\":\"d934b0d2-565a-4258-a8ca-8803af38a7f9\",\"type\":\"Line\"},\"hover_glyph\":null,\"muted_glyph\":null,\"nonselection_glyph\":{\"id\":\"6c9c373c-4924-40db-a943-0b80172c8f84\",\"type\":\"Line\"},\"selection_glyph\":null,\"view\":{\"id\":\"60e8e447-d9f5-4cc6-a8dd-3cf2630931df\",\"type\":\"CDSView\"}},\"id\":\"443deab2-f75e-41f9-b013-414228e4ca52\",\"type\":\"GlyphRenderer\"},{\"attributes\":{},\"id\":\"8299bb39-1663-49d3-ac43-274efae04b23\",\"type\":\"WheelZoomTool\"}],\"root_ids\":[\"e2620bb0-a2ea-42ed-af2c-a8ca077e8b41\"]},\"title\":\"Bokeh Application\",\"version\":\"0.13.0\"}};\n",
       "  var render_items = [{\"docid\":\"6f7a8df8-3859-4afb-a160-c24b21a0dd94\",\"roots\":{\"e2620bb0-a2ea-42ed-af2c-a8ca077e8b41\":\"d7867529-09ea-4237-b8a9-7225b06b0954\"}}];\n",
       "  root.Bokeh.embed.embed_items_notebook(docs_json, render_items);\n",
       "\n",
       "  }\n",
       "  if (root.Bokeh !== undefined) {\n",
       "    embed_document(root);\n",
       "  } else {\n",
       "    var attempts = 0;\n",
       "    var timer = setInterval(function(root) {\n",
       "      if (root.Bokeh !== undefined) {\n",
       "        embed_document(root);\n",
       "        clearInterval(timer);\n",
       "      }\n",
       "      attempts++;\n",
       "      if (attempts > 100) {\n",
       "        console.log(\"Bokeh: ERROR: Unable to run BokehJS code because BokehJS library is missing\")\n",
       "        clearInterval(timer);\n",
       "      }\n",
       "    }, 10, root)\n",
       "  }\n",
       "})(window);"
      ],
      "application/vnd.bokehjs_exec.v0+json": ""
     },
     "metadata": {
      "application/vnd.bokehjs_exec.v0+json": {
       "id": "e2620bb0-a2ea-42ed-af2c-a8ca077e8b41"
      }
     },
     "output_type": "display_data"
    }
   ],
   "source": [
    "# create a new plot (with a title) using figure\n",
    "from bokeh.io import output_file\n",
    "output_file(\"example1.html\")\n",
    "\n",
    "p = figure(plot_width=400, plot_height=400, title=\"My Line Plot 1\")\n",
    "\n",
    "# add a line renderer\n",
    "p.line([1, 2, 3, 4, 5], [6, 7, 2, 4, 5], line_width=2)\n",
    "\n",
    "show(p) # show the results"
   ]
  },
  {
   "cell_type": "markdown",
   "metadata": {},
   "source": [
    "In the case of a bokeh plot, there wasn't any change in the data. That would require a way for the page to talk to a server that feeds it new data. Below is a simple example that shows this behavior. It uses the notion of a ```callback()``` which is a function that is called whenever there is a change in the front end. It simply listens for that change andd then renders a new graph with the appropriate changes. Below is justa  copy and paste from the bokeh tutorial: **(begin tutorial)**"
   ]
  },
  {
   "cell_type": "markdown",
   "metadata": {},
   "source": [
    "## Embedding a Bokeh server in a Notebook\n",
    "\n",
    "This notebook shows how a Bokeh server application can be embedded inside a Jupyter notebook. See: https://github.com/bokeh/bokeh/blob/1.0.0/examples/howto/server_embed/notebook_embed.ipynb for source code. "
   ]
  },
  {
   "cell_type": "code",
   "execution_count": 239,
   "metadata": {},
   "outputs": [
    {
     "data": {
      "text/html": [
       "\n",
       "    <div class=\"bk-root\">\n",
       "        <a href=\"https://bokeh.pydata.org\" target=\"_blank\" class=\"bk-logo bk-logo-small bk-logo-notebook\"></a>\n",
       "        <span id=\"6b23a70e-e011-41f3-ba16-7aaa31820722\">Loading BokehJS ...</span>\n",
       "    </div>"
      ]
     },
     "metadata": {},
     "output_type": "display_data"
    },
    {
     "data": {
      "application/javascript": [
       "\n",
       "(function(root) {\n",
       "  function now() {\n",
       "    return new Date();\n",
       "  }\n",
       "\n",
       "  var force = true;\n",
       "\n",
       "  if (typeof (root._bokeh_onload_callbacks) === \"undefined\" || force === true) {\n",
       "    root._bokeh_onload_callbacks = [];\n",
       "    root._bokeh_is_loading = undefined;\n",
       "  }\n",
       "\n",
       "  var JS_MIME_TYPE = 'application/javascript';\n",
       "  var HTML_MIME_TYPE = 'text/html';\n",
       "  var EXEC_MIME_TYPE = 'application/vnd.bokehjs_exec.v0+json';\n",
       "  var CLASS_NAME = 'output_bokeh rendered_html';\n",
       "\n",
       "  /**\n",
       "   * Render data to the DOM node\n",
       "   */\n",
       "  function render(props, node) {\n",
       "    var script = document.createElement(\"script\");\n",
       "    node.appendChild(script);\n",
       "  }\n",
       "\n",
       "  /**\n",
       "   * Handle when an output is cleared or removed\n",
       "   */\n",
       "  function handleClearOutput(event, handle) {\n",
       "    var cell = handle.cell;\n",
       "\n",
       "    var id = cell.output_area._bokeh_element_id;\n",
       "    var server_id = cell.output_area._bokeh_server_id;\n",
       "    // Clean up Bokeh references\n",
       "    if (id != null && id in Bokeh.index) {\n",
       "      Bokeh.index[id].model.document.clear();\n",
       "      delete Bokeh.index[id];\n",
       "    }\n",
       "\n",
       "    if (server_id !== undefined) {\n",
       "      // Clean up Bokeh references\n",
       "      var cmd = \"from bokeh.io.state import curstate; print(curstate().uuid_to_server['\" + server_id + \"'].get_sessions()[0].document.roots[0]._id)\";\n",
       "      cell.notebook.kernel.execute(cmd, {\n",
       "        iopub: {\n",
       "          output: function(msg) {\n",
       "            var id = msg.content.text.trim();\n",
       "            if (id in Bokeh.index) {\n",
       "              Bokeh.index[id].model.document.clear();\n",
       "              delete Bokeh.index[id];\n",
       "            }\n",
       "          }\n",
       "        }\n",
       "      });\n",
       "      // Destroy server and session\n",
       "      var cmd = \"import bokeh.io.notebook as ion; ion.destroy_server('\" + server_id + \"')\";\n",
       "      cell.notebook.kernel.execute(cmd);\n",
       "    }\n",
       "  }\n",
       "\n",
       "  /**\n",
       "   * Handle when a new output is added\n",
       "   */\n",
       "  function handleAddOutput(event, handle) {\n",
       "    var output_area = handle.output_area;\n",
       "    var output = handle.output;\n",
       "\n",
       "    // limit handleAddOutput to display_data with EXEC_MIME_TYPE content only\n",
       "    if ((output.output_type != \"display_data\") || (!output.data.hasOwnProperty(EXEC_MIME_TYPE))) {\n",
       "      return\n",
       "    }\n",
       "\n",
       "    var toinsert = output_area.element.find(\".\" + CLASS_NAME.split(' ')[0]);\n",
       "\n",
       "    if (output.metadata[EXEC_MIME_TYPE][\"id\"] !== undefined) {\n",
       "      toinsert[toinsert.length - 1].firstChild.textContent = output.data[JS_MIME_TYPE];\n",
       "      // store reference to embed id on output_area\n",
       "      output_area._bokeh_element_id = output.metadata[EXEC_MIME_TYPE][\"id\"];\n",
       "    }\n",
       "    if (output.metadata[EXEC_MIME_TYPE][\"server_id\"] !== undefined) {\n",
       "      var bk_div = document.createElement(\"div\");\n",
       "      bk_div.innerHTML = output.data[HTML_MIME_TYPE];\n",
       "      var script_attrs = bk_div.children[0].attributes;\n",
       "      for (var i = 0; i < script_attrs.length; i++) {\n",
       "        toinsert[toinsert.length - 1].firstChild.setAttribute(script_attrs[i].name, script_attrs[i].value);\n",
       "      }\n",
       "      // store reference to server id on output_area\n",
       "      output_area._bokeh_server_id = output.metadata[EXEC_MIME_TYPE][\"server_id\"];\n",
       "    }\n",
       "  }\n",
       "\n",
       "  function register_renderer(events, OutputArea) {\n",
       "\n",
       "    function append_mime(data, metadata, element) {\n",
       "      // create a DOM node to render to\n",
       "      var toinsert = this.create_output_subarea(\n",
       "        metadata,\n",
       "        CLASS_NAME,\n",
       "        EXEC_MIME_TYPE\n",
       "      );\n",
       "      this.keyboard_manager.register_events(toinsert);\n",
       "      // Render to node\n",
       "      var props = {data: data, metadata: metadata[EXEC_MIME_TYPE]};\n",
       "      render(props, toinsert[toinsert.length - 1]);\n",
       "      element.append(toinsert);\n",
       "      return toinsert\n",
       "    }\n",
       "\n",
       "    /* Handle when an output is cleared or removed */\n",
       "    events.on('clear_output.CodeCell', handleClearOutput);\n",
       "    events.on('delete.Cell', handleClearOutput);\n",
       "\n",
       "    /* Handle when a new output is added */\n",
       "    events.on('output_added.OutputArea', handleAddOutput);\n",
       "\n",
       "    /**\n",
       "     * Register the mime type and append_mime function with output_area\n",
       "     */\n",
       "    OutputArea.prototype.register_mime_type(EXEC_MIME_TYPE, append_mime, {\n",
       "      /* Is output safe? */\n",
       "      safe: true,\n",
       "      /* Index of renderer in `output_area.display_order` */\n",
       "      index: 0\n",
       "    });\n",
       "  }\n",
       "\n",
       "  // register the mime type if in Jupyter Notebook environment and previously unregistered\n",
       "  if (root.Jupyter !== undefined) {\n",
       "    var events = require('base/js/events');\n",
       "    var OutputArea = require('notebook/js/outputarea').OutputArea;\n",
       "\n",
       "    if (OutputArea.prototype.mime_types().indexOf(EXEC_MIME_TYPE) == -1) {\n",
       "      register_renderer(events, OutputArea);\n",
       "    }\n",
       "  }\n",
       "\n",
       "  \n",
       "  if (typeof (root._bokeh_timeout) === \"undefined\" || force === true) {\n",
       "    root._bokeh_timeout = Date.now() + 5000;\n",
       "    root._bokeh_failed_load = false;\n",
       "  }\n",
       "\n",
       "  var NB_LOAD_WARNING = {'data': {'text/html':\n",
       "     \"<div style='background-color: #fdd'>\\n\"+\n",
       "     \"<p>\\n\"+\n",
       "     \"BokehJS does not appear to have successfully loaded. If loading BokehJS from CDN, this \\n\"+\n",
       "     \"may be due to a slow or bad network connection. Possible fixes:\\n\"+\n",
       "     \"</p>\\n\"+\n",
       "     \"<ul>\\n\"+\n",
       "     \"<li>re-rerun `output_notebook()` to attempt to load from CDN again, or</li>\\n\"+\n",
       "     \"<li>use INLINE resources instead, as so:</li>\\n\"+\n",
       "     \"</ul>\\n\"+\n",
       "     \"<code>\\n\"+\n",
       "     \"from bokeh.resources import INLINE\\n\"+\n",
       "     \"output_notebook(resources=INLINE)\\n\"+\n",
       "     \"</code>\\n\"+\n",
       "     \"</div>\"}};\n",
       "\n",
       "  function display_loaded() {\n",
       "    var el = document.getElementById(\"6b23a70e-e011-41f3-ba16-7aaa31820722\");\n",
       "    if (el != null) {\n",
       "      el.textContent = \"BokehJS is loading...\";\n",
       "    }\n",
       "    if (root.Bokeh !== undefined) {\n",
       "      if (el != null) {\n",
       "        el.textContent = \"BokehJS \" + root.Bokeh.version + \" successfully loaded.\";\n",
       "      }\n",
       "    } else if (Date.now() < root._bokeh_timeout) {\n",
       "      setTimeout(display_loaded, 100)\n",
       "    }\n",
       "  }\n",
       "\n",
       "\n",
       "  function run_callbacks() {\n",
       "    try {\n",
       "      root._bokeh_onload_callbacks.forEach(function(callback) { callback() });\n",
       "    }\n",
       "    finally {\n",
       "      delete root._bokeh_onload_callbacks\n",
       "    }\n",
       "    console.info(\"Bokeh: all callbacks have finished\");\n",
       "  }\n",
       "\n",
       "  function load_libs(js_urls, callback) {\n",
       "    root._bokeh_onload_callbacks.push(callback);\n",
       "    if (root._bokeh_is_loading > 0) {\n",
       "      console.log(\"Bokeh: BokehJS is being loaded, scheduling callback at\", now());\n",
       "      return null;\n",
       "    }\n",
       "    if (js_urls == null || js_urls.length === 0) {\n",
       "      run_callbacks();\n",
       "      return null;\n",
       "    }\n",
       "    console.log(\"Bokeh: BokehJS not loaded, scheduling load and callback at\", now());\n",
       "    root._bokeh_is_loading = js_urls.length;\n",
       "    for (var i = 0; i < js_urls.length; i++) {\n",
       "      var url = js_urls[i];\n",
       "      var s = document.createElement('script');\n",
       "      s.src = url;\n",
       "      s.async = false;\n",
       "      s.onreadystatechange = s.onload = function() {\n",
       "        root._bokeh_is_loading--;\n",
       "        if (root._bokeh_is_loading === 0) {\n",
       "          console.log(\"Bokeh: all BokehJS libraries loaded\");\n",
       "          run_callbacks()\n",
       "        }\n",
       "      };\n",
       "      s.onerror = function() {\n",
       "        console.warn(\"failed to load library \" + url);\n",
       "      };\n",
       "      console.log(\"Bokeh: injecting script tag for BokehJS library: \", url);\n",
       "      document.getElementsByTagName(\"head\")[0].appendChild(s);\n",
       "    }\n",
       "  };var element = document.getElementById(\"6b23a70e-e011-41f3-ba16-7aaa31820722\");\n",
       "  if (element == null) {\n",
       "    console.log(\"Bokeh: ERROR: autoload.js configured with elementid '6b23a70e-e011-41f3-ba16-7aaa31820722' but no matching script tag was found. \")\n",
       "    return false;\n",
       "  }\n",
       "\n",
       "  var js_urls = [\"https://cdn.pydata.org/bokeh/release/bokeh-0.13.0.min.js\", \"https://cdn.pydata.org/bokeh/release/bokeh-widgets-0.13.0.min.js\", \"https://cdn.pydata.org/bokeh/release/bokeh-tables-0.13.0.min.js\", \"https://cdn.pydata.org/bokeh/release/bokeh-gl-0.13.0.min.js\"];\n",
       "\n",
       "  var inline_js = [\n",
       "    function(Bokeh) {\n",
       "      Bokeh.set_log_level(\"info\");\n",
       "    },\n",
       "    \n",
       "    function(Bokeh) {\n",
       "      \n",
       "    },\n",
       "    function(Bokeh) {\n",
       "      console.log(\"Bokeh: injecting CSS: https://cdn.pydata.org/bokeh/release/bokeh-0.13.0.min.css\");\n",
       "      Bokeh.embed.inject_css(\"https://cdn.pydata.org/bokeh/release/bokeh-0.13.0.min.css\");\n",
       "      console.log(\"Bokeh: injecting CSS: https://cdn.pydata.org/bokeh/release/bokeh-widgets-0.13.0.min.css\");\n",
       "      Bokeh.embed.inject_css(\"https://cdn.pydata.org/bokeh/release/bokeh-widgets-0.13.0.min.css\");\n",
       "      console.log(\"Bokeh: injecting CSS: https://cdn.pydata.org/bokeh/release/bokeh-tables-0.13.0.min.css\");\n",
       "      Bokeh.embed.inject_css(\"https://cdn.pydata.org/bokeh/release/bokeh-tables-0.13.0.min.css\");\n",
       "    }\n",
       "  ];\n",
       "\n",
       "  function run_inline_js() {\n",
       "    \n",
       "    if ((root.Bokeh !== undefined) || (force === true)) {\n",
       "      for (var i = 0; i < inline_js.length; i++) {\n",
       "        inline_js[i].call(root, root.Bokeh);\n",
       "      }if (force === true) {\n",
       "        display_loaded();\n",
       "      }} else if (Date.now() < root._bokeh_timeout) {\n",
       "      setTimeout(run_inline_js, 100);\n",
       "    } else if (!root._bokeh_failed_load) {\n",
       "      console.log(\"Bokeh: BokehJS failed to load within specified timeout.\");\n",
       "      root._bokeh_failed_load = true;\n",
       "    } else if (force !== true) {\n",
       "      var cell = $(document.getElementById(\"6b23a70e-e011-41f3-ba16-7aaa31820722\")).parents('.cell').data().cell;\n",
       "      cell.output_area.append_execute_result(NB_LOAD_WARNING)\n",
       "    }\n",
       "\n",
       "  }\n",
       "\n",
       "  if (root._bokeh_is_loading === 0) {\n",
       "    console.log(\"Bokeh: BokehJS loaded, going straight to plotting\");\n",
       "    run_inline_js();\n",
       "  } else {\n",
       "    load_libs(js_urls, function() {\n",
       "      console.log(\"Bokeh: BokehJS plotting callback run at\", now());\n",
       "      run_inline_js();\n",
       "    });\n",
       "  }\n",
       "}(window));"
      ],
      "application/vnd.bokehjs_load.v0+json": "\n(function(root) {\n  function now() {\n    return new Date();\n  }\n\n  var force = true;\n\n  if (typeof (root._bokeh_onload_callbacks) === \"undefined\" || force === true) {\n    root._bokeh_onload_callbacks = [];\n    root._bokeh_is_loading = undefined;\n  }\n\n  \n\n  \n  if (typeof (root._bokeh_timeout) === \"undefined\" || force === true) {\n    root._bokeh_timeout = Date.now() + 5000;\n    root._bokeh_failed_load = false;\n  }\n\n  var NB_LOAD_WARNING = {'data': {'text/html':\n     \"<div style='background-color: #fdd'>\\n\"+\n     \"<p>\\n\"+\n     \"BokehJS does not appear to have successfully loaded. If loading BokehJS from CDN, this \\n\"+\n     \"may be due to a slow or bad network connection. Possible fixes:\\n\"+\n     \"</p>\\n\"+\n     \"<ul>\\n\"+\n     \"<li>re-rerun `output_notebook()` to attempt to load from CDN again, or</li>\\n\"+\n     \"<li>use INLINE resources instead, as so:</li>\\n\"+\n     \"</ul>\\n\"+\n     \"<code>\\n\"+\n     \"from bokeh.resources import INLINE\\n\"+\n     \"output_notebook(resources=INLINE)\\n\"+\n     \"</code>\\n\"+\n     \"</div>\"}};\n\n  function display_loaded() {\n    var el = document.getElementById(\"6b23a70e-e011-41f3-ba16-7aaa31820722\");\n    if (el != null) {\n      el.textContent = \"BokehJS is loading...\";\n    }\n    if (root.Bokeh !== undefined) {\n      if (el != null) {\n        el.textContent = \"BokehJS \" + root.Bokeh.version + \" successfully loaded.\";\n      }\n    } else if (Date.now() < root._bokeh_timeout) {\n      setTimeout(display_loaded, 100)\n    }\n  }\n\n\n  function run_callbacks() {\n    try {\n      root._bokeh_onload_callbacks.forEach(function(callback) { callback() });\n    }\n    finally {\n      delete root._bokeh_onload_callbacks\n    }\n    console.info(\"Bokeh: all callbacks have finished\");\n  }\n\n  function load_libs(js_urls, callback) {\n    root._bokeh_onload_callbacks.push(callback);\n    if (root._bokeh_is_loading > 0) {\n      console.log(\"Bokeh: BokehJS is being loaded, scheduling callback at\", now());\n      return null;\n    }\n    if (js_urls == null || js_urls.length === 0) {\n      run_callbacks();\n      return null;\n    }\n    console.log(\"Bokeh: BokehJS not loaded, scheduling load and callback at\", now());\n    root._bokeh_is_loading = js_urls.length;\n    for (var i = 0; i < js_urls.length; i++) {\n      var url = js_urls[i];\n      var s = document.createElement('script');\n      s.src = url;\n      s.async = false;\n      s.onreadystatechange = s.onload = function() {\n        root._bokeh_is_loading--;\n        if (root._bokeh_is_loading === 0) {\n          console.log(\"Bokeh: all BokehJS libraries loaded\");\n          run_callbacks()\n        }\n      };\n      s.onerror = function() {\n        console.warn(\"failed to load library \" + url);\n      };\n      console.log(\"Bokeh: injecting script tag for BokehJS library: \", url);\n      document.getElementsByTagName(\"head\")[0].appendChild(s);\n    }\n  };var element = document.getElementById(\"6b23a70e-e011-41f3-ba16-7aaa31820722\");\n  if (element == null) {\n    console.log(\"Bokeh: ERROR: autoload.js configured with elementid '6b23a70e-e011-41f3-ba16-7aaa31820722' but no matching script tag was found. \")\n    return false;\n  }\n\n  var js_urls = [\"https://cdn.pydata.org/bokeh/release/bokeh-0.13.0.min.js\", \"https://cdn.pydata.org/bokeh/release/bokeh-widgets-0.13.0.min.js\", \"https://cdn.pydata.org/bokeh/release/bokeh-tables-0.13.0.min.js\", \"https://cdn.pydata.org/bokeh/release/bokeh-gl-0.13.0.min.js\"];\n\n  var inline_js = [\n    function(Bokeh) {\n      Bokeh.set_log_level(\"info\");\n    },\n    \n    function(Bokeh) {\n      \n    },\n    function(Bokeh) {\n      console.log(\"Bokeh: injecting CSS: https://cdn.pydata.org/bokeh/release/bokeh-0.13.0.min.css\");\n      Bokeh.embed.inject_css(\"https://cdn.pydata.org/bokeh/release/bokeh-0.13.0.min.css\");\n      console.log(\"Bokeh: injecting CSS: https://cdn.pydata.org/bokeh/release/bokeh-widgets-0.13.0.min.css\");\n      Bokeh.embed.inject_css(\"https://cdn.pydata.org/bokeh/release/bokeh-widgets-0.13.0.min.css\");\n      console.log(\"Bokeh: injecting CSS: https://cdn.pydata.org/bokeh/release/bokeh-tables-0.13.0.min.css\");\n      Bokeh.embed.inject_css(\"https://cdn.pydata.org/bokeh/release/bokeh-tables-0.13.0.min.css\");\n    }\n  ];\n\n  function run_inline_js() {\n    \n    if ((root.Bokeh !== undefined) || (force === true)) {\n      for (var i = 0; i < inline_js.length; i++) {\n        inline_js[i].call(root, root.Bokeh);\n      }if (force === true) {\n        display_loaded();\n      }} else if (Date.now() < root._bokeh_timeout) {\n      setTimeout(run_inline_js, 100);\n    } else if (!root._bokeh_failed_load) {\n      console.log(\"Bokeh: BokehJS failed to load within specified timeout.\");\n      root._bokeh_failed_load = true;\n    } else if (force !== true) {\n      var cell = $(document.getElementById(\"6b23a70e-e011-41f3-ba16-7aaa31820722\")).parents('.cell').data().cell;\n      cell.output_area.append_execute_result(NB_LOAD_WARNING)\n    }\n\n  }\n\n  if (root._bokeh_is_loading === 0) {\n    console.log(\"Bokeh: BokehJS loaded, going straight to plotting\");\n    run_inline_js();\n  } else {\n    load_libs(js_urls, function() {\n      console.log(\"Bokeh: BokehJS plotting callback run at\", now());\n      run_inline_js();\n    });\n  }\n}(window));"
     },
     "metadata": {},
     "output_type": "display_data"
    }
   ],
   "source": [
    "import yaml\n",
    "\n",
    "from bokeh.layouts import column\n",
    "from bokeh.models import ColumnDataSource, Slider\n",
    "from bokeh.plotting import figure\n",
    "from bokeh.themes import Theme\n",
    "from bokeh.io import show, output_notebook\n",
    "\n",
    "from bokeh.sampledata.sea_surface_temperature import sea_surface_temperature\n",
    "\n",
    "output_notebook()"
   ]
  },
  {
   "cell_type": "markdown",
   "metadata": {},
   "source": [
    "There are various application handlers that can be used to build up Bokeh documents. For example, there is a `ScriptHandler` that uses the code from a `.py` file to produce Bokeh documents. This is the handler that is used when we run `bokeh serve app.py`. Here we are going to use the lesser-known `FunctionHandler`, that gets configured with a plain Python function to build up a document. \n",
    "\n",
    "Here is the function `modify_doc(doc)` that defines our app:"
   ]
  },
  {
   "cell_type": "code",
   "execution_count": 240,
   "metadata": {},
   "outputs": [],
   "source": [
    "def modify_doc(doc):\n",
    "    df = sea_surface_temperature.copy()\n",
    "    source = ColumnDataSource(data=df)\n",
    "\n",
    "    plot = figure(x_axis_type='datetime', y_range=(0, 25),\n",
    "                  y_axis_label='Temperature (Celsius)',\n",
    "                  title=\"Sea Surface Temperature at 43.18, -70.43\")\n",
    "    plot.line('time', 'temperature', source=source)\n",
    "\n",
    "    def callback(attr, old, new):\n",
    "        if new == 0:\n",
    "            data = df\n",
    "        else:\n",
    "            data = df.rolling('{0}D'.format(new)).mean()\n",
    "        source.data = ColumnDataSource(data=data).data\n",
    "\n",
    "    slider = Slider(start=0, end=30, value=0, step=1, title=\"Smoothing by N Days\")\n",
    "    slider.on_change('value', callback)\n",
    "\n",
    "    doc.add_root(column(slider, plot))\n",
    "\n",
    "    doc.theme = Theme(json=yaml.load(\"\"\"\n",
    "        attrs:\n",
    "            Figure:\n",
    "                background_fill_color: \"#DDDDDD\"\n",
    "                outline_line_color: white\n",
    "                toolbar_location: above\n",
    "                height: 500\n",
    "                width: 800\n",
    "            Grid:\n",
    "                grid_line_dash: [6, 4]\n",
    "                grid_line_color: white\n",
    "    \"\"\"))"
   ]
  },
  {
   "cell_type": "markdown",
   "metadata": {},
   "source": [
    "Now we can display our application using ``show``, which will automatically create an ``Application`` that wraps ``modify_doc`` using ``FunctionHandler``. The end result is that the Bokeh server will call ``modify_doc`` to build new documents for every new sessions that is opened.\n",
    "\n",
    "**Note**: If the current notebook is not displayed at the default URL, you must update the `notebook_url` parameter in the comment below to match, and pass it to `show`."
   ]
  },
  {
   "cell_type": "code",
   "execution_count": 241,
   "metadata": {},
   "outputs": [
    {
     "data": {
      "application/vnd.bokehjs_exec.v0+json": "",
      "text/html": [
       "\n",
       "<script src=\"http://localhost:50720/autoload.js?bokeh-autoload-element=08f042c0-96cb-44cf-a0fd-829d447d5672&bokeh-absolute-url=http://localhost:50720&resources=none\" id=\"08f042c0-96cb-44cf-a0fd-829d447d5672\"></script>"
      ]
     },
     "metadata": {
      "application/vnd.bokehjs_exec.v0+json": {
       "server_id": "5c565f58eba1432792b7241411d4c992"
      }
     },
     "output_type": "display_data"
    }
   ],
   "source": [
    "show(modify_doc, notebook_url=\"http://localhost:8889\") # If the port is different, type it in here. Mine is often 8889. "
   ]
  },
  {
   "cell_type": "markdown",
   "metadata": {},
   "source": [
    "## 3.5 Further reading. \n",
    "\n",
    "I would strongly recommend checking out the bokeh tutorials. Not the least of which, because they are jupyter notebooks that you can run yourself in the browser or copy and run locally. "
   ]
  },
  {
   "cell_type": "code",
   "execution_count": 192,
   "metadata": {},
   "outputs": [],
   "source": [
    "# %load https://matplotlib.org/_downloads/barchart.py"
   ]
  }
 ],
 "metadata": {
  "kernelspec": {
   "display_name": "Python 3",
   "language": "python",
   "name": "python3"
  },
  "language_info": {
   "codemirror_mode": {
    "name": "ipython",
    "version": 3
   },
   "file_extension": ".py",
   "mimetype": "text/x-python",
   "name": "python",
   "nbconvert_exporter": "python",
   "pygments_lexer": "ipython3",
   "version": "3.7.0"
  }
 },
 "nbformat": 4,
 "nbformat_minor": 2
}
