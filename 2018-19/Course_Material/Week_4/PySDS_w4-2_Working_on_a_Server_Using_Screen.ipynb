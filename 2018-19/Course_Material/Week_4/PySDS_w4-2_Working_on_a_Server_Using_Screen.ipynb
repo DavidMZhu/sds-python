{
 "cells": [
  {
   "cell_type": "markdown",
   "metadata": {},
   "source": [
    "**PySDS Week 4. Lecture 2. V.1**\n",
    "Last author: B. Hogan"
   ]
  },
  {
   "cell_type": "markdown",
   "metadata": {},
   "source": [
    "# Week 4. Day 2. Working on a server \n",
    "\n",
    "Large code examples will not run on a computer. The IMDB code is really at the limit of what you might expect to be practically doing on a laptop. For many tasks there is a reason to run them remotely. For example:\n",
    "- You want to listen to a stream of data and you don't want to keep your laptop open and connected.\n",
    "- You have too much data for your computer to load.\n",
    "- You need processing power that's not available locally.\n",
    "\n",
    "For small tasks, a boost in ram might make a big difference, but for tasks on gigabytes of data or persistent connections, it won't. What makes a difference is using a dediated machine with a known history of continuous uptime.\n",
    "\n",
    "Linux is an operating system like Mac or Windows. It is most commonly seen in scientific work and in server administration. It does not always support the hardware of consumer devices (for example, there have yet to be reports of a Linux distribution that can drive the fingerprint reader on the Yoga 920, much to my disappointment). Linux, based on the Unix operating system, can be administered quite extensively from a command prompt. In fact, the prompt is in a shell that is its own language. Typically on a mac or linux you would be using bash or born-again shell [bash]. The good thing about this is that terminals are then easily to remote access. \n",
    "\n",
    "We can access another computer's shell remotely if we know the address of the server and it is configured for SSH. In which case we use the following syntax (on the Mac terminal, the Linux shell and Cygwin for windows). \n",
    "``` bash\n",
    "ssh USERNAME@domain.com\n",
    "```\n",
    "or \n",
    "``` bash\n",
    "ssh USERNAME:PORT@domain.com\n",
    "```\n",
    "In this case the domain is ```<redacted>.oii.ox.ac.uk```. \n",
    "\n",
    "* Important note: I have had trouble giving my password via Windows Powershell, so I recommend downloading and installing Cygwin with the optional OpenSSH modules when you get to the install screen. This will be shown in class.\n",
    "\n",
    "When you first log in it will ask you to trust the key, select yes. Then either type your password or copy and paste it. This is fragile. Please be systematic and careful. It will lock you out after 5 attempts. I have been given instructions to reset the lock out, but I cannot guarantee I'll be able to use them properly. **Measure twice, cut once**.  "
   ]
  },
  {
   "cell_type": "markdown",
   "metadata": {},
   "source": [
    "## Navigating the server\n",
    "\n",
    "The server can be navigated via the same commands as mac, for it is linux. This includes \n",
    "- ```cd``` change directory, recall ```~``` is home, ```.``` is here and ```..``` is up one \n",
    "- ```ls``` list directory, argument -a means all, i.e. \"ls -a\"\n",
    "- ```man``` the help page, so for help on other arguments for ls it would be ```man ls```\n",
    "- ```touch``` creates a new file."
   ]
  },
  {
   "cell_type": "markdown",
   "metadata": {},
   "source": [
    "## Copying files to a server \n",
    "\n",
    "To copy files to a server you can use scp (or secure copy) through both cygwin and \\*nix systems. To do this scp is run from the terminal (outside of ssh) with remote and local file paths as arguments. \n",
    "\n",
    "``` bash\n",
    "# download: remote -> local\n",
    "scp user@remote_host:remote_file local_file \n",
    "```\n",
    "\n",
    "The local file can also be a directory where the file would go. To upload, the local file is placed first:\n",
    "\n",
    "``` bash\n",
    "# upload: local -> remote\n",
    "scp local_file user@remote_host:remote_file\n",
    "```\n",
    "\n",
    "So if we have python file \"twitterServer.py\" on our computer at ~/Desktop/twitterServer.py then you would type:\n",
    "\n",
    "```\n",
    "cd ~Desktop/\n",
    "scp twitterServer.py inetXXXX@<redacted>.oii.ox.ac.uk\n",
    "```\n",
    "And it should prompt you first for a password. If successful it will show a file copy dialog and then complete."
   ]
  },
  {
   "cell_type": "markdown",
   "metadata": {},
   "source": [
    "## Editing text on the server\n",
    "\n",
    "There are a few ways to edit text on a server. There are two basic text editors. ```Nano``` and ```vi```. Many hardcore programmers love vi because it employs a huge variety of keyboard shortcuts. It's for the same reason that most people find vi to be a huge pain. There are even games out there to help you improve your vi skills. But I personally think it will be futile without serious commitment. Regardless, I actually don't mind tweaking things in ```vi``` when I'm working on a server.\n",
    "\n",
    "vi started with the command ```vi```. You are then presented with a blank screen with \n",
    "\n",
    "```bash \n",
    "~ \n",
    "~ \n",
    "~ \n",
    "~``` \n",
    "going down the left hand side. This is the 'end of the document'. you cannot type right away in vi, but instead have to switch to one of its editing modes. Pressing ```i``` will do that, then you ccan type. Press escape and you are out of editing mode. Then in order to make a system command you have to press ```:```. To write, you would type ```w``` and press enter. To save and exit you would press ```wq```, to quit without saving it is ```q!```. I will demonstrate this, but then return to it here. It is confusing but it has a logic to it, just a foreign one to most students here. \n",
    "\n",
    "Follow along as we will first create a python file in ```vi```, then copy it to the server, log into the server, run it and then exit. \n",
    "\n",
    "The file is going to be called \"example.py\". It will be really simple: \n",
    "\n",
    "``` python\n",
    "import time,datetime\n",
    "\n",
    "while 1:\n",
    "    print(\"The time is now: %s\" % datetime.datetime.now())\n",
    "    time.sleep(3)\n",
    "    \n",
    "```"
   ]
  },
  {
   "cell_type": "markdown",
   "metadata": {},
   "source": [
    "## Running a program on a server\n",
    "\n",
    "You will notice that when we run it on the server that it keeps going until we stop it, which we can do with a keyboard interrupt. But what happens if we want to leave the server, does it continue running? No. The shell that you create when logging into the terminal only lives while you are running it. It is destroyed when the connection is destroyed. \n",
    "\n",
    "In order to keep it running on the server, it has to be run from a shell that is not tied to ssh. To do this we use a **multiplexer**. That is a program that is going to create a second shell window for us that we can check in on and leave. If we have left it then we can get back to it. \n",
    "\n",
    "To do this we use ```screen```. This program is a multiplexer that will spawn a new instance of a terminal for you to use every time you type screen. It then displays that window. From this second window you can run commands, then exit the screen and the commands will still keep running. Let's first ```screen``` then run the python file. \n",
    "\n",
    "How do we escape this screen? It does not give a huge amount of feedback, but you would want to press $ctrl-a, d$. Control-a first lets screen know you are going to enter a command. Then $d$ is the command for **detaching**. This should bring you back to the main terminal window. To reattach you should type: ```screen -r```. If you happen to have more than one screen it will list these with random identifiers called ```pid```s. You can type ```screen -r <pid>``` to get the correct working pid. As a tip, you can name a screen when you first create it by typing ```screen -S <name>``` and then reattach with that."
   ]
  },
  {
   "cell_type": "markdown",
   "metadata": {},
   "source": [
    "# Section 2. Creating a Twitter Stream listener \n",
    "\n",
    "There are many reasons to create a Twitter stream listener if you want to collect your own live data from the site. First let's check that the module was instantiated correctly. "
   ]
  },
  {
   "cell_type": "code",
   "execution_count": null,
   "metadata": {},
   "outputs": [],
   "source": [
    "try: \n",
    "    import tweepy\n",
    "except ModuleNotFoundError:\n",
    "    import sys\n",
    "    !{sys.executable} -m pip install git+https://github.com/tweepy/tweepy.git\n",
    "    import tweepy"
   ]
  },
  {
   "cell_type": "markdown",
   "metadata": {},
   "source": [
    "If we don't get an error then we should be all good. Now let's go over to Twitter to get some API keys. We start at https://developer.twitter.com/ and then go to \"apps\" under your name. We want to create a new app, get the keys, get the secret keys and then make use of them. We can do this in a similar way to what we did with API keys from reddit. (i.e. create the json, close it, delete them from the script. Bear in mind you will have to upload both the json and the script to the server later. "
   ]
  },
  {
   "cell_type": "code",
   "execution_count": null,
   "metadata": {},
   "outputs": [],
   "source": [
    "1/0\n",
    "import json \n",
    "\n",
    "keys = {\"CONSUMER_KEY\":\"\", \n",
    "        \"CONSUMER_SECRET\":\"\", \n",
    "        \"ACCESS_TOKEN\":\"\", \n",
    "        \"ACCESS_TOKEN_SECRET\":\"\",\n",
    "        \"gmail\":\"\"}\n",
    "\n",
    "with open(\"twitter_keys.json\",'w') as infile:\n",
    "    infile.write( json.dumps(keys) )"
   ]
  },
  {
   "cell_type": "code",
   "execution_count": null,
   "metadata": {},
   "outputs": [],
   "source": [
    "TWEETFILE = \"Tweet_Output.dat\"\n",
    "\n",
    "keys = json.loads(open(\"twitter_keys.json\").read())\n",
    "\n",
    "auth = tweepy.OAuthHandler(keys['CONSUMER_KEY'],keys['CONSUMER_SECRET'])\n",
    "auth.set_access_token(keys['ACCESS_TOKEN'], keys['ACCESS_TOKEN_SECRET'])\n",
    "\n",
    "api = tweepy.API(auth)\n",
    "\n",
    "if api:\n",
    "    print(\"Successfully Authenticated\")\n",
    "else:\n",
    "    print(\"Problems with authentication\")\n",
    "\n",
    "class CustomStreamListener(tweepy.StreamListener):\n",
    "\n",
    "    def __init__ (self,limit=100,outfile=\"fileout.dat\",counter=10):\n",
    "        self.count = 0\n",
    "        self.limit = limit\n",
    "        self.counter = counter\n",
    "        self.fileout = open(outfile,'a')\n",
    "        \n",
    "    def on_error(self, status_code):\n",
    "        print ('Encountered error with status code:', status_code)\n",
    "        \n",
    "        return True # Don't kill the stream\n",
    "\n",
    "    def on_timeout(self):\n",
    "        print('Timeout...')\n",
    "        time.sleep(1)\n",
    "        return True # Don't kill the stream\n",
    "\n",
    "    def on_data(self, data):\n",
    "        self.count += 1\n",
    "        if self.count % self.counter == 0:\n",
    "            print(\"Processing Tweet: %s\" % self.count)\n",
    "        if self.count == self.limit:\n",
    "            self.fileout.close()\n",
    "            return False\n",
    "        else:\n",
    "            self.fileout.write(data.strip() + \"\\n\")\n",
    "        \n",
    "# Notice that this instantiates the stream listener but it does not start it. \n",
    "streaming_api = tweepy.streaming.Stream(auth,CustomStreamListener(), timeout=60)\n",
    "\n",
    "# This is the filter we use; filters on twitter can be very complex. \n",
    "TWEET_FILTER = [\"Trump\"]\n",
    "\n",
    "# This starts the stream listener. \n",
    "streaming_api.filter(follow=None, track=TWEET_FILTER)"
   ]
  },
  {
   "cell_type": "markdown",
   "metadata": {},
   "source": [
    "# Section 3. Email warnings\n",
    "\n",
    "Building in an email warning is a useful way to alert you if something goes wrong on the server. We use gmail since Google enables us to have app passwords that are specific to the program and don't require two factor authentication. "
   ]
  },
  {
   "cell_type": "code",
   "execution_count": null,
   "metadata": {},
   "outputs": [],
   "source": [
    "import time\n",
    "import smtplib\n",
    "import datetime\n",
    "\n",
    "def send_email(test=True, text = \"\",pw=\"\"):\n",
    "\n",
    "    if pw == \"\":\n",
    "        print(\"Did not include a password\")\n",
    "        return False\n",
    "    else:\n",
    "        gmail_pwd = pw # Use your own password! - see https://security.google.com/settings/security/apppasswords\n",
    "\n",
    "    gmail_user = \"bernie.hogan@gmail.com\"\n",
    "    FROM = \"bernie.hogan@gmail.com\"\n",
    "    TO = [\"\"]\n",
    "    SUBJECT = \"Help, the stream is broken!\"\n",
    "    TEXT = \"The stream produced an error. Please return to the server and check it out. %s\" % text\n",
    "    # Prepare actual message\n",
    "    message = \"\"\"From: %s\\nTo: %s\\nSubject: %s\\n\\n%s\n",
    "    \"\"\" % (FROM, \", \".join(TO), SUBJECT, TEXT)\n",
    "\n",
    "    print(message)\n",
    "    try:\n",
    "        server = smtplib.SMTP(\"smtp.gmail.com\", 587)\n",
    "        server.ehlo()\n",
    "        server.starttls()\n",
    "        server.login(gmail_user, gmail_pwd)\n",
    "        server.sendmail(FROM, TO, message)\n",
    "        server.close()\n",
    "        print('successfully sent the mail')\n",
    "    except:\n",
    "        print(\"failed to send mail\")\n",
    "\n",
    "send_email(text = \"False alarm, just starting the program %s\" % datetime.datetime.now() ,pw=keys[\"gmail\"])"
   ]
  },
  {
   "cell_type": "markdown",
   "metadata": {},
   "source": [
    "Now you can embed this method into your program, wrap the stream listener in a try / except statement and if it fails, on the exception it will email you to say that there was an issue. Like so: "
   ]
  },
  {
   "cell_type": "code",
   "execution_count": null,
   "metadata": {},
   "outputs": [],
   "source": [
    "import json \n",
    "keys = json.loads(open(\"twitter_keys.json\").read())\n"
   ]
  },
  {
   "cell_type": "code",
   "execution_count": null,
   "metadata": {},
   "outputs": [],
   "source": [
    "try:\n",
    "    # This starts the stream listener. \n",
    "    streaming_api.filter(follow=None, track=TWEET_FILTER)\n",
    "    1/0\n",
    "except Exception as e:\n",
    "    send_email(text = \"We received the following error that stopped the program: %s\" % e)"
   ]
  },
  {
   "cell_type": "markdown",
   "metadata": {},
   "source": [
    "# Section 4. Checking the data. \n",
    "\n",
    "First we will want to get the data out of the server using ```scp```, then we will want to parse it. I placed data in a flat file with one tweet object per line. Now these days Twitter has an 'extended_tweet' objecct for long tweets. \n",
    "\n",
    "See the code snippet below"
   ]
  },
  {
   "cell_type": "code",
   "execution_count": null,
   "metadata": {},
   "outputs": [],
   "source": [
    "TWEETFILE = \"Tweet_Output.dat\"\n",
    "\n",
    "with open(TWEETFILE) as filein:\n",
    "    for i in filein.readlines(): \n",
    "        if len(i) > 1:\n",
    "            x = json.loads(i.strip())\n",
    "            if x[\"truncated\"]:\n",
    "                print(x[\"extended_tweet\"][\"full_text\"],\"\\n\")\n",
    "            else:\n",
    "                print(x[\"text\"],\"\\n\")"
   ]
  }
 ],
 "metadata": {
  "kernelspec": {
   "display_name": "Python 3",
   "language": "python",
   "name": "python3"
  },
  "language_info": {
   "codemirror_mode": {
    "name": "ipython",
    "version": 3
   },
   "file_extension": ".py",
   "mimetype": "text/x-python",
   "name": "python",
   "nbconvert_exporter": "python",
   "pygments_lexer": "ipython3",
   "version": "3.7.0"
  }
 },
 "nbformat": 4,
 "nbformat_minor": 2
}
