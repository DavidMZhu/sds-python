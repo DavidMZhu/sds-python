{
 "cells": [
  {
   "cell_type": "markdown",
   "metadata": {},
   "source": [
    "**PySDS Week 01 Day 02 - Control and flow statements**"
   ]
  },
  {
   "cell_type": "markdown",
   "metadata": {},
   "source": [
    "# Assignment 1.3 Printing to a file and more loop practice. \n",
    "\n",
    "For this assignment you will be expected to write and read some text from a file. The sustained example is about reading a table of data and then writing that table back to a different file under some pre-determined conditions. \n",
    "\n",
    "~~~\n",
    "10am October 12th, 2018\n",
    "~~~\n",
    "\n",
    "That is to say, before tomorrow's class. The assignments will then be randomly shuffled to different members of the class. At 2pm, at the beginning of the tutorial, you will be able to view and comment on someone else's assignment. \n",
    "\n",
    "Peer grading is new at the OII, but it has been shown to be an effective approach to both learning about other people's code as well as keeping people engaged. Because it is peer graded, we will not expect you to give a specific mark. You will instead be asked: \n",
    "\n",
    "1. Does the code run as expected: Y / N ?\n",
    "    1. If No, please note the lines. (view lines above using view > Show line numbers). \n",
    "3. Do you think the code makes sense?\n",
    "4. Does anything else stand out?"
   ]
  },
  {
   "cell_type": "code",
   "execution_count": null,
   "metadata": {},
   "outputs": [],
   "source": [
    "# Group the files in this directory by type.\n",
    "# Get all the files, \n",
    "# create a dictionary with the file extension as the key \n",
    "#   and the list of files in that directory as the value\n",
    "# Print the keys and the length of the list of files so it would \n",
    "# look like the following: (the numbers will be different, of course)\n",
    "#\n",
    "# File type counts: \n",
    "# .py: 3\n",
    "# .ipynb: 4\n",
    "# .txt: 10\n",
    "#\n",
    "# Have two file paths. First do this with your current working directory.\n",
    "# Second do this with your downloads folder. \n",
    "\n",
    "# Answer\n",
    "import os\n",
    "CWD = os.getcwd()\n",
    "DOWNLOADS = ...\n",
    "\n",
    "\n",
    "\n",
    "# Reviewer comments below here \n",
    "'''\n",
    "\n",
    "\n",
    "\n",
    "'''"
   ]
  },
  {
   "cell_type": "code",
   "execution_count": null,
   "metadata": {},
   "outputs": [],
   "source": [
    "# Write an ascii art pattern to a file, then read the file and print its contents.\n",
    "# It should be no more than 80 characters wide and not more than 80 lines long. \n",
    "# The pattern should repeat somehow, but it can be creative. A simple one might be: \n",
    "# XOXO\n",
    "# OXOX\n",
    "# XOXO\n",
    "# OXOX\n",
    "# The pattern needs to come from code.\n",
    "\n",
    "\n",
    "# Answer\n",
    "\n",
    "\n",
    "\n",
    "# Reviewer comments below here \n",
    "'''\n",
    "\n",
    "\n",
    "\n",
    "'''"
   ]
  },
  {
   "cell_type": "code",
   "execution_count": null,
   "metadata": {},
   "outputs": [],
   "source": [
    "# write a script here that prints out a file with the name \"PySDS_week1lab3question2.py\"\n",
    "# Just like we printed out the test.py file in class. \n",
    "#\n",
    "# When running PySDS_...py, it should do the following: \n",
    "#     prints out the number of arguments, \n",
    "#     prints out each argument on its own line\n",
    "#     prints a message asking the user to re-run the program \n",
    "#            with more arguments.  \n",
    "#     This message should be polite if you have one or more arguments\n",
    "#            and grouchy if you do not append any arguments. \n",
    "\n",
    "\n",
    "# Answer\n",
    "\n",
    "...\n",
    "\n",
    "fileout = open(\"PySDS_week1lab3question2.py\", 'w')\n",
    "\n",
    "...\n",
    "\n",
    "# Reviewer comments below here \n",
    "'''\n",
    "\n",
    "\n",
    "\n",
    "'''"
   ]
  },
  {
   "cell_type": "code",
   "execution_count": null,
   "metadata": {},
   "outputs": [],
   "source": [
    "# Stitching together 4 files. \n",
    "# The zip file: muppet_episodes_by_season.zip contains four text files\n",
    "# muppet_show_season_xx.txt\n",
    "# You have to merge these files together to create a single csv file.\n",
    "# You have to unzip the files to a directory, read each one in\n",
    "# delete the first line and append the others to a single file. \n",
    "\n",
    "\n",
    "# Answer\n",
    "\n",
    "\n",
    "\n",
    "# Reviewer comments below here \n",
    "'''\n",
    "\n",
    "\n",
    "'''"
   ]
  },
  {
   "cell_type": "code",
   "execution_count": null,
   "metadata": {},
   "outputs": [],
   "source": [
    "# Other reviewer comments down here: \n",
    "'''\n",
    "\n",
    "\n",
    "'''"
   ]
  }
 ],
 "metadata": {
  "kernelspec": {
   "display_name": "Python 3",
   "language": "python",
   "name": "python3"
  },
  "language_info": {
   "codemirror_mode": {
    "name": "ipython",
    "version": 3
   },
   "file_extension": ".py",
   "mimetype": "text/x-python",
   "name": "python",
   "nbconvert_exporter": "python",
   "pygments_lexer": "ipython3",
   "version": "3.6.5"
  }
 },
 "nbformat": 4,
 "nbformat_minor": 2
}
