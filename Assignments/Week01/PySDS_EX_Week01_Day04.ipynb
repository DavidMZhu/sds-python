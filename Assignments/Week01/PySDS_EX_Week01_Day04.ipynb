{
 "cells": [
  {
   "cell_type": "markdown",
   "metadata": {},
   "source": [
    "**PySDS Week 01 Day 04 v.1.1 - Exercise - Friday Formative**"
   ]
  },
  {
   "cell_type": "markdown",
   "metadata": {},
   "source": [
    "# Week 1. Friday Formative\n",
    "\n",
    "The Friday formative is a series of exercises designed to build up to a cohesive project. This week we are making a shopping cart. \n",
    "\n",
    "You have to make a program that can be run as a standalone python program. You can build it in JupyterLab but submit it as a standalone executable. We recommend porting it over to Spyder and working there. When it is run from the terminal / console it should do the following:\n",
    "\n",
    "1. Provide a welcome message. \n",
    "2. Present a list of goods for the user to choose from. You must present at least three different goods. They don't have to be muppets or food, but they should make sense as a type of object, such as music albums. They should all be priced differently. \n",
    "3. The user can choose which to buy, or select some value for exit.\n",
    "4. When one is chosen, the user is asked how many or what quantity of that item. \n",
    "5. Then the main menu appears again, but there is an additional option to check out. \n",
    "6. When the user checks out, it prints the total price and the basket of goods. \n",
    "7. If you are satisfied with this workflow and have time to spare, consider the following extensions: \n",
    "  - check the basket \n",
    "  - delete a item from the basket\n",
    "  - have the user enter their name and address. \n",
    "  - another feature you come up with.\n",
    "  Please note your extension in the code with a comment such as:\n",
    "  ~~~ >\n",
    "  # Extension \n",
    "  ~~~\n",
    "  \n",
    "## Purpose (is this really data science?)\n",
    "Why this particular assignment? This assignment will require you to weild loops, dictionaries, maybe larger data structures in a way that emphasises your existing learning. That could be a dictionary, a list or a more generic object as a collection. I would recommend the object-oriented approach but strictly speaking you can get away without it.  \n",
    "\n",
    "It also allows a little creativity, both in the item select / wording and in the implementation of the features. It's nice to mark diverse implementations more than very rote exercises.\n",
    "\n",
    "Some things you'll want to consider about your data structure: \n",
    "- Are you storing the items as a list or perhaps as a dictionary with the number of each item as the value.\n",
    "- Do you put the price of the goods in this basket class? \n",
    "  - Or do you make a dictionary with goods and price? \n",
    "- Do you have an addItem() method in your basket object or do you interact with basket.items directly as a list? \n",
    "- Once you have a basket, you will want to come up with the items and a way to print the items, their price and ask the user to select an item. \n",
    "- Will your printing of output be attractive and easy to read?\n",
    "\n",
    "## Rubric\n",
    "The mark will be out of 30. For this assignment: \n",
    "1. **Functionality [10pts] ** - does it do what we specified above?\n",
    "2. **Usability [5pts] ** - Is it clear? Is both the code and the program well formatted? \n",
    "3. **Robustness [5pts] ** - What happens with bad input? How many changes can be made and with they all work as expected? 5pts \n",
    "4. **Parsimonious [5pts] ** - Subjectively speaking, is the code well organized, using coherent data structures? \n",
    "5. **Creativity [5pts]** - How are you extending the specified but very basic check out? \n",
    "\n",
    "Assignments will be returned with comments in \n",
    "'''COMMENTS + MARK''' at the top of the file. "
   ]
  },
  {
   "cell_type": "code",
   "execution_count": null,
   "metadata": {},
   "outputs": [],
   "source": []
  }
 ],
 "metadata": {
  "kernelspec": {
   "display_name": "Python 3",
   "language": "python",
   "name": "python3"
  },
  "language_info": {
   "codemirror_mode": {
    "name": "ipython",
    "version": 3
   },
   "file_extension": ".py",
   "mimetype": "text/x-python",
   "name": "python",
   "nbconvert_exporter": "python",
   "pygments_lexer": "ipython3",
   "version": "3.6.5"
  }
 },
 "nbformat": 4,
 "nbformat_minor": 2
}
