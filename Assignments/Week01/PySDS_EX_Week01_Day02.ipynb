{
 "cells": [
  {
   "cell_type": "markdown",
   "metadata": {},
   "source": [
    "**PySDS Week 01 Day 02 - Control and flow statements**"
   ]
  },
  {
   "cell_type": "markdown",
   "metadata": {},
   "source": [
    "# Assignment 1.2 A few quick exercises and a sustained data cleaning example\n",
    " \n",
    "For this assignment you will be expected to create a single long choose your own adventure story based on user input. The story is going to be pretty underwhelming but should show some examples of some of the concepts used in class. The story can be of your own choosing but must have at least three different paths and two endings. It will take user input to decide the next story. Below I have some 'story elements' that can be used. \n",
    "\n",
    "~~~\n",
    "10am October 10th, 2018\n",
    "~~~\n",
    "\n",
    "That is to say, before tomorrow's class. The assignments will then be randomly shuffled to different members of the class. At 2pm, at the beginning of the tutorial, you will be able to view and comment on someone else's assignment. \n",
    "\n",
    "Peer grading is new at the OII, but it has been shown to be an effective approach to both learning about other people's code as well as keeping people engaged. Because it is peer graded, we will not expect you to give a specific mark. You will instead be asked: \n",
    "\n",
    "1. Does the code run as expected: Y / N \n",
    "2. If No, please note the lines. \n",
    "3. Do you think the code makes sense\n",
    "4. Does anything else stand out"
   ]
  },
  {
   "cell_type": "code",
   "execution_count": null,
   "metadata": {},
   "outputs": [],
   "source": [
    "# Short Exercise 1. \n",
    "\n",
    "# Fozzie Bear! (based on a classic coding challenge)\n",
    "# Make a program that spits out numbers and the words Fozzie Bear. \n",
    "# If the line is a multiple of 3 print Fozzie\n",
    "# If the line is a multiple of 5 print Bear\n",
    "# If the line is a multiple of both, print \"Fozzie Bear\" (with the space in between). \n",
    "# Have the program run in the range 0 to 30. \n",
    "\n",
    "# Answer below here: \n",
    "\n"
   ]
  },
  {
   "cell_type": "code",
   "execution_count": null,
   "metadata": {},
   "outputs": [],
   "source": [
    "# Short exercise 2: Versever \n",
    "\n",
    "# print 10 lines of 20 characters each in the following pattern:\n",
    "# verseverseverseverse\n",
    "# severseverseversever\n",
    "# Catch, you can only use one string with the word 'verse'\n",
    "# everything else should be done through slicing and loops.\n",
    "\n",
    "# Answer below here\n",
    "\n",
    "\n",
    "# Reviewer comments below here: \n",
    "'''\n",
    "\n",
    "'''"
   ]
  },
  {
   "cell_type": "code",
   "execution_count": null,
   "metadata": {},
   "outputs": [],
   "source": [
    "# Short exercise 3. Versever II \n",
    "\n",
    "# Print 10 lines of the 5 characters in the following pattern:\n",
    "#\n",
    "# verse\n",
    "# ersev\n",
    "# rseve\n",
    "# sever\n",
    "# evers\n",
    "#\n",
    "# Again, the catch is you can only use one string with the word 'verse'\n",
    "# everything else should be done through slicing and loops. "
   ]
  },
  {
   "cell_type": "code",
   "execution_count": 1,
   "metadata": {},
   "outputs": [],
   "source": [
    "# Long exercise 1. A very short choose your own adventure\n",
    "# Please create a story that could, in theory, include every string below and \n",
    "# at least one element from each of the two lists. \n",
    "#\n",
    "# Please complete your code in the cell below this one. Also in the cells below that\n",
    "# are some design patterns that you can use to help you out. \n",
    "\n",
    "setting1 = '''It was a sunny day outside when Kermit went to the old auditorium. \n",
    "Along the way he was greeted by his friend %s. Kermit couldn't believe what %s told him.'''\n",
    "\n",
    "actor1 = [\"Piggy\",\"Fozzie\",\"Gonzo\",\"Hilda\"]\n",
    "\n",
    "quote1 = '''The auditorium has burned down! What shall we do?'''\n",
    "\n",
    "quote2 = '''The owner said if we can't come up with rent by Thursday, we will be evicted!'''\n",
    "\n",
    "quote3 = '''The flight for this weeks guest star was cancelled. We will have to find a way to pay for a new flight!'''\n",
    "\n",
    "reply1 = '''I know, kermit said. We should hold a %s'''\n",
    "\n",
    "event1 = [\"BBQ\",\"Telethon\",\"Bake sale\"]\n",
    "\n",
    "setting2 = '''At the %s, all the muppets were there, inclding %s for a special performance. They needed to raise $1000 but actually raised %s'''\n",
    "\n",
    "ending1 = '''Kermit, sullen, with his guitar in hand, knew it wouldn't be enough. \n",
    "Sitting on a log he thought, it's easier being green than making it. Better luck next time'''\n",
    "\n",
    "ending2 = '''With his muppet hands flailing in the air, Kermit knew they could do it. \n",
    "The show will go on after all.'''\n",
    "\n",
    "################################################\n",
    "# Additional user-defined statements \n",
    "################################################\n",
    "\n"
   ]
  },
  {
   "cell_type": "code",
   "execution_count": 2,
   "metadata": {},
   "outputs": [],
   "source": [
    "# The choose your own adventure should include all of the above statements,\n",
    "# but can include more if you are feeling creative. Place all additional statements \n",
    "# in the cell above with appropriate variable names (you can choose these at will)\n",
    "\n",
    "# Answer below here\n",
    "\n",
    "\n",
    "\n",
    "# Reviewer comments below here\n",
    "\n",
    "\n"
   ]
  },
  {
   "cell_type": "code",
   "execution_count": 8,
   "metadata": {},
   "outputs": [
    {
     "name": "stdout",
     "output_type": "stream",
     "text": [
      "f\n"
     ]
    }
   ],
   "source": [
    "######################################\n",
    "# Appendix 1. Here are some code patterns to help you out.\n",
    "# None of them are necessary, per se, but they should serve as inspiration.\n",
    "#\n",
    "######################################\n",
    "# Pattern 1. Getting a number\n",
    "\n",
    "a = input(\"Please print a number: \")\n",
    "\n",
    "if int(a) > 4: \n",
    "    b = input(\"Please print a second number: \")\n",
    "else:\n",
    "    b = input(\"Please print a letter: \")\n",
    "\n",
    "print(b)"
   ]
  },
  {
   "cell_type": "code",
   "execution_count": 14,
   "metadata": {},
   "outputs": [],
   "source": [
    "from IPython import display"
   ]
  },
  {
   "cell_type": "code",
   "execution_count": null,
   "metadata": {},
   "outputs": [],
   "source": [
    "#####################################\n",
    "# Pattern 2. Staying in a loop until you are satisfied\n",
    "\n",
    "while True: \n",
    "    print(\"This is a statement about A and B\")\n",
    "    a = input(\"Please make a selection:  (A) or (B)\")\n",
    "    \n",
    "    if a == \"A\":\n",
    "        display(\"you chose well.\")\n",
    "        break\n",
    "    elif a == \"B\":\n",
    "        display(\"you chose well.\")\n",
    "        break\n",
    "    else:\n",
    "        display(\"I'm sorry, that was not a valid selection\")\n",
    "\n",
    "while True: \n",
    "    print(\"This is a statement about C or D\")\n",
    "    a = input(\"Please make a selection:  (C) or (D)\")\n",
    "    \n",
    "    if a == \"C\":\n",
    "        display(\"you chose well.\")\n",
    "        break\n",
    "    elif a == \"D\":\n",
    "        display(\"you chose well.\")\n",
    "        break\n",
    "    else:\n",
    "        display(\"I'm sorry, that was not a valid selection\")\n"
   ]
  },
  {
   "cell_type": "code",
   "execution_count": 7,
   "metadata": {},
   "outputs": [
    {
     "name": "stdout",
     "output_type": "stream",
     "text": [
      "That's not greater than 4. Try again.\n",
      "you selected 6 which is greater than 4\n"
     ]
    }
   ],
   "source": [
    "#####################################\n",
    "# Pattern 3. Catching bad input with 'try / except'\n",
    "\n",
    "while True:\n",
    "    a = input(\"Please print a number greater than 4: \")\n",
    "    try: \n",
    "        if float(a) > 4: \n",
    "            print(\"you selected %s which is greater than 4\" % a)\n",
    "            break\n",
    "        else:\n",
    "            print(\"That's not greater than 4. Try again.\")\n",
    "    except: \n",
    "        print(\"I'm sorry, that was not valid input. Please enter an number\")\n"
   ]
  }
 ],
 "metadata": {
  "kernelspec": {
   "display_name": "Python 3",
   "language": "python",
   "name": "python3"
  },
  "language_info": {
   "codemirror_mode": {
    "name": "ipython",
    "version": 3
   },
   "file_extension": ".py",
   "mimetype": "text/x-python",
   "name": "python",
   "nbconvert_exporter": "python",
   "pygments_lexer": "ipython3",
   "version": "3.6.5"
  }
 },
 "nbformat": 4,
 "nbformat_minor": 2
}
