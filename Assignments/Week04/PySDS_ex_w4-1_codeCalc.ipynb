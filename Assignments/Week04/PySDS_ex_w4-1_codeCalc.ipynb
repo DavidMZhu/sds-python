{
 "cells": [
  {
   "cell_type": "code",
   "execution_count": 1,
   "metadata": {},
   "outputs": [
    {
     "name": "stdout",
     "output_type": "stream",
     "text": [
      "Ole's career ruining presentation    30.0\n",
      "dtype: float64\n"
     ]
    }
   ],
   "source": [
    "import pandas as pd \n",
    "import scipy.stats.mstats as mstats\n",
    "import numpy as np\n",
    "\n",
    "vote_df = pd.read_csv(\"PySDS_votingData.csv\")\n",
    "\n",
    "df = pd.DataFrame()\n",
    "\n",
    "for c,i in enumerate(vote_df.iterrows()):\n",
    "    l = list(i[1]) # The list of values from the df\n",
    "    l[l[0]] = np.nan # replacing own group with nan\n",
    "    l = np.array(l[1:]) # getting the ranks for each of the choices\n",
    "    nl = np.ma.masked_invalid(l) # excluding the np.nan\n",
    "    nl = mstats.rankdata(nl) # rank everything, np.nan is always 0\n",
    "    nl[nl == 0] = np.nan # put nan back in. \n",
    "    df[c] = nl # add to dataframe\n",
    "    \n",
    "df = df.T\n",
    "df.columns = [\n",
    "    \"Ker-bit the frog and networks of muppets\",\n",
    "    \"Alicia's group \\\"The Ideal Muppet Show\\\"\",\n",
    "    \"Victor's \\\"64 % Keynote\\\"\",\n",
    "    \"Ole's career ruining presentation\",\n",
    "    \"Lee's \\\"A star is born\\\" \"]\n",
    "\n",
    "ranks = df.sum()\n",
    "print( ranks.sort_values()[0:1] ) # if we just say [0] it returns value, not index + value"
   ]
  },
  {
   "cell_type": "code",
   "execution_count": null,
   "metadata": {},
   "outputs": [],
   "source": []
  }
 ],
 "metadata": {
  "kernelspec": {
   "display_name": "Python 3",
   "language": "python",
   "name": "python3"
  },
  "language_info": {
   "codemirror_mode": {
    "name": "ipython",
    "version": 3
   },
   "file_extension": ".py",
   "mimetype": "text/x-python",
   "name": "python",
   "nbconvert_exporter": "python",
   "pygments_lexer": "ipython3",
   "version": "3.7.0"
  }
 },
 "nbformat": 4,
 "nbformat_minor": 2
}
