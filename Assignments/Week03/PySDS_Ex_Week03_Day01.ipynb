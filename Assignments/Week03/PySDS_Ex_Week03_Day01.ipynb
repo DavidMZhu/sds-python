{
 "cells": [
  {
   "cell_type": "markdown",
   "metadata": {},
   "source": [
    "**PySDS Week 03 Day 01 v.1 - Exercise - Reddit data collection**"
   ]
  },
  {
   "cell_type": "code",
   "execution_count": 14,
   "metadata": {},
   "outputs": [],
   "source": [
    "# Exercise 1. The fastest subreddit in the west. \n",
    "\n",
    "# For the following subreddits, download the first 200 posts that appear, \n",
    "# cleaning out any stickied post (which will ruin this exercise). Then calculate the time\n",
    "# range between the most recent post and the last post.\n",
    "# Plot the time differences on a bar graph. \n",
    "\n",
    "subreddits = [\"pokemon\", \n",
    "              \"muppets\", \n",
    "              \"UNBGBBIIVCHIDCTIICBG\", \n",
    "              \"lego\", \n",
    "              \"TheSimpsons\", \n",
    "              \"relationship_advice\",\n",
    "              \"whatswrongwithyourdog\",\n",
    "              \"subredditoftheday\",\n",
    "              \"aww\"\n",
    "             ]\n",
    "\n",
    "\n",
    "################################\n",
    "# Answer Below Here\n",
    "import json\n",
    "import praw \n",
    "import sys\n",
    "import pandas as pd \n",
    "\n",
    "keys = json.loads(open(\"keys.json\").read())\n",
    "\n",
    "reddit = praw.Reddit(user_agent='Comment Extraction (by /u/berniehogan)',\n",
    "                     client_id=keys['client_id'], \n",
    "                     client_secret=keys['client_secret'],\n",
    "                     username=keys['username'], \n",
    "                     password=keys['password'])"
   ]
  },
  {
   "cell_type": "code",
   "execution_count": 20,
   "metadata": {},
   "outputs": [
    {
     "name": "stdout",
     "output_type": "stream",
     "text": [
      "finished sub pokemon\n",
      "finished sub muppets\n",
      "finished sub UNBGBBIIVCHIDCTIICBG\n",
      "finished sub lego\n",
      "finished sub TheSimpsons\n",
      "finished sub relationship_advice\n",
      "finished sub whatswrongwithyourdog\n",
      "finished sub subredditoftheday\n",
      "finished sub aww\n"
     ]
    }
   ],
   "source": [
    "time_diff_df = pd.DataFrame(index=subreddits,columns=[\"maxtime\",\"mintime\",\"min_time_post\",\"max_time_post\"])\n",
    "\n",
    "for subname in subreddits:\n",
    "\n",
    "    max_time = 0\n",
    "    min_time = sys.maxsize\n",
    "    min_time_post = None\n",
    "    max_time_post = None\n",
    "    sub = reddit.subreddit(subname)\n",
    "    posts = sub.top(limit=25)\n",
    "    for post in posts: \n",
    "        if (post.created_utc < min_time) & (post.stickied == False):\n",
    "            min_time = post.created_utc\n",
    "            min_time_post = post.id\n",
    "        if (post.created_utc > max_time) & (post.stickied == False):\n",
    "            max_time = post.created_utc\n",
    "            max_time_post = post.id\n",
    "            \n",
    "    time_diff_df.loc[subname,\"maxtime\"] = max_time\n",
    "    time_diff_df.loc[subname,\"mintime\"] = min_time\n",
    "    time_diff_df.loc[subname,\"max_time_post\"] = max_time_post\n",
    "    time_diff_df.loc[subname,\"min_time_post\"] = min_time_post\n",
    "\n",
    "    \n",
    "    print(\"finished sub %s\" % subname)\n",
    "    \n",
    "time_diff_df[\"diff\"] = time_diff_df[\"maxtime\"] -  time_diff_df[\"mintime\"]"
   ]
  },
  {
   "cell_type": "code",
   "execution_count": 21,
   "metadata": {},
   "outputs": [
    {
     "data": {
      "text/plain": [
       "<matplotlib.axes._subplots.AxesSubplot at 0x1879423cf60>"
      ]
     },
     "execution_count": 21,
     "metadata": {},
     "output_type": "execute_result"
    },
    {
     "data": {
      "image/png": "[encoded data removed]",
      "text/plain": [
       "<Figure size 432x288 with 1 Axes>"
      ]
     },
     "metadata": {
      "needs_background": "light"
     },
     "output_type": "display_data"
    }
   ],
   "source": [
    "time_diff_df[\"diff\"].plot(kind=\"bar\",logy=True) \n",
    "\n",
    "################################\n",
    "# Peer review comments below here"
   ]
  },
  {
   "cell_type": "code",
   "execution_count": 17,
   "metadata": {},
   "outputs": [
    {
     "data": {
      "text/html": [
       "<div>\n",
       "<style scoped>\n",
       "    .dataframe tbody tr th:only-of-type {\n",
       "        vertical-align: middle;\n",
       "    }\n",
       "\n",
       "    .dataframe tbody tr th {\n",
       "        vertical-align: top;\n",
       "    }\n",
       "\n",
       "    .dataframe thead th {\n",
       "        text-align: right;\n",
       "    }\n",
       "</style>\n",
       "<table border=\"1\" class=\"dataframe\">\n",
       "  <thead>\n",
       "    <tr style=\"text-align: right;\">\n",
       "      <th></th>\n",
       "      <th>maxtime</th>\n",
       "      <th>mintime</th>\n",
       "      <th>min_time_post</th>\n",
       "      <th>max_time_post</th>\n",
       "      <th>diff</th>\n",
       "    </tr>\n",
       "  </thead>\n",
       "  <tbody>\n",
       "    <tr>\n",
       "      <th>pokemon</th>\n",
       "      <td>1.54032e+09</td>\n",
       "      <td>1.54021e+09</td>\n",
       "      <td>9qdpa0</td>\n",
       "      <td>9qrzy8</td>\n",
       "      <td>107271</td>\n",
       "    </tr>\n",
       "    <tr>\n",
       "      <th>muppets</th>\n",
       "      <td>1.54023e+09</td>\n",
       "      <td>1.53783e+09</td>\n",
       "      <td>9ima0n</td>\n",
       "      <td>9qfxe4</td>\n",
       "      <td>2.40268e+06</td>\n",
       "    </tr>\n",
       "    <tr>\n",
       "      <th>UNBGBBIIVCHIDCTIICBG</th>\n",
       "      <td>1.54025e+09</td>\n",
       "      <td>1.53659e+09</td>\n",
       "      <td>9engdb</td>\n",
       "      <td>9qjk1r</td>\n",
       "      <td>3.66453e+06</td>\n",
       "    </tr>\n",
       "    <tr>\n",
       "      <th>lego</th>\n",
       "      <td>1.54032e+09</td>\n",
       "      <td>1.54021e+09</td>\n",
       "      <td>9qdf2a</td>\n",
       "      <td>9qrrnq</td>\n",
       "      <td>107912</td>\n",
       "    </tr>\n",
       "    <tr>\n",
       "      <th>TheSimpsons</th>\n",
       "      <td>1.54032e+09</td>\n",
       "      <td>1.54022e+09</td>\n",
       "      <td>9qecho</td>\n",
       "      <td>9qs39r</td>\n",
       "      <td>103173</td>\n",
       "    </tr>\n",
       "    <tr>\n",
       "      <th>relationship_advice</th>\n",
       "      <td>1.54032e+09</td>\n",
       "      <td>1.54026e+09</td>\n",
       "      <td>9qk4hn</td>\n",
       "      <td>9qs8eh</td>\n",
       "      <td>65481</td>\n",
       "    </tr>\n",
       "    <tr>\n",
       "      <th>whatswrongwithyourdog</th>\n",
       "      <td>1.54032e+09</td>\n",
       "      <td>1.54023e+09</td>\n",
       "      <td>9qfmtg</td>\n",
       "      <td>9qs3tr</td>\n",
       "      <td>94906</td>\n",
       "    </tr>\n",
       "    <tr>\n",
       "      <th>subredditoftheday</th>\n",
       "      <td>1.5403e+09</td>\n",
       "      <td>1.53831e+09</td>\n",
       "      <td>9k5ut8</td>\n",
       "      <td>9qo9w5</td>\n",
       "      <td>1.9872e+06</td>\n",
       "    </tr>\n",
       "    <tr>\n",
       "      <th>aww</th>\n",
       "      <td>1.54031e+09</td>\n",
       "      <td>1.54028e+09</td>\n",
       "      <td>9qn3w4</td>\n",
       "      <td>9qqkx0</td>\n",
       "      <td>27211</td>\n",
       "    </tr>\n",
       "  </tbody>\n",
       "</table>\n",
       "</div>"
      ],
      "text/plain": [
       "                           maxtime      mintime min_time_post max_time_post  \\\n",
       "pokemon                1.54032e+09  1.54021e+09        9qdpa0        9qrzy8   \n",
       "muppets                1.54023e+09  1.53783e+09        9ima0n        9qfxe4   \n",
       "UNBGBBIIVCHIDCTIICBG   1.54025e+09  1.53659e+09        9engdb        9qjk1r   \n",
       "lego                   1.54032e+09  1.54021e+09        9qdf2a        9qrrnq   \n",
       "TheSimpsons            1.54032e+09  1.54022e+09        9qecho        9qs39r   \n",
       "relationship_advice    1.54032e+09  1.54026e+09        9qk4hn        9qs8eh   \n",
       "whatswrongwithyourdog  1.54032e+09  1.54023e+09        9qfmtg        9qs3tr   \n",
       "subredditoftheday       1.5403e+09  1.53831e+09        9k5ut8        9qo9w5   \n",
       "aww                    1.54031e+09  1.54028e+09        9qn3w4        9qqkx0   \n",
       "\n",
       "                              diff  \n",
       "pokemon                     107271  \n",
       "muppets                2.40268e+06  \n",
       "UNBGBBIIVCHIDCTIICBG   3.66453e+06  \n",
       "lego                        107912  \n",
       "TheSimpsons                 103173  \n",
       "relationship_advice          65481  \n",
       "whatswrongwithyourdog        94906  \n",
       "subredditoftheday       1.9872e+06  \n",
       "aww                          27211  "
      ]
     },
     "execution_count": 17,
     "metadata": {},
     "output_type": "execute_result"
    }
   ],
   "source": [
    "time_diff_df"
   ]
  },
  {
   "cell_type": "code",
   "execution_count": null,
   "metadata": {},
   "outputs": [],
   "source": []
  },
  {
   "cell_type": "code",
   "execution_count": 8,
   "metadata": {},
   "outputs": [
    {
     "name": "stdout",
     "output_type": "stream",
     "text": [
      "Populating the interactive namespace from numpy and matplotlib\n"
     ]
    },
    {
     "data": {
      "text/plain": [
       "<matplotlib.axes._subplots.AxesSubplot at 0x187931ba390>"
      ]
     },
     "execution_count": 8,
     "metadata": {},
     "output_type": "execute_result"
    },
    {
     "data": {
      "image/png": "[encoded data removed]",
      "text/plain": [
       "<Figure size 432x288 with 1 Axes>"
      ]
     },
     "metadata": {
      "needs_background": "light"
     },
     "output_type": "display_data"
    }
   ],
   "source": [
    "%pylab inline \n",
    "\n",
    "time_diff_df[\"diff\"].plot(kind=\"bar\") \n"
   ]
  },
  {
   "cell_type": "code",
   "execution_count": null,
   "metadata": {},
   "outputs": [],
   "source": [
    "# Exercise 2.  Testing Gonzalez-Bailon's theories, kinda\n",
    "# Using my code for how to build a comment tree, select two submissions\n",
    "# One that is from a political subreddit of any kind (politics / ukpolitics / etc...)\n",
    "# One that is from a video game or collectible dolls. \n",
    "# Both should have roughly the same number of comments (+/- 100)\n",
    "\n",
    "# Now report the max and the average in-degree at depth = 0 and report the max and average thread depth. \n",
    "# This can be done without networkx by grouping the level-1 depth comments and counting the parent\n",
    "# as in, x[x[depth] = 1], then x.groupby(parent_id).count() -> merge back into orignal data and get average.\n",
    "# or, yknow, ,use networkx, calculate indegree and merge back in. \n",
    "# You don't need to use networkx for the depth, just get the average of the depth, the higher the number the\n",
    "# the deeper the average comment. \n",
    "\n",
    "\n",
    "################################\n",
    "# Answer Below Here\n",
    "\n",
    "\n",
    "\n",
    "\n",
    "################################\n",
    "# Peer review comments below here\n",
    "\n",
    "\n",
    "\n",
    "\n"
   ]
  }
 ],
 "metadata": {
  "kernelspec": {
   "display_name": "Python 3",
   "language": "python",
   "name": "python3"
  },
  "language_info": {
   "codemirror_mode": {
    "name": "ipython",
    "version": 3
   },
   "file_extension": ".py",
   "mimetype": "text/x-python",
   "name": "python",
   "nbconvert_exporter": "python",
   "pygments_lexer": "ipython3",
   "version": "3.7.0"
  }
 },
 "nbformat": 4,
 "nbformat_minor": 2
}
