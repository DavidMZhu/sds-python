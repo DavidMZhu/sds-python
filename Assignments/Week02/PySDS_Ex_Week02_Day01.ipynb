{
 "cells": [
  {
   "cell_type": "markdown",
   "metadata": {},
   "source": [
    "**PySDS Week 02 Day 01 v.1 - Exercise - Manging DataFrames**"
   ]
  },
  {
   "cell_type": "code",
   "execution_count": null,
   "metadata": {},
   "outputs": [],
   "source": [
    "# Recall the small table from week 1. Here it is again. \n",
    "\n",
    "MuppetInput = '''\n",
    "Name\tGender\tSpecies\tFirst Appearance\n",
    "Fozzie\tMale\tBear\t1976\n",
    "Kermit\tMale\tFrog\t1955\n",
    "Piggy\tFemale\tPig\t1974\n",
    "Gonzo\tMale\tUnknown\t1970\n",
    "Rowlf\tMale\tDog\t1962\n",
    "Beaker\tMale\tMuppet\t1977\n",
    "Janice\tFemale\tMuppet\t1975\n",
    "Hilda\tFemale\tMuppet\t1976\n",
    "'''\n",
    "\n",
    "# Step 1. \n",
    "# This time please convert it into a DataFrame \n",
    "x = pd.read_csv(object)\n",
    "# Step 2. Please answer the following questions using the DataFrame:\n",
    "\n",
    "# A. What are the details for Fozzie Bear\n",
    "# - Return these printed in a sentence of the form\n",
    "# - <Name> is a <gender> <species> who first appeared in <date>\n",
    "\n",
    "# B. Who appeared before 1976 (i.e. the year the Muppet Show started).\n",
    "# Return this as a DataFrame. \n",
    "\n",
    "# Step 3 . Adding a row of data\n",
    "# Please add a row for \n",
    "# \"Rizzo\"  a male rat who first appeared in 1980. \n",
    "\n",
    "# Answer \n",
    "\n",
    "\n",
    "\n",
    "# Reviewer's comments\n",
    "\n"
   ]
  },
  {
   "cell_type": "code",
   "execution_count": null,
   "metadata": {},
   "outputs": [],
   "source": [
    "# Creating a DataFrame of Muppet show episodes by season.\n",
    "# * Note, there is a fifth season of the muppets which was not included.\n",
    "#   This will be addressed next week.\n",
    "#\n",
    "# Step 1. \n",
    "#\n",
    "# Using the text from the previous week contained within \n",
    "#  muppet_episodes_by_season.zip\n",
    "# unzip the files (that can be done manually), read each one of them\n",
    "# in as a DataFrame, then merge the dataframes to have a single \n",
    "# dataframe. \n",
    "\n",
    "\n",
    "# Step 2. \n",
    "#\n",
    "# Did any of the guest stars appear more than once? \n",
    "# Did every season have the same number of episodes? \n",
    "\n",
    "\n",
    "# Answer \n",
    "\n",
    "\n",
    "\n",
    "# Reviewer's comments\n",
    "\n"
   ]
  },
  {
   "cell_type": "code",
   "execution_count": null,
   "metadata": {},
   "outputs": [],
   "source": [
    "# Working with a column of data \n",
    "\n",
    "# Using the table of data above split the guest stars name \n",
    "# so that the first name is in its own column. \n",
    "# Find and print the name of the guest star with the longest first name. \n",
    "# Print it in a sentence that also includes the guest star's episode number.\n",
    "\n",
    "# Bonus! Now recall that we were looking for first name, not a group name\n",
    "# So in your answer, split the text. \n",
    "# If the entry has more or less than two entries, discard it.\n",
    "# Does this make a difference? \n",
    "\n",
    "# Answer\n",
    "\n",
    "\n",
    "# Reviewer's comments\n",
    "\n"
   ]
  },
  {
   "cell_type": "code",
   "execution_count": null,
   "metadata": {},
   "outputs": [],
   "source": [
    "# Plotting the data. \n",
    "# Create a histogram of the distribution of first names \n",
    "# (from the previous question). \n",
    "# Hint: series.plot(kind=\"hist\")\n",
    "# What is the average name length? \n",
    "# Is it heavy tailed (answer this to the best of your knowledge)? \n",
    "\n",
    "\n",
    "# Answer \n",
    "\n",
    "\n",
    "\n",
    "# Reviewer's comments\n",
    "\n"
   ]
  }
 ],
 "metadata": {
  "kernelspec": {
   "display_name": "Python 3",
   "language": "python",
   "name": "python3"
  },
  "language_info": {
   "codemirror_mode": {
    "name": "ipython",
    "version": 3
   },
   "file_extension": ".py",
   "mimetype": "text/x-python",
   "name": "python",
   "nbconvert_exporter": "python",
   "pygments_lexer": "ipython3",
   "version": "3.6.5"
  }
 },
 "nbformat": 4,
 "nbformat_minor": 2
}
